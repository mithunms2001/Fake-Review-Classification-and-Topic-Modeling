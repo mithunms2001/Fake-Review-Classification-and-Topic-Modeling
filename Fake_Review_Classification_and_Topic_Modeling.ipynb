{
  "nbformat": 4,
  "nbformat_minor": 0,
  "metadata": {
    "colab": {
      "provenance": [],
      "authorship_tag": "ABX9TyN4mPAJbn+4uBHXo3IC9isR",
      "include_colab_link": true
    },
    "kernelspec": {
      "name": "python3",
      "display_name": "Python 3"
    },
    "language_info": {
      "name": "python"
    },
    "widgets": {
      "application/vnd.jupyter.widget-state+json": {
        "699df4ed5c81431e8da8c0d2add8d0e3": {
          "model_module": "@jupyter-widgets/controls",
          "model_name": "HBoxModel",
          "model_module_version": "1.5.0",
          "state": {
            "_dom_classes": [],
            "_model_module": "@jupyter-widgets/controls",
            "_model_module_version": "1.5.0",
            "_model_name": "HBoxModel",
            "_view_count": null,
            "_view_module": "@jupyter-widgets/controls",
            "_view_module_version": "1.5.0",
            "_view_name": "HBoxView",
            "box_style": "",
            "children": [
              "IPY_MODEL_fca3ebcc5b62462b8d830c3d0469a0cf",
              "IPY_MODEL_106b6f00bb8b45a6bfb37899c76b48da",
              "IPY_MODEL_086af3387eb9453da1fe5a980ad0dd3e"
            ],
            "layout": "IPY_MODEL_9cbc049a1ebd4f4aacd5b94015ff736d"
          }
        },
        "fca3ebcc5b62462b8d830c3d0469a0cf": {
          "model_module": "@jupyter-widgets/controls",
          "model_name": "HTMLModel",
          "model_module_version": "1.5.0",
          "state": {
            "_dom_classes": [],
            "_model_module": "@jupyter-widgets/controls",
            "_model_module_version": "1.5.0",
            "_model_name": "HTMLModel",
            "_view_count": null,
            "_view_module": "@jupyter-widgets/controls",
            "_view_module_version": "1.5.0",
            "_view_name": "HTMLView",
            "description": "",
            "description_tooltip": null,
            "layout": "IPY_MODEL_f019c3e4f6134cf79df935d3d84cc2ee",
            "placeholder": "​",
            "style": "IPY_MODEL_ea38ce0122fe4b3f9f3b38b3e5a4f2ac",
            "value": "tokenizer_config.json: 100%"
          }
        },
        "106b6f00bb8b45a6bfb37899c76b48da": {
          "model_module": "@jupyter-widgets/controls",
          "model_name": "FloatProgressModel",
          "model_module_version": "1.5.0",
          "state": {
            "_dom_classes": [],
            "_model_module": "@jupyter-widgets/controls",
            "_model_module_version": "1.5.0",
            "_model_name": "FloatProgressModel",
            "_view_count": null,
            "_view_module": "@jupyter-widgets/controls",
            "_view_module_version": "1.5.0",
            "_view_name": "ProgressView",
            "bar_style": "success",
            "description": "",
            "description_tooltip": null,
            "layout": "IPY_MODEL_d3395aa1493c4907b7e4a8f1546af4ff",
            "max": 48,
            "min": 0,
            "orientation": "horizontal",
            "style": "IPY_MODEL_e02b7c391d91456ab71ac8a964e83774",
            "value": 48
          }
        },
        "086af3387eb9453da1fe5a980ad0dd3e": {
          "model_module": "@jupyter-widgets/controls",
          "model_name": "HTMLModel",
          "model_module_version": "1.5.0",
          "state": {
            "_dom_classes": [],
            "_model_module": "@jupyter-widgets/controls",
            "_model_module_version": "1.5.0",
            "_model_name": "HTMLModel",
            "_view_count": null,
            "_view_module": "@jupyter-widgets/controls",
            "_view_module_version": "1.5.0",
            "_view_name": "HTMLView",
            "description": "",
            "description_tooltip": null,
            "layout": "IPY_MODEL_9a43f51911bd4e2380fc184e46b4515e",
            "placeholder": "​",
            "style": "IPY_MODEL_7a0a4ee7963f4e84b92436ce91a8ff24",
            "value": " 48.0/48.0 [00:00&lt;00:00, 400B/s]"
          }
        },
        "9cbc049a1ebd4f4aacd5b94015ff736d": {
          "model_module": "@jupyter-widgets/base",
          "model_name": "LayoutModel",
          "model_module_version": "1.2.0",
          "state": {
            "_model_module": "@jupyter-widgets/base",
            "_model_module_version": "1.2.0",
            "_model_name": "LayoutModel",
            "_view_count": null,
            "_view_module": "@jupyter-widgets/base",
            "_view_module_version": "1.2.0",
            "_view_name": "LayoutView",
            "align_content": null,
            "align_items": null,
            "align_self": null,
            "border": null,
            "bottom": null,
            "display": null,
            "flex": null,
            "flex_flow": null,
            "grid_area": null,
            "grid_auto_columns": null,
            "grid_auto_flow": null,
            "grid_auto_rows": null,
            "grid_column": null,
            "grid_gap": null,
            "grid_row": null,
            "grid_template_areas": null,
            "grid_template_columns": null,
            "grid_template_rows": null,
            "height": null,
            "justify_content": null,
            "justify_items": null,
            "left": null,
            "margin": null,
            "max_height": null,
            "max_width": null,
            "min_height": null,
            "min_width": null,
            "object_fit": null,
            "object_position": null,
            "order": null,
            "overflow": null,
            "overflow_x": null,
            "overflow_y": null,
            "padding": null,
            "right": null,
            "top": null,
            "visibility": null,
            "width": null
          }
        },
        "f019c3e4f6134cf79df935d3d84cc2ee": {
          "model_module": "@jupyter-widgets/base",
          "model_name": "LayoutModel",
          "model_module_version": "1.2.0",
          "state": {
            "_model_module": "@jupyter-widgets/base",
            "_model_module_version": "1.2.0",
            "_model_name": "LayoutModel",
            "_view_count": null,
            "_view_module": "@jupyter-widgets/base",
            "_view_module_version": "1.2.0",
            "_view_name": "LayoutView",
            "align_content": null,
            "align_items": null,
            "align_self": null,
            "border": null,
            "bottom": null,
            "display": null,
            "flex": null,
            "flex_flow": null,
            "grid_area": null,
            "grid_auto_columns": null,
            "grid_auto_flow": null,
            "grid_auto_rows": null,
            "grid_column": null,
            "grid_gap": null,
            "grid_row": null,
            "grid_template_areas": null,
            "grid_template_columns": null,
            "grid_template_rows": null,
            "height": null,
            "justify_content": null,
            "justify_items": null,
            "left": null,
            "margin": null,
            "max_height": null,
            "max_width": null,
            "min_height": null,
            "min_width": null,
            "object_fit": null,
            "object_position": null,
            "order": null,
            "overflow": null,
            "overflow_x": null,
            "overflow_y": null,
            "padding": null,
            "right": null,
            "top": null,
            "visibility": null,
            "width": null
          }
        },
        "ea38ce0122fe4b3f9f3b38b3e5a4f2ac": {
          "model_module": "@jupyter-widgets/controls",
          "model_name": "DescriptionStyleModel",
          "model_module_version": "1.5.0",
          "state": {
            "_model_module": "@jupyter-widgets/controls",
            "_model_module_version": "1.5.0",
            "_model_name": "DescriptionStyleModel",
            "_view_count": null,
            "_view_module": "@jupyter-widgets/base",
            "_view_module_version": "1.2.0",
            "_view_name": "StyleView",
            "description_width": ""
          }
        },
        "d3395aa1493c4907b7e4a8f1546af4ff": {
          "model_module": "@jupyter-widgets/base",
          "model_name": "LayoutModel",
          "model_module_version": "1.2.0",
          "state": {
            "_model_module": "@jupyter-widgets/base",
            "_model_module_version": "1.2.0",
            "_model_name": "LayoutModel",
            "_view_count": null,
            "_view_module": "@jupyter-widgets/base",
            "_view_module_version": "1.2.0",
            "_view_name": "LayoutView",
            "align_content": null,
            "align_items": null,
            "align_self": null,
            "border": null,
            "bottom": null,
            "display": null,
            "flex": null,
            "flex_flow": null,
            "grid_area": null,
            "grid_auto_columns": null,
            "grid_auto_flow": null,
            "grid_auto_rows": null,
            "grid_column": null,
            "grid_gap": null,
            "grid_row": null,
            "grid_template_areas": null,
            "grid_template_columns": null,
            "grid_template_rows": null,
            "height": null,
            "justify_content": null,
            "justify_items": null,
            "left": null,
            "margin": null,
            "max_height": null,
            "max_width": null,
            "min_height": null,
            "min_width": null,
            "object_fit": null,
            "object_position": null,
            "order": null,
            "overflow": null,
            "overflow_x": null,
            "overflow_y": null,
            "padding": null,
            "right": null,
            "top": null,
            "visibility": null,
            "width": null
          }
        },
        "e02b7c391d91456ab71ac8a964e83774": {
          "model_module": "@jupyter-widgets/controls",
          "model_name": "ProgressStyleModel",
          "model_module_version": "1.5.0",
          "state": {
            "_model_module": "@jupyter-widgets/controls",
            "_model_module_version": "1.5.0",
            "_model_name": "ProgressStyleModel",
            "_view_count": null,
            "_view_module": "@jupyter-widgets/base",
            "_view_module_version": "1.2.0",
            "_view_name": "StyleView",
            "bar_color": null,
            "description_width": ""
          }
        },
        "9a43f51911bd4e2380fc184e46b4515e": {
          "model_module": "@jupyter-widgets/base",
          "model_name": "LayoutModel",
          "model_module_version": "1.2.0",
          "state": {
            "_model_module": "@jupyter-widgets/base",
            "_model_module_version": "1.2.0",
            "_model_name": "LayoutModel",
            "_view_count": null,
            "_view_module": "@jupyter-widgets/base",
            "_view_module_version": "1.2.0",
            "_view_name": "LayoutView",
            "align_content": null,
            "align_items": null,
            "align_self": null,
            "border": null,
            "bottom": null,
            "display": null,
            "flex": null,
            "flex_flow": null,
            "grid_area": null,
            "grid_auto_columns": null,
            "grid_auto_flow": null,
            "grid_auto_rows": null,
            "grid_column": null,
            "grid_gap": null,
            "grid_row": null,
            "grid_template_areas": null,
            "grid_template_columns": null,
            "grid_template_rows": null,
            "height": null,
            "justify_content": null,
            "justify_items": null,
            "left": null,
            "margin": null,
            "max_height": null,
            "max_width": null,
            "min_height": null,
            "min_width": null,
            "object_fit": null,
            "object_position": null,
            "order": null,
            "overflow": null,
            "overflow_x": null,
            "overflow_y": null,
            "padding": null,
            "right": null,
            "top": null,
            "visibility": null,
            "width": null
          }
        },
        "7a0a4ee7963f4e84b92436ce91a8ff24": {
          "model_module": "@jupyter-widgets/controls",
          "model_name": "DescriptionStyleModel",
          "model_module_version": "1.5.0",
          "state": {
            "_model_module": "@jupyter-widgets/controls",
            "_model_module_version": "1.5.0",
            "_model_name": "DescriptionStyleModel",
            "_view_count": null,
            "_view_module": "@jupyter-widgets/base",
            "_view_module_version": "1.2.0",
            "_view_name": "StyleView",
            "description_width": ""
          }
        },
        "5f5c5be6e1ac42cba214fef0270aeb0b": {
          "model_module": "@jupyter-widgets/controls",
          "model_name": "HBoxModel",
          "model_module_version": "1.5.0",
          "state": {
            "_dom_classes": [],
            "_model_module": "@jupyter-widgets/controls",
            "_model_module_version": "1.5.0",
            "_model_name": "HBoxModel",
            "_view_count": null,
            "_view_module": "@jupyter-widgets/controls",
            "_view_module_version": "1.5.0",
            "_view_name": "HBoxView",
            "box_style": "",
            "children": [
              "IPY_MODEL_2da309c6606e4d7499d420aa971415f6",
              "IPY_MODEL_28def1be870f42f2a2a63fff8410df62",
              "IPY_MODEL_e6e4049ccb4b4a329fc6a2703f4f5fc5"
            ],
            "layout": "IPY_MODEL_4dc2840aee6e4522860f464002d4f99e"
          }
        },
        "2da309c6606e4d7499d420aa971415f6": {
          "model_module": "@jupyter-widgets/controls",
          "model_name": "HTMLModel",
          "model_module_version": "1.5.0",
          "state": {
            "_dom_classes": [],
            "_model_module": "@jupyter-widgets/controls",
            "_model_module_version": "1.5.0",
            "_model_name": "HTMLModel",
            "_view_count": null,
            "_view_module": "@jupyter-widgets/controls",
            "_view_module_version": "1.5.0",
            "_view_name": "HTMLView",
            "description": "",
            "description_tooltip": null,
            "layout": "IPY_MODEL_9d953ff465ee41ec9656dea0ef8359ac",
            "placeholder": "​",
            "style": "IPY_MODEL_8fbb8b7a84324c2caea104e0c3c0d7ca",
            "value": "vocab.txt: 100%"
          }
        },
        "28def1be870f42f2a2a63fff8410df62": {
          "model_module": "@jupyter-widgets/controls",
          "model_name": "FloatProgressModel",
          "model_module_version": "1.5.0",
          "state": {
            "_dom_classes": [],
            "_model_module": "@jupyter-widgets/controls",
            "_model_module_version": "1.5.0",
            "_model_name": "FloatProgressModel",
            "_view_count": null,
            "_view_module": "@jupyter-widgets/controls",
            "_view_module_version": "1.5.0",
            "_view_name": "ProgressView",
            "bar_style": "success",
            "description": "",
            "description_tooltip": null,
            "layout": "IPY_MODEL_88c389db78e043c5b964c59bf59c3bb9",
            "max": 231508,
            "min": 0,
            "orientation": "horizontal",
            "style": "IPY_MODEL_739e4f035a7b4a008f997340f7d9167c",
            "value": 231508
          }
        },
        "e6e4049ccb4b4a329fc6a2703f4f5fc5": {
          "model_module": "@jupyter-widgets/controls",
          "model_name": "HTMLModel",
          "model_module_version": "1.5.0",
          "state": {
            "_dom_classes": [],
            "_model_module": "@jupyter-widgets/controls",
            "_model_module_version": "1.5.0",
            "_model_name": "HTMLModel",
            "_view_count": null,
            "_view_module": "@jupyter-widgets/controls",
            "_view_module_version": "1.5.0",
            "_view_name": "HTMLView",
            "description": "",
            "description_tooltip": null,
            "layout": "IPY_MODEL_9e4b42d97672476bb3c1e9a74a65926e",
            "placeholder": "​",
            "style": "IPY_MODEL_c6836483886b4c8d99aa3d324db8d8e6",
            "value": " 232k/232k [00:00&lt;00:00, 2.00MB/s]"
          }
        },
        "4dc2840aee6e4522860f464002d4f99e": {
          "model_module": "@jupyter-widgets/base",
          "model_name": "LayoutModel",
          "model_module_version": "1.2.0",
          "state": {
            "_model_module": "@jupyter-widgets/base",
            "_model_module_version": "1.2.0",
            "_model_name": "LayoutModel",
            "_view_count": null,
            "_view_module": "@jupyter-widgets/base",
            "_view_module_version": "1.2.0",
            "_view_name": "LayoutView",
            "align_content": null,
            "align_items": null,
            "align_self": null,
            "border": null,
            "bottom": null,
            "display": null,
            "flex": null,
            "flex_flow": null,
            "grid_area": null,
            "grid_auto_columns": null,
            "grid_auto_flow": null,
            "grid_auto_rows": null,
            "grid_column": null,
            "grid_gap": null,
            "grid_row": null,
            "grid_template_areas": null,
            "grid_template_columns": null,
            "grid_template_rows": null,
            "height": null,
            "justify_content": null,
            "justify_items": null,
            "left": null,
            "margin": null,
            "max_height": null,
            "max_width": null,
            "min_height": null,
            "min_width": null,
            "object_fit": null,
            "object_position": null,
            "order": null,
            "overflow": null,
            "overflow_x": null,
            "overflow_y": null,
            "padding": null,
            "right": null,
            "top": null,
            "visibility": null,
            "width": null
          }
        },
        "9d953ff465ee41ec9656dea0ef8359ac": {
          "model_module": "@jupyter-widgets/base",
          "model_name": "LayoutModel",
          "model_module_version": "1.2.0",
          "state": {
            "_model_module": "@jupyter-widgets/base",
            "_model_module_version": "1.2.0",
            "_model_name": "LayoutModel",
            "_view_count": null,
            "_view_module": "@jupyter-widgets/base",
            "_view_module_version": "1.2.0",
            "_view_name": "LayoutView",
            "align_content": null,
            "align_items": null,
            "align_self": null,
            "border": null,
            "bottom": null,
            "display": null,
            "flex": null,
            "flex_flow": null,
            "grid_area": null,
            "grid_auto_columns": null,
            "grid_auto_flow": null,
            "grid_auto_rows": null,
            "grid_column": null,
            "grid_gap": null,
            "grid_row": null,
            "grid_template_areas": null,
            "grid_template_columns": null,
            "grid_template_rows": null,
            "height": null,
            "justify_content": null,
            "justify_items": null,
            "left": null,
            "margin": null,
            "max_height": null,
            "max_width": null,
            "min_height": null,
            "min_width": null,
            "object_fit": null,
            "object_position": null,
            "order": null,
            "overflow": null,
            "overflow_x": null,
            "overflow_y": null,
            "padding": null,
            "right": null,
            "top": null,
            "visibility": null,
            "width": null
          }
        },
        "8fbb8b7a84324c2caea104e0c3c0d7ca": {
          "model_module": "@jupyter-widgets/controls",
          "model_name": "DescriptionStyleModel",
          "model_module_version": "1.5.0",
          "state": {
            "_model_module": "@jupyter-widgets/controls",
            "_model_module_version": "1.5.0",
            "_model_name": "DescriptionStyleModel",
            "_view_count": null,
            "_view_module": "@jupyter-widgets/base",
            "_view_module_version": "1.2.0",
            "_view_name": "StyleView",
            "description_width": ""
          }
        },
        "88c389db78e043c5b964c59bf59c3bb9": {
          "model_module": "@jupyter-widgets/base",
          "model_name": "LayoutModel",
          "model_module_version": "1.2.0",
          "state": {
            "_model_module": "@jupyter-widgets/base",
            "_model_module_version": "1.2.0",
            "_model_name": "LayoutModel",
            "_view_count": null,
            "_view_module": "@jupyter-widgets/base",
            "_view_module_version": "1.2.0",
            "_view_name": "LayoutView",
            "align_content": null,
            "align_items": null,
            "align_self": null,
            "border": null,
            "bottom": null,
            "display": null,
            "flex": null,
            "flex_flow": null,
            "grid_area": null,
            "grid_auto_columns": null,
            "grid_auto_flow": null,
            "grid_auto_rows": null,
            "grid_column": null,
            "grid_gap": null,
            "grid_row": null,
            "grid_template_areas": null,
            "grid_template_columns": null,
            "grid_template_rows": null,
            "height": null,
            "justify_content": null,
            "justify_items": null,
            "left": null,
            "margin": null,
            "max_height": null,
            "max_width": null,
            "min_height": null,
            "min_width": null,
            "object_fit": null,
            "object_position": null,
            "order": null,
            "overflow": null,
            "overflow_x": null,
            "overflow_y": null,
            "padding": null,
            "right": null,
            "top": null,
            "visibility": null,
            "width": null
          }
        },
        "739e4f035a7b4a008f997340f7d9167c": {
          "model_module": "@jupyter-widgets/controls",
          "model_name": "ProgressStyleModel",
          "model_module_version": "1.5.0",
          "state": {
            "_model_module": "@jupyter-widgets/controls",
            "_model_module_version": "1.5.0",
            "_model_name": "ProgressStyleModel",
            "_view_count": null,
            "_view_module": "@jupyter-widgets/base",
            "_view_module_version": "1.2.0",
            "_view_name": "StyleView",
            "bar_color": null,
            "description_width": ""
          }
        },
        "9e4b42d97672476bb3c1e9a74a65926e": {
          "model_module": "@jupyter-widgets/base",
          "model_name": "LayoutModel",
          "model_module_version": "1.2.0",
          "state": {
            "_model_module": "@jupyter-widgets/base",
            "_model_module_version": "1.2.0",
            "_model_name": "LayoutModel",
            "_view_count": null,
            "_view_module": "@jupyter-widgets/base",
            "_view_module_version": "1.2.0",
            "_view_name": "LayoutView",
            "align_content": null,
            "align_items": null,
            "align_self": null,
            "border": null,
            "bottom": null,
            "display": null,
            "flex": null,
            "flex_flow": null,
            "grid_area": null,
            "grid_auto_columns": null,
            "grid_auto_flow": null,
            "grid_auto_rows": null,
            "grid_column": null,
            "grid_gap": null,
            "grid_row": null,
            "grid_template_areas": null,
            "grid_template_columns": null,
            "grid_template_rows": null,
            "height": null,
            "justify_content": null,
            "justify_items": null,
            "left": null,
            "margin": null,
            "max_height": null,
            "max_width": null,
            "min_height": null,
            "min_width": null,
            "object_fit": null,
            "object_position": null,
            "order": null,
            "overflow": null,
            "overflow_x": null,
            "overflow_y": null,
            "padding": null,
            "right": null,
            "top": null,
            "visibility": null,
            "width": null
          }
        },
        "c6836483886b4c8d99aa3d324db8d8e6": {
          "model_module": "@jupyter-widgets/controls",
          "model_name": "DescriptionStyleModel",
          "model_module_version": "1.5.0",
          "state": {
            "_model_module": "@jupyter-widgets/controls",
            "_model_module_version": "1.5.0",
            "_model_name": "DescriptionStyleModel",
            "_view_count": null,
            "_view_module": "@jupyter-widgets/base",
            "_view_module_version": "1.2.0",
            "_view_name": "StyleView",
            "description_width": ""
          }
        },
        "a12165b59a8f4405baf3455e08fcb869": {
          "model_module": "@jupyter-widgets/controls",
          "model_name": "HBoxModel",
          "model_module_version": "1.5.0",
          "state": {
            "_dom_classes": [],
            "_model_module": "@jupyter-widgets/controls",
            "_model_module_version": "1.5.0",
            "_model_name": "HBoxModel",
            "_view_count": null,
            "_view_module": "@jupyter-widgets/controls",
            "_view_module_version": "1.5.0",
            "_view_name": "HBoxView",
            "box_style": "",
            "children": [
              "IPY_MODEL_521ad610b07a4563b7b5d67484ebc2d8",
              "IPY_MODEL_c145f611018744719160cfb5df65a675",
              "IPY_MODEL_b9eb454728cd4cd5b819b6d3b279b0aa"
            ],
            "layout": "IPY_MODEL_3947b87c9e0241a29a609b36e3f6c6c4"
          }
        },
        "521ad610b07a4563b7b5d67484ebc2d8": {
          "model_module": "@jupyter-widgets/controls",
          "model_name": "HTMLModel",
          "model_module_version": "1.5.0",
          "state": {
            "_dom_classes": [],
            "_model_module": "@jupyter-widgets/controls",
            "_model_module_version": "1.5.0",
            "_model_name": "HTMLModel",
            "_view_count": null,
            "_view_module": "@jupyter-widgets/controls",
            "_view_module_version": "1.5.0",
            "_view_name": "HTMLView",
            "description": "",
            "description_tooltip": null,
            "layout": "IPY_MODEL_89cc4ea8bdf6449bbc197eafcf7e85c2",
            "placeholder": "​",
            "style": "IPY_MODEL_96432a91b3f840e8b33289369d78932c",
            "value": "tokenizer.json: 100%"
          }
        },
        "c145f611018744719160cfb5df65a675": {
          "model_module": "@jupyter-widgets/controls",
          "model_name": "FloatProgressModel",
          "model_module_version": "1.5.0",
          "state": {
            "_dom_classes": [],
            "_model_module": "@jupyter-widgets/controls",
            "_model_module_version": "1.5.0",
            "_model_name": "FloatProgressModel",
            "_view_count": null,
            "_view_module": "@jupyter-widgets/controls",
            "_view_module_version": "1.5.0",
            "_view_name": "ProgressView",
            "bar_style": "success",
            "description": "",
            "description_tooltip": null,
            "layout": "IPY_MODEL_45276ba906f646ffac8c05d99d3f64c4",
            "max": 466062,
            "min": 0,
            "orientation": "horizontal",
            "style": "IPY_MODEL_8650ab5a94f741679b86f9fbcb31498b",
            "value": 466062
          }
        },
        "b9eb454728cd4cd5b819b6d3b279b0aa": {
          "model_module": "@jupyter-widgets/controls",
          "model_name": "HTMLModel",
          "model_module_version": "1.5.0",
          "state": {
            "_dom_classes": [],
            "_model_module": "@jupyter-widgets/controls",
            "_model_module_version": "1.5.0",
            "_model_name": "HTMLModel",
            "_view_count": null,
            "_view_module": "@jupyter-widgets/controls",
            "_view_module_version": "1.5.0",
            "_view_name": "HTMLView",
            "description": "",
            "description_tooltip": null,
            "layout": "IPY_MODEL_58b75534663d4411b2cc314aba8a05db",
            "placeholder": "​",
            "style": "IPY_MODEL_d218788fdae0418db9b1b66db1525bfc",
            "value": " 466k/466k [00:00&lt;00:00, 3.43MB/s]"
          }
        },
        "3947b87c9e0241a29a609b36e3f6c6c4": {
          "model_module": "@jupyter-widgets/base",
          "model_name": "LayoutModel",
          "model_module_version": "1.2.0",
          "state": {
            "_model_module": "@jupyter-widgets/base",
            "_model_module_version": "1.2.0",
            "_model_name": "LayoutModel",
            "_view_count": null,
            "_view_module": "@jupyter-widgets/base",
            "_view_module_version": "1.2.0",
            "_view_name": "LayoutView",
            "align_content": null,
            "align_items": null,
            "align_self": null,
            "border": null,
            "bottom": null,
            "display": null,
            "flex": null,
            "flex_flow": null,
            "grid_area": null,
            "grid_auto_columns": null,
            "grid_auto_flow": null,
            "grid_auto_rows": null,
            "grid_column": null,
            "grid_gap": null,
            "grid_row": null,
            "grid_template_areas": null,
            "grid_template_columns": null,
            "grid_template_rows": null,
            "height": null,
            "justify_content": null,
            "justify_items": null,
            "left": null,
            "margin": null,
            "max_height": null,
            "max_width": null,
            "min_height": null,
            "min_width": null,
            "object_fit": null,
            "object_position": null,
            "order": null,
            "overflow": null,
            "overflow_x": null,
            "overflow_y": null,
            "padding": null,
            "right": null,
            "top": null,
            "visibility": null,
            "width": null
          }
        },
        "89cc4ea8bdf6449bbc197eafcf7e85c2": {
          "model_module": "@jupyter-widgets/base",
          "model_name": "LayoutModel",
          "model_module_version": "1.2.0",
          "state": {
            "_model_module": "@jupyter-widgets/base",
            "_model_module_version": "1.2.0",
            "_model_name": "LayoutModel",
            "_view_count": null,
            "_view_module": "@jupyter-widgets/base",
            "_view_module_version": "1.2.0",
            "_view_name": "LayoutView",
            "align_content": null,
            "align_items": null,
            "align_self": null,
            "border": null,
            "bottom": null,
            "display": null,
            "flex": null,
            "flex_flow": null,
            "grid_area": null,
            "grid_auto_columns": null,
            "grid_auto_flow": null,
            "grid_auto_rows": null,
            "grid_column": null,
            "grid_gap": null,
            "grid_row": null,
            "grid_template_areas": null,
            "grid_template_columns": null,
            "grid_template_rows": null,
            "height": null,
            "justify_content": null,
            "justify_items": null,
            "left": null,
            "margin": null,
            "max_height": null,
            "max_width": null,
            "min_height": null,
            "min_width": null,
            "object_fit": null,
            "object_position": null,
            "order": null,
            "overflow": null,
            "overflow_x": null,
            "overflow_y": null,
            "padding": null,
            "right": null,
            "top": null,
            "visibility": null,
            "width": null
          }
        },
        "96432a91b3f840e8b33289369d78932c": {
          "model_module": "@jupyter-widgets/controls",
          "model_name": "DescriptionStyleModel",
          "model_module_version": "1.5.0",
          "state": {
            "_model_module": "@jupyter-widgets/controls",
            "_model_module_version": "1.5.0",
            "_model_name": "DescriptionStyleModel",
            "_view_count": null,
            "_view_module": "@jupyter-widgets/base",
            "_view_module_version": "1.2.0",
            "_view_name": "StyleView",
            "description_width": ""
          }
        },
        "45276ba906f646ffac8c05d99d3f64c4": {
          "model_module": "@jupyter-widgets/base",
          "model_name": "LayoutModel",
          "model_module_version": "1.2.0",
          "state": {
            "_model_module": "@jupyter-widgets/base",
            "_model_module_version": "1.2.0",
            "_model_name": "LayoutModel",
            "_view_count": null,
            "_view_module": "@jupyter-widgets/base",
            "_view_module_version": "1.2.0",
            "_view_name": "LayoutView",
            "align_content": null,
            "align_items": null,
            "align_self": null,
            "border": null,
            "bottom": null,
            "display": null,
            "flex": null,
            "flex_flow": null,
            "grid_area": null,
            "grid_auto_columns": null,
            "grid_auto_flow": null,
            "grid_auto_rows": null,
            "grid_column": null,
            "grid_gap": null,
            "grid_row": null,
            "grid_template_areas": null,
            "grid_template_columns": null,
            "grid_template_rows": null,
            "height": null,
            "justify_content": null,
            "justify_items": null,
            "left": null,
            "margin": null,
            "max_height": null,
            "max_width": null,
            "min_height": null,
            "min_width": null,
            "object_fit": null,
            "object_position": null,
            "order": null,
            "overflow": null,
            "overflow_x": null,
            "overflow_y": null,
            "padding": null,
            "right": null,
            "top": null,
            "visibility": null,
            "width": null
          }
        },
        "8650ab5a94f741679b86f9fbcb31498b": {
          "model_module": "@jupyter-widgets/controls",
          "model_name": "ProgressStyleModel",
          "model_module_version": "1.5.0",
          "state": {
            "_model_module": "@jupyter-widgets/controls",
            "_model_module_version": "1.5.0",
            "_model_name": "ProgressStyleModel",
            "_view_count": null,
            "_view_module": "@jupyter-widgets/base",
            "_view_module_version": "1.2.0",
            "_view_name": "StyleView",
            "bar_color": null,
            "description_width": ""
          }
        },
        "58b75534663d4411b2cc314aba8a05db": {
          "model_module": "@jupyter-widgets/base",
          "model_name": "LayoutModel",
          "model_module_version": "1.2.0",
          "state": {
            "_model_module": "@jupyter-widgets/base",
            "_model_module_version": "1.2.0",
            "_model_name": "LayoutModel",
            "_view_count": null,
            "_view_module": "@jupyter-widgets/base",
            "_view_module_version": "1.2.0",
            "_view_name": "LayoutView",
            "align_content": null,
            "align_items": null,
            "align_self": null,
            "border": null,
            "bottom": null,
            "display": null,
            "flex": null,
            "flex_flow": null,
            "grid_area": null,
            "grid_auto_columns": null,
            "grid_auto_flow": null,
            "grid_auto_rows": null,
            "grid_column": null,
            "grid_gap": null,
            "grid_row": null,
            "grid_template_areas": null,
            "grid_template_columns": null,
            "grid_template_rows": null,
            "height": null,
            "justify_content": null,
            "justify_items": null,
            "left": null,
            "margin": null,
            "max_height": null,
            "max_width": null,
            "min_height": null,
            "min_width": null,
            "object_fit": null,
            "object_position": null,
            "order": null,
            "overflow": null,
            "overflow_x": null,
            "overflow_y": null,
            "padding": null,
            "right": null,
            "top": null,
            "visibility": null,
            "width": null
          }
        },
        "d218788fdae0418db9b1b66db1525bfc": {
          "model_module": "@jupyter-widgets/controls",
          "model_name": "DescriptionStyleModel",
          "model_module_version": "1.5.0",
          "state": {
            "_model_module": "@jupyter-widgets/controls",
            "_model_module_version": "1.5.0",
            "_model_name": "DescriptionStyleModel",
            "_view_count": null,
            "_view_module": "@jupyter-widgets/base",
            "_view_module_version": "1.2.0",
            "_view_name": "StyleView",
            "description_width": ""
          }
        },
        "16a2bb55772344e8b23b76c8bb577ccd": {
          "model_module": "@jupyter-widgets/controls",
          "model_name": "HBoxModel",
          "model_module_version": "1.5.0",
          "state": {
            "_dom_classes": [],
            "_model_module": "@jupyter-widgets/controls",
            "_model_module_version": "1.5.0",
            "_model_name": "HBoxModel",
            "_view_count": null,
            "_view_module": "@jupyter-widgets/controls",
            "_view_module_version": "1.5.0",
            "_view_name": "HBoxView",
            "box_style": "",
            "children": [
              "IPY_MODEL_c704da3c70564ec0931ea95bc7556796",
              "IPY_MODEL_ed2cde2a12be4d68807d917936d82be7",
              "IPY_MODEL_31b506d3e70f47b090bd0d94318d5159"
            ],
            "layout": "IPY_MODEL_3ddb2697729b4fff8a050d5e9702a7ea"
          }
        },
        "c704da3c70564ec0931ea95bc7556796": {
          "model_module": "@jupyter-widgets/controls",
          "model_name": "HTMLModel",
          "model_module_version": "1.5.0",
          "state": {
            "_dom_classes": [],
            "_model_module": "@jupyter-widgets/controls",
            "_model_module_version": "1.5.0",
            "_model_name": "HTMLModel",
            "_view_count": null,
            "_view_module": "@jupyter-widgets/controls",
            "_view_module_version": "1.5.0",
            "_view_name": "HTMLView",
            "description": "",
            "description_tooltip": null,
            "layout": "IPY_MODEL_bf8ce60c92514aeaa88345fe9b8fb526",
            "placeholder": "​",
            "style": "IPY_MODEL_a1a1bb38d5c340909e5587bce111cc4a",
            "value": "config.json: 100%"
          }
        },
        "ed2cde2a12be4d68807d917936d82be7": {
          "model_module": "@jupyter-widgets/controls",
          "model_name": "FloatProgressModel",
          "model_module_version": "1.5.0",
          "state": {
            "_dom_classes": [],
            "_model_module": "@jupyter-widgets/controls",
            "_model_module_version": "1.5.0",
            "_model_name": "FloatProgressModel",
            "_view_count": null,
            "_view_module": "@jupyter-widgets/controls",
            "_view_module_version": "1.5.0",
            "_view_name": "ProgressView",
            "bar_style": "success",
            "description": "",
            "description_tooltip": null,
            "layout": "IPY_MODEL_4473ae13aab34fceadb7a8f752a4f27e",
            "max": 570,
            "min": 0,
            "orientation": "horizontal",
            "style": "IPY_MODEL_454bc1bc75864a00a8683a17f65f1c84",
            "value": 570
          }
        },
        "31b506d3e70f47b090bd0d94318d5159": {
          "model_module": "@jupyter-widgets/controls",
          "model_name": "HTMLModel",
          "model_module_version": "1.5.0",
          "state": {
            "_dom_classes": [],
            "_model_module": "@jupyter-widgets/controls",
            "_model_module_version": "1.5.0",
            "_model_name": "HTMLModel",
            "_view_count": null,
            "_view_module": "@jupyter-widgets/controls",
            "_view_module_version": "1.5.0",
            "_view_name": "HTMLView",
            "description": "",
            "description_tooltip": null,
            "layout": "IPY_MODEL_a71594b50f974b2e9b55cc667910bc22",
            "placeholder": "​",
            "style": "IPY_MODEL_60e07443f34a4deb99e0951cb0b1e15f",
            "value": " 570/570 [00:00&lt;00:00, 6.46kB/s]"
          }
        },
        "3ddb2697729b4fff8a050d5e9702a7ea": {
          "model_module": "@jupyter-widgets/base",
          "model_name": "LayoutModel",
          "model_module_version": "1.2.0",
          "state": {
            "_model_module": "@jupyter-widgets/base",
            "_model_module_version": "1.2.0",
            "_model_name": "LayoutModel",
            "_view_count": null,
            "_view_module": "@jupyter-widgets/base",
            "_view_module_version": "1.2.0",
            "_view_name": "LayoutView",
            "align_content": null,
            "align_items": null,
            "align_self": null,
            "border": null,
            "bottom": null,
            "display": null,
            "flex": null,
            "flex_flow": null,
            "grid_area": null,
            "grid_auto_columns": null,
            "grid_auto_flow": null,
            "grid_auto_rows": null,
            "grid_column": null,
            "grid_gap": null,
            "grid_row": null,
            "grid_template_areas": null,
            "grid_template_columns": null,
            "grid_template_rows": null,
            "height": null,
            "justify_content": null,
            "justify_items": null,
            "left": null,
            "margin": null,
            "max_height": null,
            "max_width": null,
            "min_height": null,
            "min_width": null,
            "object_fit": null,
            "object_position": null,
            "order": null,
            "overflow": null,
            "overflow_x": null,
            "overflow_y": null,
            "padding": null,
            "right": null,
            "top": null,
            "visibility": null,
            "width": null
          }
        },
        "bf8ce60c92514aeaa88345fe9b8fb526": {
          "model_module": "@jupyter-widgets/base",
          "model_name": "LayoutModel",
          "model_module_version": "1.2.0",
          "state": {
            "_model_module": "@jupyter-widgets/base",
            "_model_module_version": "1.2.0",
            "_model_name": "LayoutModel",
            "_view_count": null,
            "_view_module": "@jupyter-widgets/base",
            "_view_module_version": "1.2.0",
            "_view_name": "LayoutView",
            "align_content": null,
            "align_items": null,
            "align_self": null,
            "border": null,
            "bottom": null,
            "display": null,
            "flex": null,
            "flex_flow": null,
            "grid_area": null,
            "grid_auto_columns": null,
            "grid_auto_flow": null,
            "grid_auto_rows": null,
            "grid_column": null,
            "grid_gap": null,
            "grid_row": null,
            "grid_template_areas": null,
            "grid_template_columns": null,
            "grid_template_rows": null,
            "height": null,
            "justify_content": null,
            "justify_items": null,
            "left": null,
            "margin": null,
            "max_height": null,
            "max_width": null,
            "min_height": null,
            "min_width": null,
            "object_fit": null,
            "object_position": null,
            "order": null,
            "overflow": null,
            "overflow_x": null,
            "overflow_y": null,
            "padding": null,
            "right": null,
            "top": null,
            "visibility": null,
            "width": null
          }
        },
        "a1a1bb38d5c340909e5587bce111cc4a": {
          "model_module": "@jupyter-widgets/controls",
          "model_name": "DescriptionStyleModel",
          "model_module_version": "1.5.0",
          "state": {
            "_model_module": "@jupyter-widgets/controls",
            "_model_module_version": "1.5.0",
            "_model_name": "DescriptionStyleModel",
            "_view_count": null,
            "_view_module": "@jupyter-widgets/base",
            "_view_module_version": "1.2.0",
            "_view_name": "StyleView",
            "description_width": ""
          }
        },
        "4473ae13aab34fceadb7a8f752a4f27e": {
          "model_module": "@jupyter-widgets/base",
          "model_name": "LayoutModel",
          "model_module_version": "1.2.0",
          "state": {
            "_model_module": "@jupyter-widgets/base",
            "_model_module_version": "1.2.0",
            "_model_name": "LayoutModel",
            "_view_count": null,
            "_view_module": "@jupyter-widgets/base",
            "_view_module_version": "1.2.0",
            "_view_name": "LayoutView",
            "align_content": null,
            "align_items": null,
            "align_self": null,
            "border": null,
            "bottom": null,
            "display": null,
            "flex": null,
            "flex_flow": null,
            "grid_area": null,
            "grid_auto_columns": null,
            "grid_auto_flow": null,
            "grid_auto_rows": null,
            "grid_column": null,
            "grid_gap": null,
            "grid_row": null,
            "grid_template_areas": null,
            "grid_template_columns": null,
            "grid_template_rows": null,
            "height": null,
            "justify_content": null,
            "justify_items": null,
            "left": null,
            "margin": null,
            "max_height": null,
            "max_width": null,
            "min_height": null,
            "min_width": null,
            "object_fit": null,
            "object_position": null,
            "order": null,
            "overflow": null,
            "overflow_x": null,
            "overflow_y": null,
            "padding": null,
            "right": null,
            "top": null,
            "visibility": null,
            "width": null
          }
        },
        "454bc1bc75864a00a8683a17f65f1c84": {
          "model_module": "@jupyter-widgets/controls",
          "model_name": "ProgressStyleModel",
          "model_module_version": "1.5.0",
          "state": {
            "_model_module": "@jupyter-widgets/controls",
            "_model_module_version": "1.5.0",
            "_model_name": "ProgressStyleModel",
            "_view_count": null,
            "_view_module": "@jupyter-widgets/base",
            "_view_module_version": "1.2.0",
            "_view_name": "StyleView",
            "bar_color": null,
            "description_width": ""
          }
        },
        "a71594b50f974b2e9b55cc667910bc22": {
          "model_module": "@jupyter-widgets/base",
          "model_name": "LayoutModel",
          "model_module_version": "1.2.0",
          "state": {
            "_model_module": "@jupyter-widgets/base",
            "_model_module_version": "1.2.0",
            "_model_name": "LayoutModel",
            "_view_count": null,
            "_view_module": "@jupyter-widgets/base",
            "_view_module_version": "1.2.0",
            "_view_name": "LayoutView",
            "align_content": null,
            "align_items": null,
            "align_self": null,
            "border": null,
            "bottom": null,
            "display": null,
            "flex": null,
            "flex_flow": null,
            "grid_area": null,
            "grid_auto_columns": null,
            "grid_auto_flow": null,
            "grid_auto_rows": null,
            "grid_column": null,
            "grid_gap": null,
            "grid_row": null,
            "grid_template_areas": null,
            "grid_template_columns": null,
            "grid_template_rows": null,
            "height": null,
            "justify_content": null,
            "justify_items": null,
            "left": null,
            "margin": null,
            "max_height": null,
            "max_width": null,
            "min_height": null,
            "min_width": null,
            "object_fit": null,
            "object_position": null,
            "order": null,
            "overflow": null,
            "overflow_x": null,
            "overflow_y": null,
            "padding": null,
            "right": null,
            "top": null,
            "visibility": null,
            "width": null
          }
        },
        "60e07443f34a4deb99e0951cb0b1e15f": {
          "model_module": "@jupyter-widgets/controls",
          "model_name": "DescriptionStyleModel",
          "model_module_version": "1.5.0",
          "state": {
            "_model_module": "@jupyter-widgets/controls",
            "_model_module_version": "1.5.0",
            "_model_name": "DescriptionStyleModel",
            "_view_count": null,
            "_view_module": "@jupyter-widgets/base",
            "_view_module_version": "1.2.0",
            "_view_name": "StyleView",
            "description_width": ""
          }
        },
        "71932f75976a41c7acab8c0c6eab27c2": {
          "model_module": "@jupyter-widgets/controls",
          "model_name": "HBoxModel",
          "model_module_version": "1.5.0",
          "state": {
            "_dom_classes": [],
            "_model_module": "@jupyter-widgets/controls",
            "_model_module_version": "1.5.0",
            "_model_name": "HBoxModel",
            "_view_count": null,
            "_view_module": "@jupyter-widgets/controls",
            "_view_module_version": "1.5.0",
            "_view_name": "HBoxView",
            "box_style": "",
            "children": [
              "IPY_MODEL_d84ad47fa7174236abdb4d0e5d5ef313",
              "IPY_MODEL_0f2246fc3af64085974db504797d8b71",
              "IPY_MODEL_df1a71304d164fa49daa1c70806a330c"
            ],
            "layout": "IPY_MODEL_bade75d371064f42bb7b11e734f6ba5b"
          }
        },
        "d84ad47fa7174236abdb4d0e5d5ef313": {
          "model_module": "@jupyter-widgets/controls",
          "model_name": "HTMLModel",
          "model_module_version": "1.5.0",
          "state": {
            "_dom_classes": [],
            "_model_module": "@jupyter-widgets/controls",
            "_model_module_version": "1.5.0",
            "_model_name": "HTMLModel",
            "_view_count": null,
            "_view_module": "@jupyter-widgets/controls",
            "_view_module_version": "1.5.0",
            "_view_name": "HTMLView",
            "description": "",
            "description_tooltip": null,
            "layout": "IPY_MODEL_e9b07e8b68ee41a8a77c786ba42b87c0",
            "placeholder": "​",
            "style": "IPY_MODEL_a468849d9e0e40a9acf9a51bc78f6e2f",
            "value": "model.safetensors: 100%"
          }
        },
        "0f2246fc3af64085974db504797d8b71": {
          "model_module": "@jupyter-widgets/controls",
          "model_name": "FloatProgressModel",
          "model_module_version": "1.5.0",
          "state": {
            "_dom_classes": [],
            "_model_module": "@jupyter-widgets/controls",
            "_model_module_version": "1.5.0",
            "_model_name": "FloatProgressModel",
            "_view_count": null,
            "_view_module": "@jupyter-widgets/controls",
            "_view_module_version": "1.5.0",
            "_view_name": "ProgressView",
            "bar_style": "success",
            "description": "",
            "description_tooltip": null,
            "layout": "IPY_MODEL_719310442a404f4186a44e290ad23cb4",
            "max": 440449768,
            "min": 0,
            "orientation": "horizontal",
            "style": "IPY_MODEL_50ba13dfb1654aa8903f09bfdfff755d",
            "value": 440449768
          }
        },
        "df1a71304d164fa49daa1c70806a330c": {
          "model_module": "@jupyter-widgets/controls",
          "model_name": "HTMLModel",
          "model_module_version": "1.5.0",
          "state": {
            "_dom_classes": [],
            "_model_module": "@jupyter-widgets/controls",
            "_model_module_version": "1.5.0",
            "_model_name": "HTMLModel",
            "_view_count": null,
            "_view_module": "@jupyter-widgets/controls",
            "_view_module_version": "1.5.0",
            "_view_name": "HTMLView",
            "description": "",
            "description_tooltip": null,
            "layout": "IPY_MODEL_f10cfb68f91d4521a8c256030d35c6f0",
            "placeholder": "​",
            "style": "IPY_MODEL_5f3b2b3d03ac4172810baf73d482dfc1",
            "value": " 440M/440M [00:08&lt;00:00, 60.5MB/s]"
          }
        },
        "bade75d371064f42bb7b11e734f6ba5b": {
          "model_module": "@jupyter-widgets/base",
          "model_name": "LayoutModel",
          "model_module_version": "1.2.0",
          "state": {
            "_model_module": "@jupyter-widgets/base",
            "_model_module_version": "1.2.0",
            "_model_name": "LayoutModel",
            "_view_count": null,
            "_view_module": "@jupyter-widgets/base",
            "_view_module_version": "1.2.0",
            "_view_name": "LayoutView",
            "align_content": null,
            "align_items": null,
            "align_self": null,
            "border": null,
            "bottom": null,
            "display": null,
            "flex": null,
            "flex_flow": null,
            "grid_area": null,
            "grid_auto_columns": null,
            "grid_auto_flow": null,
            "grid_auto_rows": null,
            "grid_column": null,
            "grid_gap": null,
            "grid_row": null,
            "grid_template_areas": null,
            "grid_template_columns": null,
            "grid_template_rows": null,
            "height": null,
            "justify_content": null,
            "justify_items": null,
            "left": null,
            "margin": null,
            "max_height": null,
            "max_width": null,
            "min_height": null,
            "min_width": null,
            "object_fit": null,
            "object_position": null,
            "order": null,
            "overflow": null,
            "overflow_x": null,
            "overflow_y": null,
            "padding": null,
            "right": null,
            "top": null,
            "visibility": null,
            "width": null
          }
        },
        "e9b07e8b68ee41a8a77c786ba42b87c0": {
          "model_module": "@jupyter-widgets/base",
          "model_name": "LayoutModel",
          "model_module_version": "1.2.0",
          "state": {
            "_model_module": "@jupyter-widgets/base",
            "_model_module_version": "1.2.0",
            "_model_name": "LayoutModel",
            "_view_count": null,
            "_view_module": "@jupyter-widgets/base",
            "_view_module_version": "1.2.0",
            "_view_name": "LayoutView",
            "align_content": null,
            "align_items": null,
            "align_self": null,
            "border": null,
            "bottom": null,
            "display": null,
            "flex": null,
            "flex_flow": null,
            "grid_area": null,
            "grid_auto_columns": null,
            "grid_auto_flow": null,
            "grid_auto_rows": null,
            "grid_column": null,
            "grid_gap": null,
            "grid_row": null,
            "grid_template_areas": null,
            "grid_template_columns": null,
            "grid_template_rows": null,
            "height": null,
            "justify_content": null,
            "justify_items": null,
            "left": null,
            "margin": null,
            "max_height": null,
            "max_width": null,
            "min_height": null,
            "min_width": null,
            "object_fit": null,
            "object_position": null,
            "order": null,
            "overflow": null,
            "overflow_x": null,
            "overflow_y": null,
            "padding": null,
            "right": null,
            "top": null,
            "visibility": null,
            "width": null
          }
        },
        "a468849d9e0e40a9acf9a51bc78f6e2f": {
          "model_module": "@jupyter-widgets/controls",
          "model_name": "DescriptionStyleModel",
          "model_module_version": "1.5.0",
          "state": {
            "_model_module": "@jupyter-widgets/controls",
            "_model_module_version": "1.5.0",
            "_model_name": "DescriptionStyleModel",
            "_view_count": null,
            "_view_module": "@jupyter-widgets/base",
            "_view_module_version": "1.2.0",
            "_view_name": "StyleView",
            "description_width": ""
          }
        },
        "719310442a404f4186a44e290ad23cb4": {
          "model_module": "@jupyter-widgets/base",
          "model_name": "LayoutModel",
          "model_module_version": "1.2.0",
          "state": {
            "_model_module": "@jupyter-widgets/base",
            "_model_module_version": "1.2.0",
            "_model_name": "LayoutModel",
            "_view_count": null,
            "_view_module": "@jupyter-widgets/base",
            "_view_module_version": "1.2.0",
            "_view_name": "LayoutView",
            "align_content": null,
            "align_items": null,
            "align_self": null,
            "border": null,
            "bottom": null,
            "display": null,
            "flex": null,
            "flex_flow": null,
            "grid_area": null,
            "grid_auto_columns": null,
            "grid_auto_flow": null,
            "grid_auto_rows": null,
            "grid_column": null,
            "grid_gap": null,
            "grid_row": null,
            "grid_template_areas": null,
            "grid_template_columns": null,
            "grid_template_rows": null,
            "height": null,
            "justify_content": null,
            "justify_items": null,
            "left": null,
            "margin": null,
            "max_height": null,
            "max_width": null,
            "min_height": null,
            "min_width": null,
            "object_fit": null,
            "object_position": null,
            "order": null,
            "overflow": null,
            "overflow_x": null,
            "overflow_y": null,
            "padding": null,
            "right": null,
            "top": null,
            "visibility": null,
            "width": null
          }
        },
        "50ba13dfb1654aa8903f09bfdfff755d": {
          "model_module": "@jupyter-widgets/controls",
          "model_name": "ProgressStyleModel",
          "model_module_version": "1.5.0",
          "state": {
            "_model_module": "@jupyter-widgets/controls",
            "_model_module_version": "1.5.0",
            "_model_name": "ProgressStyleModel",
            "_view_count": null,
            "_view_module": "@jupyter-widgets/base",
            "_view_module_version": "1.2.0",
            "_view_name": "StyleView",
            "bar_color": null,
            "description_width": ""
          }
        },
        "f10cfb68f91d4521a8c256030d35c6f0": {
          "model_module": "@jupyter-widgets/base",
          "model_name": "LayoutModel",
          "model_module_version": "1.2.0",
          "state": {
            "_model_module": "@jupyter-widgets/base",
            "_model_module_version": "1.2.0",
            "_model_name": "LayoutModel",
            "_view_count": null,
            "_view_module": "@jupyter-widgets/base",
            "_view_module_version": "1.2.0",
            "_view_name": "LayoutView",
            "align_content": null,
            "align_items": null,
            "align_self": null,
            "border": null,
            "bottom": null,
            "display": null,
            "flex": null,
            "flex_flow": null,
            "grid_area": null,
            "grid_auto_columns": null,
            "grid_auto_flow": null,
            "grid_auto_rows": null,
            "grid_column": null,
            "grid_gap": null,
            "grid_row": null,
            "grid_template_areas": null,
            "grid_template_columns": null,
            "grid_template_rows": null,
            "height": null,
            "justify_content": null,
            "justify_items": null,
            "left": null,
            "margin": null,
            "max_height": null,
            "max_width": null,
            "min_height": null,
            "min_width": null,
            "object_fit": null,
            "object_position": null,
            "order": null,
            "overflow": null,
            "overflow_x": null,
            "overflow_y": null,
            "padding": null,
            "right": null,
            "top": null,
            "visibility": null,
            "width": null
          }
        },
        "5f3b2b3d03ac4172810baf73d482dfc1": {
          "model_module": "@jupyter-widgets/controls",
          "model_name": "DescriptionStyleModel",
          "model_module_version": "1.5.0",
          "state": {
            "_model_module": "@jupyter-widgets/controls",
            "_model_module_version": "1.5.0",
            "_model_name": "DescriptionStyleModel",
            "_view_count": null,
            "_view_module": "@jupyter-widgets/base",
            "_view_module_version": "1.2.0",
            "_view_name": "StyleView",
            "description_width": ""
          }
        }
      }
    }
  },
  "cells": [
    {
      "cell_type": "markdown",
      "metadata": {
        "id": "view-in-github",
        "colab_type": "text"
      },
      "source": [
        "<a href=\"https://colab.research.google.com/github/mithunms2001/Fake-Review-Classification-and-Topic-Modeling/blob/main/Fake_Review_Classification_and_Topic_Modeling.ipynb\" target=\"_parent\"><img src=\"https://colab.research.google.com/assets/colab-badge.svg\" alt=\"Open In Colab\"/></a>"
      ]
    },
    {
      "cell_type": "code",
      "execution_count": null,
      "metadata": {
        "id": "s0kbl1cb1gSu",
        "colab": {
          "base_uri": "https://localhost:8080/",
          "height": 206
        },
        "outputId": "2015c306-9a98-4cb6-e264-626cbdba0042"
      },
      "outputs": [
        {
          "output_type": "execute_result",
          "data": {
            "text/plain": [
              "             category  rating label  \\\n",
              "0  Home_and_Kitchen_5     5.0    CG   \n",
              "1  Home_and_Kitchen_5     5.0    CG   \n",
              "2  Home_and_Kitchen_5     5.0    CG   \n",
              "3  Home_and_Kitchen_5     1.0    CG   \n",
              "4  Home_and_Kitchen_5     5.0    CG   \n",
              "\n",
              "                                               text_  \n",
              "0  Love this!  Well made, sturdy, and very comfor...  \n",
              "1  love it, a great upgrade from the original.  I...  \n",
              "2  This pillow saved my back. I love the look and...  \n",
              "3  Missing information on how to use it, but it i...  \n",
              "4  Very nice set. Good quality. We have had the s...  "
            ],
            "text/html": [
              "\n",
              "  <div id=\"df-8c2177fb-54d7-4024-88ac-6ce214a6aa7b\" class=\"colab-df-container\">\n",
              "    <div>\n",
              "<style scoped>\n",
              "    .dataframe tbody tr th:only-of-type {\n",
              "        vertical-align: middle;\n",
              "    }\n",
              "\n",
              "    .dataframe tbody tr th {\n",
              "        vertical-align: top;\n",
              "    }\n",
              "\n",
              "    .dataframe thead th {\n",
              "        text-align: right;\n",
              "    }\n",
              "</style>\n",
              "<table border=\"1\" class=\"dataframe\">\n",
              "  <thead>\n",
              "    <tr style=\"text-align: right;\">\n",
              "      <th></th>\n",
              "      <th>category</th>\n",
              "      <th>rating</th>\n",
              "      <th>label</th>\n",
              "      <th>text_</th>\n",
              "    </tr>\n",
              "  </thead>\n",
              "  <tbody>\n",
              "    <tr>\n",
              "      <th>0</th>\n",
              "      <td>Home_and_Kitchen_5</td>\n",
              "      <td>5.0</td>\n",
              "      <td>CG</td>\n",
              "      <td>Love this!  Well made, sturdy, and very comfor...</td>\n",
              "    </tr>\n",
              "    <tr>\n",
              "      <th>1</th>\n",
              "      <td>Home_and_Kitchen_5</td>\n",
              "      <td>5.0</td>\n",
              "      <td>CG</td>\n",
              "      <td>love it, a great upgrade from the original.  I...</td>\n",
              "    </tr>\n",
              "    <tr>\n",
              "      <th>2</th>\n",
              "      <td>Home_and_Kitchen_5</td>\n",
              "      <td>5.0</td>\n",
              "      <td>CG</td>\n",
              "      <td>This pillow saved my back. I love the look and...</td>\n",
              "    </tr>\n",
              "    <tr>\n",
              "      <th>3</th>\n",
              "      <td>Home_and_Kitchen_5</td>\n",
              "      <td>1.0</td>\n",
              "      <td>CG</td>\n",
              "      <td>Missing information on how to use it, but it i...</td>\n",
              "    </tr>\n",
              "    <tr>\n",
              "      <th>4</th>\n",
              "      <td>Home_and_Kitchen_5</td>\n",
              "      <td>5.0</td>\n",
              "      <td>CG</td>\n",
              "      <td>Very nice set. Good quality. We have had the s...</td>\n",
              "    </tr>\n",
              "  </tbody>\n",
              "</table>\n",
              "</div>\n",
              "    <div class=\"colab-df-buttons\">\n",
              "\n",
              "  <div class=\"colab-df-container\">\n",
              "    <button class=\"colab-df-convert\" onclick=\"convertToInteractive('df-8c2177fb-54d7-4024-88ac-6ce214a6aa7b')\"\n",
              "            title=\"Convert this dataframe to an interactive table.\"\n",
              "            style=\"display:none;\">\n",
              "\n",
              "  <svg xmlns=\"http://www.w3.org/2000/svg\" height=\"24px\" viewBox=\"0 -960 960 960\">\n",
              "    <path d=\"M120-120v-720h720v720H120Zm60-500h600v-160H180v160Zm220 220h160v-160H400v160Zm0 220h160v-160H400v160ZM180-400h160v-160H180v160Zm440 0h160v-160H620v160ZM180-180h160v-160H180v160Zm440 0h160v-160H620v160Z\"/>\n",
              "  </svg>\n",
              "    </button>\n",
              "\n",
              "  <style>\n",
              "    .colab-df-container {\n",
              "      display:flex;\n",
              "      gap: 12px;\n",
              "    }\n",
              "\n",
              "    .colab-df-convert {\n",
              "      background-color: #E8F0FE;\n",
              "      border: none;\n",
              "      border-radius: 50%;\n",
              "      cursor: pointer;\n",
              "      display: none;\n",
              "      fill: #1967D2;\n",
              "      height: 32px;\n",
              "      padding: 0 0 0 0;\n",
              "      width: 32px;\n",
              "    }\n",
              "\n",
              "    .colab-df-convert:hover {\n",
              "      background-color: #E2EBFA;\n",
              "      box-shadow: 0px 1px 2px rgba(60, 64, 67, 0.3), 0px 1px 3px 1px rgba(60, 64, 67, 0.15);\n",
              "      fill: #174EA6;\n",
              "    }\n",
              "\n",
              "    .colab-df-buttons div {\n",
              "      margin-bottom: 4px;\n",
              "    }\n",
              "\n",
              "    [theme=dark] .colab-df-convert {\n",
              "      background-color: #3B4455;\n",
              "      fill: #D2E3FC;\n",
              "    }\n",
              "\n",
              "    [theme=dark] .colab-df-convert:hover {\n",
              "      background-color: #434B5C;\n",
              "      box-shadow: 0px 1px 3px 1px rgba(0, 0, 0, 0.15);\n",
              "      filter: drop-shadow(0px 1px 2px rgba(0, 0, 0, 0.3));\n",
              "      fill: #FFFFFF;\n",
              "    }\n",
              "  </style>\n",
              "\n",
              "    <script>\n",
              "      const buttonEl =\n",
              "        document.querySelector('#df-8c2177fb-54d7-4024-88ac-6ce214a6aa7b button.colab-df-convert');\n",
              "      buttonEl.style.display =\n",
              "        google.colab.kernel.accessAllowed ? 'block' : 'none';\n",
              "\n",
              "      async function convertToInteractive(key) {\n",
              "        const element = document.querySelector('#df-8c2177fb-54d7-4024-88ac-6ce214a6aa7b');\n",
              "        const dataTable =\n",
              "          await google.colab.kernel.invokeFunction('convertToInteractive',\n",
              "                                                    [key], {});\n",
              "        if (!dataTable) return;\n",
              "\n",
              "        const docLinkHtml = 'Like what you see? Visit the ' +\n",
              "          '<a target=\"_blank\" href=https://colab.research.google.com/notebooks/data_table.ipynb>data table notebook</a>'\n",
              "          + ' to learn more about interactive tables.';\n",
              "        element.innerHTML = '';\n",
              "        dataTable['output_type'] = 'display_data';\n",
              "        await google.colab.output.renderOutput(dataTable, element);\n",
              "        const docLink = document.createElement('div');\n",
              "        docLink.innerHTML = docLinkHtml;\n",
              "        element.appendChild(docLink);\n",
              "      }\n",
              "    </script>\n",
              "  </div>\n",
              "\n",
              "\n",
              "<div id=\"df-e594b1ec-d542-44fa-b9b7-2eb42242921d\">\n",
              "  <button class=\"colab-df-quickchart\" onclick=\"quickchart('df-e594b1ec-d542-44fa-b9b7-2eb42242921d')\"\n",
              "            title=\"Suggest charts\"\n",
              "            style=\"display:none;\">\n",
              "\n",
              "<svg xmlns=\"http://www.w3.org/2000/svg\" height=\"24px\"viewBox=\"0 0 24 24\"\n",
              "     width=\"24px\">\n",
              "    <g>\n",
              "        <path d=\"M19 3H5c-1.1 0-2 .9-2 2v14c0 1.1.9 2 2 2h14c1.1 0 2-.9 2-2V5c0-1.1-.9-2-2-2zM9 17H7v-7h2v7zm4 0h-2V7h2v10zm4 0h-2v-4h2v4z\"/>\n",
              "    </g>\n",
              "</svg>\n",
              "  </button>\n",
              "\n",
              "<style>\n",
              "  .colab-df-quickchart {\n",
              "      --bg-color: #E8F0FE;\n",
              "      --fill-color: #1967D2;\n",
              "      --hover-bg-color: #E2EBFA;\n",
              "      --hover-fill-color: #174EA6;\n",
              "      --disabled-fill-color: #AAA;\n",
              "      --disabled-bg-color: #DDD;\n",
              "  }\n",
              "\n",
              "  [theme=dark] .colab-df-quickchart {\n",
              "      --bg-color: #3B4455;\n",
              "      --fill-color: #D2E3FC;\n",
              "      --hover-bg-color: #434B5C;\n",
              "      --hover-fill-color: #FFFFFF;\n",
              "      --disabled-bg-color: #3B4455;\n",
              "      --disabled-fill-color: #666;\n",
              "  }\n",
              "\n",
              "  .colab-df-quickchart {\n",
              "    background-color: var(--bg-color);\n",
              "    border: none;\n",
              "    border-radius: 50%;\n",
              "    cursor: pointer;\n",
              "    display: none;\n",
              "    fill: var(--fill-color);\n",
              "    height: 32px;\n",
              "    padding: 0;\n",
              "    width: 32px;\n",
              "  }\n",
              "\n",
              "  .colab-df-quickchart:hover {\n",
              "    background-color: var(--hover-bg-color);\n",
              "    box-shadow: 0 1px 2px rgba(60, 64, 67, 0.3), 0 1px 3px 1px rgba(60, 64, 67, 0.15);\n",
              "    fill: var(--button-hover-fill-color);\n",
              "  }\n",
              "\n",
              "  .colab-df-quickchart-complete:disabled,\n",
              "  .colab-df-quickchart-complete:disabled:hover {\n",
              "    background-color: var(--disabled-bg-color);\n",
              "    fill: var(--disabled-fill-color);\n",
              "    box-shadow: none;\n",
              "  }\n",
              "\n",
              "  .colab-df-spinner {\n",
              "    border: 2px solid var(--fill-color);\n",
              "    border-color: transparent;\n",
              "    border-bottom-color: var(--fill-color);\n",
              "    animation:\n",
              "      spin 1s steps(1) infinite;\n",
              "  }\n",
              "\n",
              "  @keyframes spin {\n",
              "    0% {\n",
              "      border-color: transparent;\n",
              "      border-bottom-color: var(--fill-color);\n",
              "      border-left-color: var(--fill-color);\n",
              "    }\n",
              "    20% {\n",
              "      border-color: transparent;\n",
              "      border-left-color: var(--fill-color);\n",
              "      border-top-color: var(--fill-color);\n",
              "    }\n",
              "    30% {\n",
              "      border-color: transparent;\n",
              "      border-left-color: var(--fill-color);\n",
              "      border-top-color: var(--fill-color);\n",
              "      border-right-color: var(--fill-color);\n",
              "    }\n",
              "    40% {\n",
              "      border-color: transparent;\n",
              "      border-right-color: var(--fill-color);\n",
              "      border-top-color: var(--fill-color);\n",
              "    }\n",
              "    60% {\n",
              "      border-color: transparent;\n",
              "      border-right-color: var(--fill-color);\n",
              "    }\n",
              "    80% {\n",
              "      border-color: transparent;\n",
              "      border-right-color: var(--fill-color);\n",
              "      border-bottom-color: var(--fill-color);\n",
              "    }\n",
              "    90% {\n",
              "      border-color: transparent;\n",
              "      border-bottom-color: var(--fill-color);\n",
              "    }\n",
              "  }\n",
              "</style>\n",
              "\n",
              "  <script>\n",
              "    async function quickchart(key) {\n",
              "      const quickchartButtonEl =\n",
              "        document.querySelector('#' + key + ' button');\n",
              "      quickchartButtonEl.disabled = true;  // To prevent multiple clicks.\n",
              "      quickchartButtonEl.classList.add('colab-df-spinner');\n",
              "      try {\n",
              "        const charts = await google.colab.kernel.invokeFunction(\n",
              "            'suggestCharts', [key], {});\n",
              "      } catch (error) {\n",
              "        console.error('Error during call to suggestCharts:', error);\n",
              "      }\n",
              "      quickchartButtonEl.classList.remove('colab-df-spinner');\n",
              "      quickchartButtonEl.classList.add('colab-df-quickchart-complete');\n",
              "    }\n",
              "    (() => {\n",
              "      let quickchartButtonEl =\n",
              "        document.querySelector('#df-e594b1ec-d542-44fa-b9b7-2eb42242921d button');\n",
              "      quickchartButtonEl.style.display =\n",
              "        google.colab.kernel.accessAllowed ? 'block' : 'none';\n",
              "    })();\n",
              "  </script>\n",
              "</div>\n",
              "\n",
              "    </div>\n",
              "  </div>\n"
            ],
            "application/vnd.google.colaboratory.intrinsic+json": {
              "type": "dataframe",
              "variable_name": "reviews_data",
              "summary": "{\n  \"name\": \"reviews_data\",\n  \"rows\": 40432,\n  \"fields\": [\n    {\n      \"column\": \"category\",\n      \"properties\": {\n        \"dtype\": \"category\",\n        \"num_unique_values\": 10,\n        \"samples\": [\n          \"Toys_and_Games_5\",\n          \"Sports_and_Outdoors_5\",\n          \"Pet_Supplies_5\"\n        ],\n        \"semantic_type\": \"\",\n        \"description\": \"\"\n      }\n    },\n    {\n      \"column\": \"rating\",\n      \"properties\": {\n        \"dtype\": \"number\",\n        \"std\": 1.1443539194684442,\n        \"min\": 1.0,\n        \"max\": 5.0,\n        \"num_unique_values\": 5,\n        \"samples\": [\n          1.0,\n          4.0,\n          3.0\n        ],\n        \"semantic_type\": \"\",\n        \"description\": \"\"\n      }\n    },\n    {\n      \"column\": \"label\",\n      \"properties\": {\n        \"dtype\": \"category\",\n        \"num_unique_values\": 2,\n        \"samples\": [\n          \"OR\",\n          \"CG\"\n        ],\n        \"semantic_type\": \"\",\n        \"description\": \"\"\n      }\n    },\n    {\n      \"column\": \"text_\",\n      \"properties\": {\n        \"dtype\": \"string\",\n        \"num_unique_values\": 40412,\n        \"samples\": [\n          \"It works well with my old ones, as long as you keep your hands on the handle and the other two fingers on the front of the switch.\",\n          \"I've not played the adult version of Cashflow so can't make a comparison but this game does a good job of teaching a basic tenet from the Rich Dad series: amass sources of passive income!  I bought this to play with my six year old because he's very interested in money and investing.  I thought this might be a good introduction to some basic concepts - and I believe it is a good introduction.  The instructions are not great, good enough but not great.  The instructions describe that you become a winner when your passive income exceeds your expenses - but there isn't really a winner of the game.  Small nuance but each individual \\\"wins\\\" by having passive income exceed expenses but the instructions don't state the first one to get there wins.\\n\\nEach player gets a \\\"financial statement\\\" as their game card.  During play, each player gains passive income sources and expenses.  The players keep track of their passive income vs expenses on the financial statement.  When your passive income exceeds expenses... you win!  The game does a good job of reinforcing this concept and also does a good job providing examples of passive income sources (rental property, owning a business, etc.).  It's at a pretty basic level so understandable for kids; even my six year old understands the game well enough to be able to formulate a strategy or predict what he needs on the next turn in order to win.\\n\\nWould recommend as a basic concept teaching tool.  And it's a fun game, too!\"\n        ],\n        \"semantic_type\": \"\",\n        \"description\": \"\"\n      }\n    }\n  ]\n}"
            }
          },
          "metadata": {},
          "execution_count": 1
        }
      ],
      "source": [
        "import pandas as pd\n",
        "\n",
        "# Load the dataset to inspect its structure\n",
        "file_path = '/content/fake reviews dataset.csv'\n",
        "reviews_data = pd.read_csv(file_path)\n",
        "\n",
        "# Display the first few rows of the dataset\n",
        "reviews_data.head()"
      ]
    },
    {
      "cell_type": "code",
      "source": [
        "from sklearn.feature_extraction.text import TfidfVectorizer\n",
        "import re\n",
        "import nltk\n",
        "from nltk.corpus import stopwords\n",
        "from nltk.stem import WordNetLemmatizer\n",
        "\n",
        "# Download stopwords and wordnet for lemmatization if not already downloaded\n",
        "nltk.download('stopwords')\n",
        "nltk.download('wordnet')\n",
        "\n",
        "# Initialize lemmatizer and define stopwords\n",
        "lemmatizer = WordNetLemmatizer()\n",
        "stop_words = set(stopwords.words('english'))\n",
        "\n",
        "#Initialize NLP Tools\n",
        "#lemmatizer = WordNetLemmatizer()\n",
        "\n",
        "#Creates an instance of the WordNetLemmatizer class for lemmatizing words later in the code.\n",
        "#stop_words = set(stopwords.words('english'))\n",
        "\n",
        "#Creates a Python set containing English stopwords. Using a set speeds up lookups when filtering words.\n",
        "\n",
        "def clean_text(text):\n",
        "    # Remove punctuation and special characters\n",
        "    text = re.sub(r'[^\\w\\s]', '', text)\n",
        "    # Convert to lowercase\n",
        "    text = text.lower()\n",
        "    # Tokenize and remove stopwords, lemmatize\n",
        "    words = [lemmatizer.lemmatize(word) for word in text.split() if word not in stop_words]\n",
        "    return ' '.join(words)\n",
        "\n",
        "# Apply cleaning function to the 'text_' column\n",
        "reviews_data['cleaned_text'] = reviews_data['text_'].apply(clean_text)\n",
        "\n",
        "# TF-IDF Vectorization\n",
        "tfidf = TfidfVectorizer(max_features=1000)\n",
        "tfidf_matrix = tfidf.fit_transform(reviews_data['cleaned_text'])\n",
        "\n",
        "# Display the cleaned text and a sample of the TF-IDF matrix\n",
        "reviews_data[['text_', 'cleaned_text']].head(), tfidf_matrix.toarray()[:5]"
      ],
      "metadata": {
        "colab": {
          "base_uri": "https://localhost:8080/"
        },
        "id": "tEf0G8Hd2iyh",
        "outputId": "4c03e998-754c-424a-9303-395213233b7f"
      },
      "execution_count": null,
      "outputs": [
        {
          "output_type": "stream",
          "name": "stderr",
          "text": [
            "[nltk_data] Downloading package stopwords to /root/nltk_data...\n",
            "[nltk_data]   Unzipping corpora/stopwords.zip.\n",
            "[nltk_data] Downloading package wordnet to /root/nltk_data...\n"
          ]
        },
        {
          "output_type": "execute_result",
          "data": {
            "text/plain": [
              "(                                               text_  \\\n",
              " 0  Love this!  Well made, sturdy, and very comfor...   \n",
              " 1  love it, a great upgrade from the original.  I...   \n",
              " 2  This pillow saved my back. I love the look and...   \n",
              " 3  Missing information on how to use it, but it i...   \n",
              " 4  Very nice set. Good quality. We have had the s...   \n",
              " \n",
              "                                         cleaned_text  \n",
              " 0  love well made sturdy comfortable love itvery ...  \n",
              " 1   love great upgrade original ive mine couple year  \n",
              " 2            pillow saved back love look feel pillow  \n",
              " 3        missing information use great product price  \n",
              " 4                nice set good quality set two month  ,\n",
              " array([[0., 0., 0., ..., 0., 0., 0.],\n",
              "        [0., 0., 0., ..., 0., 0., 0.],\n",
              "        [0., 0., 0., ..., 0., 0., 0.],\n",
              "        [0., 0., 0., ..., 0., 0., 0.],\n",
              "        [0., 0., 0., ..., 0., 0., 0.]]))"
            ]
          },
          "metadata": {},
          "execution_count": 2
        }
      ]
    },
    {
      "cell_type": "code",
      "source": [
        "# Manually define a basic set of English stopwords\n",
        "basic_stopwords = {'i', 'me', 'my', 'myself', 'we', 'our', 'ours', 'ourselves', 'you', 'your', 'yours', 'yourself',\n",
        "                   'yourselves', 'he', 'him', 'his', 'himself', 'she', 'her', 'hers', 'herself', 'it', 'its', 'itself',\n",
        "                   'they', 'them', 'their', 'theirs', 'themselves', 'what', 'which', 'who', 'whom', 'this', 'that',\n",
        "                   'these', 'those', 'am', 'is', 'are', 'was', 'were', 'be', 'been', 'being', 'have', 'has', 'had',\n",
        "                   'having', 'do', 'does', 'did', 'doing', 'a', 'an', 'the', 'and', 'but', 'if', 'or', 'because',\n",
        "                   'as', 'until', 'while', 'of', 'at', 'by', 'for', 'with', 'about', 'against', 'between', 'into',\n",
        "                   'through', 'during', 'before', 'after', 'above', 'below', 'to', 'from', 'up', 'down', 'in', 'out',\n",
        "                   'on', 'off', 'over', 'under', 'again', 'further', 'then', 'once', 'here', 'there', 'when', 'where',\n",
        "                   'why', 'how', 'all', 'any', 'both', 'each', 'few', 'more', 'most', 'other', 'some', 'such', 'no',\n",
        "                   'nor', 'not', 'only', 'own', 'same', 'so', 'than', 'too', 'very', 's', 't', 'can', 'will', 'just',\n",
        "                   'don', 'should', 'now'}\n",
        "\n",
        "def clean_text_basic(text):\n",
        "    # Remove punctuation and special characters\n",
        "    text = re.sub(r'[^\\w\\s]', '', text)\n",
        "    # Convert to lowercase\n",
        "    text = text.lower()\n",
        "    # Tokenize, remove basic stopwords, and lemmatize using simple stemming by word endings\n",
        "    words = [word if not word.endswith(('ed', 'ing', 's')) else word[:-1] for word in text.split() if word not in basic_stopwords]\n",
        "    return ' '.join(words)\n",
        "\n",
        "# Apply the basic cleaning function to the 'text_' column\n",
        "reviews_data['cleaned_text'] = reviews_data['text_'].apply(clean_text_basic)\n",
        "\n",
        "# TF-IDF Vectorization\n",
        "tfidf = TfidfVectorizer(max_features=1000)\n",
        "tfidf_matrix = tfidf.fit_transform(reviews_data['cleaned_text'])\n",
        "\n",
        "#tfidf = TfidfVectorizer(max_features=1000)\n",
        "\n",
        "#Initializes a TfidfVectorizer instance. The parameter max_features=1000 limits the vocabulary to the top 1000 most important terms\n",
        "#based on TF-IDF scores.\n",
        "# Display the cleaned text and a sample of the TF-IDF matrix\n",
        "reviews_data[['text_', 'cleaned_text']].head(), tfidf_matrix.toarray()[:5]\n"
      ],
      "metadata": {
        "colab": {
          "base_uri": "https://localhost:8080/"
        },
        "id": "3OePouVr2iui",
        "outputId": "bb004840-44f4-41d4-9e99-ac9997cd423f"
      },
      "execution_count": null,
      "outputs": [
        {
          "output_type": "execute_result",
          "data": {
            "text/plain": [
              "(                                               text_  \\\n",
              " 0  Love this!  Well made, sturdy, and very comfor...   \n",
              " 1  love it, a great upgrade from the original.  I...   \n",
              " 2  This pillow saved my back. I love the look and...   \n",
              " 3  Missing information on how to use it, but it i...   \n",
              " 4  Very nice set. Good quality. We have had the s...   \n",
              " \n",
              "                                         cleaned_text  \n",
              " 0  love well made sturdy comfortable love itvery ...  \n",
              " 1   love great upgrade original ive mine couple year  \n",
              " 2             pillow save back love look feel pillow  \n",
              " 3         missin information use great product price  \n",
              " 4                nice set good quality set two month  ,\n",
              " array([[0., 0., 0., ..., 0., 0., 0.],\n",
              "        [0., 0., 0., ..., 0., 0., 0.],\n",
              "        [0., 0., 0., ..., 0., 0., 0.],\n",
              "        [0., 0., 0., ..., 0., 0., 0.],\n",
              "        [0., 0., 0., ..., 0., 0., 0.]]))"
            ]
          },
          "metadata": {},
          "execution_count": 3
        }
      ]
    },
    {
      "cell_type": "code",
      "source": [
        "#Latent Dirichlet Allocation (LDA) model:\n",
        "#Latent Dirichlet Allocation (LDA) is a probabilistic model used for topic modeling.\n",
        "# It identifies hidden topics within a collection of text documents by assuming that:\n",
        "#Each document is a mixture of multiple topics.\n",
        "#Each topic is a distribution of words.\n",
        "#LDA Model:\n",
        "from sklearn.decomposition import LatentDirichletAllocation\n",
        "lda_model = LatentDirichletAllocation(n_components=5, random_state=42)\n",
        "lda_topics = lda_model.fit_transform(tfidf_matrix)\n",
        "#fit_transform: Fits the LDA model to the TF-IDF matrix and transforms the data to a topic-document distribution.\n",
        "#The TF-IDF matrix (tfidf_matrix) is the input, representing the numerical representation of text.\n"
      ],
      "metadata": {
        "id": "l1KsDZYk2isy"
      },
      "execution_count": null,
      "outputs": []
    },
    {
      "cell_type": "code",
      "source": [
        "#visualize topic models\n",
        "!pip install pyLDAvis"
      ],
      "metadata": {
        "colab": {
          "base_uri": "https://localhost:8080/"
        },
        "id": "dbjiQ0C52ipZ",
        "outputId": "79f09a27-199c-4854-df91-26b78dc942b6"
      },
      "execution_count": null,
      "outputs": [
        {
          "output_type": "stream",
          "name": "stdout",
          "text": [
            "Collecting pyLDAvis\n",
            "  Downloading pyLDAvis-3.4.1-py3-none-any.whl.metadata (4.2 kB)\n",
            "Requirement already satisfied: numpy>=1.24.2 in /usr/local/lib/python3.10/dist-packages (from pyLDAvis) (1.26.4)\n",
            "Requirement already satisfied: scipy in /usr/local/lib/python3.10/dist-packages (from pyLDAvis) (1.13.1)\n",
            "Requirement already satisfied: pandas>=2.0.0 in /usr/local/lib/python3.10/dist-packages (from pyLDAvis) (2.2.2)\n",
            "Requirement already satisfied: joblib>=1.2.0 in /usr/local/lib/python3.10/dist-packages (from pyLDAvis) (1.4.2)\n",
            "Requirement already satisfied: jinja2 in /usr/local/lib/python3.10/dist-packages (from pyLDAvis) (3.1.4)\n",
            "Requirement already satisfied: numexpr in /usr/local/lib/python3.10/dist-packages (from pyLDAvis) (2.10.1)\n",
            "Collecting funcy (from pyLDAvis)\n",
            "  Downloading funcy-2.0-py2.py3-none-any.whl.metadata (5.9 kB)\n",
            "Requirement already satisfied: scikit-learn>=1.0.0 in /usr/local/lib/python3.10/dist-packages (from pyLDAvis) (1.5.2)\n",
            "Requirement already satisfied: gensim in /usr/local/lib/python3.10/dist-packages (from pyLDAvis) (4.3.3)\n",
            "Requirement already satisfied: setuptools in /usr/local/lib/python3.10/dist-packages (from pyLDAvis) (75.1.0)\n",
            "Requirement already satisfied: python-dateutil>=2.8.2 in /usr/local/lib/python3.10/dist-packages (from pandas>=2.0.0->pyLDAvis) (2.8.2)\n",
            "Requirement already satisfied: pytz>=2020.1 in /usr/local/lib/python3.10/dist-packages (from pandas>=2.0.0->pyLDAvis) (2024.2)\n",
            "Requirement already satisfied: tzdata>=2022.7 in /usr/local/lib/python3.10/dist-packages (from pandas>=2.0.0->pyLDAvis) (2024.2)\n",
            "Requirement already satisfied: threadpoolctl>=3.1.0 in /usr/local/lib/python3.10/dist-packages (from scikit-learn>=1.0.0->pyLDAvis) (3.5.0)\n",
            "Requirement already satisfied: smart-open>=1.8.1 in /usr/local/lib/python3.10/dist-packages (from gensim->pyLDAvis) (7.0.5)\n",
            "Requirement already satisfied: MarkupSafe>=2.0 in /usr/local/lib/python3.10/dist-packages (from jinja2->pyLDAvis) (3.0.2)\n",
            "Requirement already satisfied: six>=1.5 in /usr/local/lib/python3.10/dist-packages (from python-dateutil>=2.8.2->pandas>=2.0.0->pyLDAvis) (1.16.0)\n",
            "Requirement already satisfied: wrapt in /usr/local/lib/python3.10/dist-packages (from smart-open>=1.8.1->gensim->pyLDAvis) (1.16.0)\n",
            "Downloading pyLDAvis-3.4.1-py3-none-any.whl (2.6 MB)\n",
            "\u001b[2K   \u001b[90m━━━━━━━━━━━━━━━━━━━━━━━━━━━━━━━━━━━━━━━━\u001b[0m \u001b[32m2.6/2.6 MB\u001b[0m \u001b[31m23.8 MB/s\u001b[0m eta \u001b[36m0:00:00\u001b[0m\n",
            "\u001b[?25hDownloading funcy-2.0-py2.py3-none-any.whl (30 kB)\n",
            "Installing collected packages: funcy, pyLDAvis\n",
            "Successfully installed funcy-2.0 pyLDAvis-3.4.1\n"
          ]
        }
      ]
    },
    {
      "cell_type": "code",
      "source": [
        "\n",
        "#Visualize LDA Topics:\n",
        "import pyLDAvis\n",
        "import pyLDAvis.lda_model # Import lda_model instead of sklearn\n",
        "\n",
        "# Prepare LDA visualization\n",
        "# Use pyLDAvis.lda_model.prepare instead of pyLDAvis.sklearn.prepare\n",
        "lda_vis = pyLDAvis.lda_model.prepare(lda_model, tfidf_matrix, tfidf)\n",
        "pyLDAvis.display(lda_vis)"
      ],
      "metadata": {
        "colab": {
          "base_uri": "https://localhost:8080/",
          "height": 862
        },
        "id": "jV7g58AT2inl",
        "outputId": "a62e7d98-f21d-4929-c12a-5874fb07a9b7"
      },
      "execution_count": null,
      "outputs": [
        {
          "output_type": "execute_result",
          "data": {
            "text/plain": [
              "<IPython.core.display.HTML object>"
            ],
            "text/html": [
              "\n",
              "<link rel=\"stylesheet\" type=\"text/css\" href=\"https://cdn.jsdelivr.net/gh/bmabey/pyLDAvis@3.4.0/pyLDAvis/js/ldavis.v1.0.0.css\">\n",
              "\n",
              "\n",
              "<div id=\"ldavis_el9831321444693575363467581905\" style=\"background-color:white;\"></div>\n",
              "<script type=\"text/javascript\">\n",
              "\n",
              "var ldavis_el9831321444693575363467581905_data = {\"mdsDat\": {\"x\": [0.24791741342567988, 0.01842530220715364, -0.05772308676790963, -0.08878023954365886, -0.11983938932126502], \"y\": [0.028956664458054074, -0.07261533394489529, -0.08474700169288953, 0.14988487578677265, -0.02147920460704183], \"topics\": [1, 2, 3, 4, 5], \"cluster\": [1, 1, 1, 1, 1], \"Freq\": [27.578109133488933, 25.042968207961408, 19.203702919616187, 14.960023140389712, 13.215196598543768]}, \"tinfo\": {\"Term\": [\"book\", \"story\", \"read\", \"movie\", \"character\", \"love\", \"dog\", \"son\", \"fit\", \"serie\", \"reason\", \"size\", \"small\", \"enjoye\", \"shoe\", \"comfortable\", \"bought\", \"daughter\", \"author\", \"nice\", \"gave\", \"quality\", \"toy\", \"use\", \"wear\", \"little\", \"gift\", \"cat\", \"readin\", \"material\", \"book\", \"story\", \"character\", \"movie\", \"enjoye\", \"author\", \"serie\", \"written\", \"develope\", \"plot\", \"actin\", \"endin\", \"history\", \"novel\", \"storie\", \"film\", \"reader\", \"entertainin\", \"romance\", \"believable\", \"scene\", \"mystery\", \"interestin\", \"relationship\", \"enjoyable\", \"writer\", \"predictable\", \"actor\", \"storyline\", \"suspense\", \"read\", \"writin\", \"readin\", \"copy\", \"funny\", \"told\", \"action\", \"forward\", \"wait\", \"world\", \"next\", \"first\", \"good\", \"well\", \"love\", \"like\", \"one\", \"really\", \"great\", \"recommend\", \"lot\", \"time\", \"would\", \"see\", \"way\", \"cant\", \"disc\", \"window\", \"card\", \"wheel\", \"attache\", \"flat\", \"pres\", \"pad\", \"lose\", \"test\", \"anyway\", \"push\", \"tape\", \"minute\", \"tip\", \"unles\", \"unit\", \"step\", \"plug\", \"100\", \"video\", \"due\", \"within\", \"customer\", \"finger\", \"available\", \"batterie\", \"pay\", \"require\", \"sent\", \"drive\", \"etc\", \"runnin\", \"save\", \"les\", \"low\", \"nothin\", \"power\", \"even\", \"back\", \"cut\", \"nee\", \"device\", \"isnt\", \"dont\", \"amazon\", \"took\", \"side\", \"use\", \"without\", \"get\", \"though\", \"much\", \"work\", \"could\", \"however\", \"one\", \"time\", \"better\", \"make\", \"day\", \"got\", \"like\", \"light\", \"around\", \"review\", \"would\", \"go\", \"set\", \"well\", \"really\", \"great\", \"product\", \"way\", \"im\", \"good\", \"two\", \"price\", \"bulb\", \"litter\", \"lab\", \"chewer\", \"mat\", \"leash\", \"bathroom\", \"picky\", \"coffee\", \"harnes\", \"food\", \"eat\", \"vacuum\", \"treat\", \"towel\", \"shower\", \"chew\", \"sensitive\", \"puppy\", \"portable\", \"sink\", \"ipad\", \"dog\", \"cat\", \"lamp\", \"filter\", \"flashlight\", \"smell\", \"speaker\", \"pan\", \"clean\", \"replace\", \"collar\", \"bright\", \"product\", \"use\", \"light\", \"work\", \"easy\", \"usin\", \"great\", \"couple\", \"one\", \"tool\", \"sound\", \"bought\", \"keep\", \"price\", \"love\", \"ive\", \"problem\", \"year\", \"small\", \"quality\", \"good\", \"would\", \"also\", \"recommend\", \"well\", \"like\", \"little\", \"nice\", \"grandson\", \"granddaughter\", \"pillow\", \"birthday\", \"doll\", \"puzzle\", \"heel\", \"christma\", \"hat\", \"jean\", \"shoe\", \"son\", \"toe\", \"dres\", \"gift\", \"foot\", \"daughter\", \"wooden\", \"xl\", \"train\", \"sock\", \"boot\", \"normally\", \"wear\", \"toy\", \"worn\", \"baby\", \"party\", \"playin\", \"cute\", \"play\", \"game\", \"kid\", \"piece\", \"comfortable\", \"soft\", \"love\", \"size\", \"fit\", \"bought\", \"color\", \"perfect\", \"old\", \"wide\", \"ordere\", \"year\", \"fun\", \"great\", \"pair\", \"quality\", \"nice\", \"set\", \"little\", \"look\", \"good\", \"len\", \"zipper\", \"rin\", \"gave\", \"reason\", \"bra\", \"waist\", \"bulky\", \"downside\", \"snug\", \"flimsy\", \"gun\", \"sight\", \"grip\", \"tight\", \"loose\", \"pocket\", \"lightweight\", \"kind\", \"pant\", \"stiff\", \"strap\", \"frame\", \"shirt\", \"construction\", \"heavier\", \"star\", \"compact\", \"belt\", \"screw\", \"bag\", \"expecte\", \"material\", \"bottom\", \"plastic\", \"smaller\", \"small\", \"large\", \"problem\", \"nice\", \"little\", \"hard\", \"fit\", \"case\", \"quality\", \"bit\", \"hold\", \"design\", \"comfortable\", \"size\", \"good\", \"part\", \"great\", \"look\", \"put\", \"like\", \"thin\", \"work\", \"would\", \"use\", \"well\", \"love\"], \"Freq\": [1635.0, 979.0, 970.0, 805.0, 754.0, 1865.0, 704.0, 439.0, 797.0, 487.0, 356.0, 695.0, 723.0, 399.0, 295.0, 530.0, 833.0, 343.0, 368.0, 801.0, 290.0, 728.0, 373.0, 1061.0, 342.0, 950.0, 268.0, 346.0, 358.0, 373.0, 1634.110976140438, 978.2164863500154, 753.8001050016223, 804.1204770667839, 398.2062380525391, 367.70781436374983, 486.3987451285661, 266.20068411117745, 222.977592395054, 208.85645854970454, 185.38507848826967, 166.9356415640529, 137.96194415257256, 120.43191202042148, 120.14380512355885, 220.92619398083937, 105.22703431135898, 103.75579619131716, 102.79141313462662, 101.49910263081277, 99.78197439215211, 85.67285556650211, 263.8954181717469, 81.51355347387472, 77.94486141523429, 68.15918142459836, 68.0931523290412, 65.40127106216775, 64.13606365004604, 58.704147919142876, 941.5241902426718, 167.78009813758615, 343.203022649237, 89.35458431671898, 110.27694671758023, 164.5724604457768, 146.7816047674475, 161.80094691448855, 186.01099398793295, 134.75434700612, 240.57424445477602, 284.2261529009968, 544.3175612252379, 420.87476660161894, 566.9208715233344, 391.9782648612594, 383.34042706060086, 280.1867332661284, 404.20561597426473, 254.47926286110956, 245.94876730984225, 237.579472118745, 253.75604411042016, 190.10607765767324, 199.66750892602676, 188.47331428193186, 29.145218471609873, 44.096395712584965, 87.97112341069025, 43.90420110775351, 32.34272638659339, 43.90320802332546, 29.346183272821037, 63.82390063839999, 38.03245265022369, 33.81713589032857, 34.50867264105108, 31.678237357340695, 39.923070312710784, 80.11556092911128, 38.61899195362386, 32.47298926263349, 89.27658070977711, 35.27373670327349, 44.20530311117256, 35.90788867473985, 61.47961710641614, 42.31624207999419, 46.52499039055178, 35.57082479315624, 36.6982763368865, 33.873314621782185, 67.44896989664585, 48.81233637011452, 44.30224676778692, 36.6323236602642, 89.69822601808333, 51.32221739095452, 58.83731489131741, 57.35433691795433, 82.32825951898666, 60.21301612171775, 78.42603338644439, 73.54771192871152, 166.85207702796174, 162.50960609126858, 77.48152068207195, 154.3335873909329, 63.35498856313106, 65.44702851795309, 205.19344885501826, 83.40296227586383, 80.03160533630779, 97.61708357833452, 339.3535494766828, 98.43999250667225, 251.8977088609364, 100.7535695800117, 183.5603034430513, 261.844046822939, 131.88147269555054, 89.89814816667732, 304.73339489832375, 210.36804728315056, 140.98697297241003, 172.34281349443103, 127.49712342836688, 133.87230851407563, 222.42687555620043, 150.45182429096218, 112.00155307563347, 119.14642018412728, 187.9051766248656, 119.89042016887382, 128.26559478059073, 169.59043679313604, 148.61052407994669, 174.46543381164778, 138.14718486824634, 125.49087922407905, 126.18140219100405, 147.53066556708842, 120.16584079378686, 118.9854558832189, 154.71764626785264, 70.43641182705039, 59.556864349757184, 53.46973323446077, 49.045355345733846, 47.55692423302774, 77.03181796236491, 57.59598347481319, 73.5784859239794, 66.65228987022897, 209.839325378858, 94.81011825955842, 51.9069392955187, 132.61479968369855, 41.60675695323082, 60.964450835022525, 55.00353541590118, 50.96709892296889, 93.99343082328879, 38.811613311723654, 39.00042999535185, 66.74701209278264, 609.3763956300776, 298.50479425276615, 46.869034597586946, 66.12611782011432, 46.08472261741205, 78.94413804603225, 93.40895904687633, 55.00850731049164, 157.04759538914027, 217.17330960755663, 71.91267343663985, 152.12103620728143, 369.4423394559822, 499.8846960261848, 266.7262768710537, 394.1836398838647, 307.8845224984571, 186.61379272516908, 505.34546767551655, 164.43620775169512, 372.41775987186475, 126.29128712174696, 127.49499329752334, 269.0715099143622, 207.82474541531457, 199.18906876852236, 330.74209040042444, 157.5283154684004, 169.37947949260112, 175.72220494668022, 190.05056734461834, 189.4381765039219, 235.95045423207665, 201.6795188195323, 173.53356971963223, 166.1530834608189, 192.11461875432727, 184.8770701153107, 169.41089737177035, 162.4307139423678, 96.61684853659848, 84.80929000515405, 82.38085766789598, 92.10518121958413, 77.02572754132204, 68.31550312790266, 50.63827242686698, 185.1171340850598, 62.17121077189553, 48.410811378308644, 276.33463232046313, 409.8301365728996, 48.700009348786146, 102.65376836276764, 235.12895831709434, 93.50412385437589, 292.9539329230102, 55.80333580104534, 43.12405218152285, 56.077733137186364, 67.71414056920523, 71.2581398639101, 47.18044711275591, 264.588928033613, 285.01930137587004, 52.747473604048324, 73.39609003501921, 51.54447122598786, 64.54172876134155, 203.1961368388723, 208.5694508844636, 163.7207547081473, 182.74339383114946, 218.78558254543893, 287.37363044799275, 148.42332011448931, 755.4862106455352, 331.05534402459466, 349.3419828101654, 357.0333373401792, 190.42518551025518, 235.01880697152595, 212.9251425743941, 142.47385482905418, 155.45867211645714, 219.95025439237185, 161.76404099391613, 320.7093822161883, 135.74995296705157, 191.52309515342105, 194.27915024476926, 155.78943472947213, 198.52123153000565, 163.48629914168586, 162.67675251105678, 120.3115173719247, 57.33057466977464, 79.2808323011901, 239.38423934725463, 292.3886933576692, 48.92943032191225, 56.474385763261246, 62.88482192405432, 77.26568529317184, 43.571380708831725, 45.899480864416965, 58.429598675886176, 34.284549834307, 55.430907317350126, 123.6379125196624, 68.90488228492596, 76.10845450005354, 53.02595364150173, 126.37315262572886, 52.014864946805204, 28.887586127565253, 76.55305922569286, 29.657925038661503, 69.29528107260526, 31.27383369034452, 29.423899513154716, 192.5585818729939, 33.2119873891754, 35.51523982230956, 87.71509283909725, 175.40162904940794, 138.61413156146858, 192.95728604493485, 78.15383617627961, 200.7504691155612, 96.48614450886465, 327.96863041912644, 189.8676244939874, 235.7705782189687, 315.6155660565983, 337.4933236959188, 170.08681659978055, 291.7457545853157, 125.89240533691141, 258.47079179497985, 203.7839728412721, 134.44260586350666, 96.3193267546859, 172.8489251999752, 200.1472965810227, 284.96885049266103, 135.8363944232107, 246.491080796249, 147.0146181617622, 133.40650613302589, 165.87525729551513, 124.46009873777963, 139.16642248603802, 136.99888524699566, 132.7682268219757, 131.13764365685506, 127.87208113456363], \"Total\": [1635.0, 979.0, 970.0, 805.0, 754.0, 1865.0, 704.0, 439.0, 797.0, 487.0, 356.0, 695.0, 723.0, 399.0, 295.0, 530.0, 833.0, 343.0, 368.0, 801.0, 290.0, 728.0, 373.0, 1061.0, 342.0, 950.0, 268.0, 346.0, 358.0, 373.0, 1635.1470761387316, 979.047972224672, 754.6321476238978, 805.0454104404488, 399.0463438946876, 368.53770664933575, 487.5136316459837, 267.03498492504764, 223.85911387251303, 209.6861280319483, 186.21503123602508, 167.76577220229447, 138.80757386673747, 121.26192727560196, 120.97542794420455, 222.52196545599548, 106.06230596987551, 104.59050322717326, 103.62101556014008, 102.32833610038576, 100.61452561959484, 86.50696081277626, 266.56929678007134, 82.34532650477057, 78.78039034882985, 68.99045190685172, 68.92401869590616, 66.23157812414924, 64.96553009678709, 59.535434754901054, 970.2000557961958, 170.84382941233196, 358.17786200124937, 90.96154229416842, 114.05953328705708, 174.13116192931642, 155.3163606802334, 179.81075529344125, 215.78241690679306, 148.29458004341652, 344.04616963329045, 497.5213106719824, 1375.4442840281208, 1056.6494507756381, 1865.1799816835667, 1120.5238453295492, 1326.8177782432588, 717.1543061486134, 1651.2169804738662, 607.1237727791334, 576.5597037644286, 702.165815582636, 911.8588715790657, 340.55864237864955, 474.47467055380014, 374.9041904292342, 30.269999049597367, 47.76004002742073, 95.88099510229344, 48.434276693037326, 36.9158903356646, 50.18840223296404, 33.893024753457304, 73.93800419738605, 44.17834602330027, 39.35578482014051, 40.25641448429498, 37.09753571946742, 46.83046187589209, 94.56627575896837, 45.632639422944926, 38.985418151383605, 107.40174240264922, 42.921015211294005, 53.810039993696975, 43.74703782065565, 75.16475488770018, 51.94602745310641, 58.37414349391782, 44.65864247581609, 46.1541823336691, 42.61614850437635, 84.95342233791024, 61.62766977126829, 56.14160520835531, 46.73364079574826, 115.70899993419117, 66.4360828307734, 77.28933855014648, 76.5836755874266, 117.3851218967963, 81.97956246456555, 114.64495061500436, 107.60097159675138, 303.82754678905496, 301.8347863211924, 115.7834345985779, 288.52670853625705, 89.61325171799677, 93.64427769474837, 450.427286529549, 131.71054088126442, 125.40537275223559, 166.74313793602585, 1061.8124842165987, 175.31043529959445, 752.6552662057974, 185.58539568417646, 476.23791879874824, 879.6605523923442, 296.90078001836474, 161.2904420267706, 1326.8177782432588, 702.165815582636, 353.308282592718, 512.3731398910294, 317.24919498662473, 380.0127358418069, 1120.5238453295492, 502.2270099265488, 266.6277960467554, 312.3486949543834, 911.8588715790657, 331.6112966064356, 411.7172733357424, 1056.6494507756381, 717.1543061486134, 1651.2169804738662, 675.2683483132222, 474.47467055380014, 585.0503435382378, 1375.4442840281208, 478.79481642171356, 549.52522830302, 155.54192261008134, 71.25978246435731, 60.386066558553566, 54.29504297556241, 49.880612538570304, 48.3854488807603, 79.2824195083368, 59.495173060609716, 77.36353317623825, 71.03691482774668, 223.77225877701045, 101.30367799239727, 55.72398260739647, 142.54728310632325, 45.00255295492828, 66.79466665431664, 60.47213878047762, 56.32223075785224, 103.8830318842676, 43.57134665225277, 44.68214091673327, 76.52498285858222, 704.4538931971881, 346.5034122441044, 54.429746898496, 78.60964164683469, 56.05515227192437, 97.46824085123909, 115.8343862205714, 68.4397124130255, 203.12628561725546, 300.8079405211891, 90.48704201456661, 218.04695379242472, 675.2683483132222, 1061.8124842165987, 502.2270099265488, 879.6605523923442, 682.452294167715, 354.17968418981917, 1651.2169804738662, 337.8968656915837, 1326.8177782432588, 226.6825285293245, 232.13867829134978, 833.722234157641, 551.0007088503721, 549.52522830302, 1865.1799816835667, 427.514441114119, 532.469228833116, 584.0775825817932, 723.0504186933915, 728.8770774663648, 1375.4442840281208, 911.8588715790657, 642.5809917236289, 607.1237727791334, 1056.6494507756381, 1120.5238453295492, 950.5219982730868, 801.585876128935, 97.42751715440264, 85.61743592137961, 83.19849480125811, 93.12672490123369, 78.18101646483957, 69.73217425234775, 52.97027152410116, 193.8969119528376, 66.12817451363425, 51.65587080499242, 295.00924996027436, 439.62431383774737, 54.88517535574252, 116.26667843286789, 268.76382098093575, 109.34819668128168, 343.4770297018761, 65.72042431407824, 50.793671796026054, 67.8898953551795, 82.07154018681676, 90.62457478443677, 60.0855040878891, 342.2293703576671, 373.99888189366095, 69.53882250878205, 99.2152217951955, 69.86290859682444, 88.20307765975609, 279.2030481233435, 287.65007145429297, 228.27111711922564, 268.51786648147004, 373.26210694136813, 530.2954903857442, 235.2409892601931, 1865.1799816835667, 695.1467941218258, 797.5224917292346, 833.722234157641, 379.32538740209526, 531.1913186249242, 458.6407360068533, 256.8137887776632, 300.18245489305485, 584.0775825817932, 356.6193190397231, 1651.2169804738662, 254.15744722328762, 728.8770774663648, 801.585876128935, 411.7172733357424, 950.5219982730868, 582.7955689731594, 1375.4442840281208, 121.1072175569387, 65.27316900495426, 93.49399852563559, 290.54463538578364, 356.0505396194138, 60.7141823251804, 71.09563223744621, 79.51660982623622, 102.5188860739085, 61.213955081345944, 65.24510967987614, 84.05631153150313, 50.31853130987322, 82.91478672008046, 185.03075309980272, 103.44630761601742, 117.3001771519377, 81.76368157518434, 197.78358408100064, 81.80935382644685, 47.05495384874379, 125.15766022390544, 49.08927851373543, 116.04822384383317, 52.54626456816265, 49.592081094030554, 335.5202882335764, 58.02391529623116, 62.31578726933596, 156.1702456687001, 312.41468608521075, 256.9640991348898, 373.48935322986216, 142.06861447800677, 400.39657156440853, 181.68561202698103, 723.0504186933915, 391.17709427587897, 532.469228833116, 801.585876128935, 950.5219982730868, 382.031228367269, 797.5224917292346, 260.8502746230152, 728.8770774663648, 557.7121601881281, 303.86648361784967, 181.85152530835862, 530.2954903857442, 695.1467941218258, 1375.4442840281208, 375.63453926272405, 1651.2169804738662, 582.7955689731594, 473.0262520850355, 1120.5238453295492, 444.2953248840993, 879.6605523923442, 911.8588715790657, 1061.8124842165987, 1056.6494507756381, 1865.1799816835667], \"Category\": [\"Default\", \"Default\", \"Default\", \"Default\", \"Default\", \"Default\", \"Default\", \"Default\", \"Default\", \"Default\", \"Default\", \"Default\", \"Default\", \"Default\", \"Default\", \"Default\", \"Default\", \"Default\", \"Default\", \"Default\", \"Default\", \"Default\", \"Default\", \"Default\", \"Default\", \"Default\", \"Default\", \"Default\", \"Default\", \"Default\", \"Topic1\", \"Topic1\", \"Topic1\", \"Topic1\", \"Topic1\", \"Topic1\", \"Topic1\", \"Topic1\", \"Topic1\", \"Topic1\", \"Topic1\", \"Topic1\", \"Topic1\", \"Topic1\", \"Topic1\", \"Topic1\", \"Topic1\", \"Topic1\", \"Topic1\", \"Topic1\", \"Topic1\", \"Topic1\", \"Topic1\", \"Topic1\", \"Topic1\", \"Topic1\", \"Topic1\", \"Topic1\", \"Topic1\", \"Topic1\", \"Topic1\", \"Topic1\", \"Topic1\", \"Topic1\", \"Topic1\", \"Topic1\", \"Topic1\", \"Topic1\", \"Topic1\", \"Topic1\", \"Topic1\", \"Topic1\", \"Topic1\", \"Topic1\", \"Topic1\", \"Topic1\", \"Topic1\", \"Topic1\", \"Topic1\", \"Topic1\", \"Topic1\", \"Topic1\", \"Topic1\", \"Topic1\", \"Topic1\", \"Topic1\", \"Topic2\", \"Topic2\", \"Topic2\", \"Topic2\", \"Topic2\", \"Topic2\", \"Topic2\", \"Topic2\", \"Topic2\", \"Topic2\", \"Topic2\", \"Topic2\", \"Topic2\", \"Topic2\", \"Topic2\", \"Topic2\", \"Topic2\", \"Topic2\", \"Topic2\", \"Topic2\", \"Topic2\", \"Topic2\", \"Topic2\", \"Topic2\", \"Topic2\", \"Topic2\", \"Topic2\", \"Topic2\", \"Topic2\", \"Topic2\", \"Topic2\", \"Topic2\", \"Topic2\", \"Topic2\", \"Topic2\", \"Topic2\", \"Topic2\", \"Topic2\", \"Topic2\", \"Topic2\", \"Topic2\", \"Topic2\", \"Topic2\", \"Topic2\", \"Topic2\", \"Topic2\", \"Topic2\", \"Topic2\", \"Topic2\", \"Topic2\", \"Topic2\", \"Topic2\", \"Topic2\", \"Topic2\", \"Topic2\", \"Topic2\", \"Topic2\", \"Topic2\", \"Topic2\", \"Topic2\", \"Topic2\", \"Topic2\", \"Topic2\", \"Topic2\", \"Topic2\", \"Topic2\", \"Topic2\", \"Topic2\", \"Topic2\", \"Topic2\", \"Topic2\", \"Topic2\", \"Topic2\", \"Topic2\", \"Topic2\", \"Topic2\", \"Topic2\", \"Topic2\", \"Topic3\", \"Topic3\", \"Topic3\", \"Topic3\", \"Topic3\", \"Topic3\", \"Topic3\", \"Topic3\", \"Topic3\", \"Topic3\", \"Topic3\", \"Topic3\", \"Topic3\", \"Topic3\", \"Topic3\", \"Topic3\", \"Topic3\", \"Topic3\", \"Topic3\", \"Topic3\", \"Topic3\", \"Topic3\", \"Topic3\", \"Topic3\", \"Topic3\", \"Topic3\", \"Topic3\", \"Topic3\", \"Topic3\", \"Topic3\", \"Topic3\", \"Topic3\", \"Topic3\", \"Topic3\", \"Topic3\", \"Topic3\", \"Topic3\", \"Topic3\", \"Topic3\", \"Topic3\", \"Topic3\", \"Topic3\", \"Topic3\", \"Topic3\", \"Topic3\", \"Topic3\", \"Topic3\", \"Topic3\", \"Topic3\", \"Topic3\", \"Topic3\", \"Topic3\", \"Topic3\", \"Topic3\", \"Topic3\", \"Topic3\", \"Topic3\", \"Topic3\", \"Topic3\", \"Topic3\", \"Topic3\", \"Topic3\", \"Topic4\", \"Topic4\", \"Topic4\", \"Topic4\", \"Topic4\", \"Topic4\", \"Topic4\", \"Topic4\", \"Topic4\", \"Topic4\", \"Topic4\", \"Topic4\", \"Topic4\", \"Topic4\", \"Topic4\", \"Topic4\", \"Topic4\", \"Topic4\", \"Topic4\", \"Topic4\", \"Topic4\", \"Topic4\", \"Topic4\", \"Topic4\", \"Topic4\", \"Topic4\", \"Topic4\", \"Topic4\", \"Topic4\", \"Topic4\", \"Topic4\", \"Topic4\", \"Topic4\", \"Topic4\", \"Topic4\", \"Topic4\", \"Topic4\", \"Topic4\", \"Topic4\", \"Topic4\", \"Topic4\", \"Topic4\", \"Topic4\", \"Topic4\", \"Topic4\", \"Topic4\", \"Topic4\", \"Topic4\", \"Topic4\", \"Topic4\", \"Topic4\", \"Topic4\", \"Topic4\", \"Topic4\", \"Topic4\", \"Topic5\", \"Topic5\", \"Topic5\", \"Topic5\", \"Topic5\", \"Topic5\", \"Topic5\", \"Topic5\", \"Topic5\", \"Topic5\", \"Topic5\", \"Topic5\", \"Topic5\", \"Topic5\", \"Topic5\", \"Topic5\", \"Topic5\", \"Topic5\", \"Topic5\", \"Topic5\", \"Topic5\", \"Topic5\", \"Topic5\", \"Topic5\", \"Topic5\", \"Topic5\", \"Topic5\", \"Topic5\", \"Topic5\", \"Topic5\", \"Topic5\", \"Topic5\", \"Topic5\", \"Topic5\", \"Topic5\", \"Topic5\", \"Topic5\", \"Topic5\", \"Topic5\", \"Topic5\", \"Topic5\", \"Topic5\", \"Topic5\", \"Topic5\", \"Topic5\", \"Topic5\", \"Topic5\", \"Topic5\", \"Topic5\", \"Topic5\", \"Topic5\", \"Topic5\", \"Topic5\", \"Topic5\", \"Topic5\", \"Topic5\", \"Topic5\", \"Topic5\", \"Topic5\", \"Topic5\", \"Topic5\", \"Topic5\"], \"logprob\": [30.0, 29.0, 28.0, 27.0, 26.0, 25.0, 24.0, 23.0, 22.0, 21.0, 20.0, 19.0, 18.0, 17.0, 16.0, 15.0, 14.0, 13.0, 12.0, 11.0, 10.0, 9.0, 8.0, 7.0, 6.0, 5.0, 4.0, 3.0, 2.0, 1.0, -3.2037, -3.7168, -3.9774, -3.9128, -4.6156, -4.6953, -4.4155, -5.0183, -5.1955, -5.2609, -5.3801, -5.4849, -5.6756, -5.8115, -5.8139, -5.2047, -5.9464, -5.9605, -5.9699, -5.9825, -5.9996, -6.152, -5.027, -6.2018, -6.2466, -6.3807, -6.3817, -6.422, -6.4415, -6.53, -3.7551, -5.4799, -4.7642, -6.1099, -5.8996, -5.4992, -5.6136, -5.5162, -5.3767, -5.6991, -5.1195, -4.9528, -4.303, -4.5602, -4.2623, -4.6313, -4.6536, -4.9671, -4.6006, -5.0633, -5.0974, -5.1321, -5.0662, -5.355, -5.3059, -5.3636, -7.1338, -6.7197, -6.0291, -6.7241, -7.0297, -6.7241, -7.127, -6.35, -6.8677, -6.9852, -6.9649, -7.0505, -6.8192, -6.1227, -6.8524, -7.0257, -6.0144, -6.943, -6.7173, -6.9252, -6.3874, -6.761, -6.6661, -6.9346, -6.9034, -6.9835, -6.2948, -6.6181, -6.7151, -6.9052, -6.0097, -6.568, -6.4313, -6.4569, -6.0954, -6.4082, -6.144, -6.2082, -5.389, -5.4154, -6.1561, -5.467, -6.3574, -6.3249, -5.1822, -6.0824, -6.1237, -5.9251, -4.6791, -5.9167, -4.9771, -5.8934, -5.2936, -4.9384, -5.6242, -6.0074, -4.7867, -5.1573, -5.5575, -5.3566, -5.658, -5.6092, -5.1015, -5.4925, -5.7876, -5.7258, -5.2702, -5.7195, -5.652, -5.3727, -5.5048, -5.3444, -5.5778, -5.6739, -5.6684, -5.5121, -5.7173, -5.7271, -5.199, -5.9859, -6.1537, -6.2615, -6.3479, -6.3787, -5.8964, -6.1872, -5.9423, -6.0411, -4.8943, -5.6888, -6.2912, -5.3532, -6.5124, -6.1303, -6.2332, -6.3095, -5.6974, -6.5819, -6.5771, -6.0397, -3.8282, -4.5418, -6.3933, -6.0491, -6.4102, -5.8719, -5.7036, -6.2331, -5.1841, -4.8599, -5.9652, -5.216, -4.3286, -4.0263, -4.6544, -4.2638, -4.5109, -5.0116, -4.0154, -5.1381, -4.3206, -5.402, -5.3926, -4.6457, -4.9039, -4.9464, -4.4393, -5.181, -5.1085, -5.0717, -4.9933, -4.9966, -4.777, -4.934, -5.0843, -5.1277, -4.9825, -5.0209, -5.1083, -5.1504, -5.4202, -5.5505, -5.5796, -5.468, -5.6468, -5.7668, -6.0662, -4.7699, -5.861, -6.1112, -4.3693, -3.9752, -6.1052, -5.3596, -4.5308, -5.4529, -4.3109, -5.9691, -6.2268, -5.9642, -5.7756, -5.7246, -6.1369, -4.4127, -4.3384, -6.0254, -5.695, -6.0485, -5.8236, -4.6767, -4.6506, -4.8928, -4.7828, -4.6028, -4.3301, -4.9908, -3.3636, -4.1886, -4.1349, -4.1131, -4.7417, -4.5312, -4.63, -5.0318, -4.9445, -4.5975, -4.9048, -4.2204, -5.0801, -4.7359, -4.7216, -4.9424, -4.7, -4.8942, -4.8991, -5.0768, -5.8181, -5.4939, -4.3888, -4.1888, -5.9765, -5.8331, -5.7256, -5.5196, -6.0925, -6.0404, -5.7991, -6.3322, -5.8518, -5.0495, -5.6342, -5.5347, -5.8961, -5.0277, -5.9154, -6.5035, -5.5289, -6.4772, -5.6285, -6.4241, -6.4851, -4.6065, -6.364, -6.2969, -5.3928, -4.6998, -4.9352, -4.6044, -5.5082, -4.5648, -5.2975, -4.074, -4.6206, -4.404, -4.1124, -4.0454, -4.7306, -4.191, -5.0315, -4.3121, -4.5498, -4.9658, -5.2992, -4.7145, -4.5678, -4.2145, -4.9554, -4.3596, -4.8764, -4.9735, -4.7557, -5.0429, -4.9312, -4.9469, -4.9783, -4.9907, -5.0159], \"loglift\": [30.0, 29.0, 28.0, 27.0, 26.0, 25.0, 24.0, 23.0, 22.0, 21.0, 20.0, 19.0, 18.0, 17.0, 16.0, 15.0, 14.0, 13.0, 12.0, 11.0, 10.0, 9.0, 8.0, 7.0, 6.0, 5.0, 4.0, 3.0, 2.0, 1.0, 1.2875, 1.2873, 1.287, 1.287, 1.286, 1.2859, 1.2859, 1.285, 1.2842, 1.2842, 1.2837, 1.2832, 1.282, 1.2813, 1.2812, 1.281, 1.2802, 1.2801, 1.2801, 1.28, 1.2798, 1.2785, 1.2781, 1.278, 1.2775, 1.276, 1.276, 1.2755, 1.2753, 1.2741, 1.2581, 1.2701, 1.2454, 1.2703, 1.2544, 1.2317, 1.2316, 1.1826, 1.1397, 1.1924, 0.9304, 0.7283, 0.3611, 0.3676, 0.0973, 0.2378, 0.0465, 0.3483, -0.1192, 0.4186, 0.4362, 0.2045, 0.009, 0.7051, 0.4226, 0.6004, 1.3467, 1.3048, 1.2985, 1.2864, 1.2523, 1.2508, 1.2405, 1.2375, 1.2348, 1.2329, 1.2305, 1.2267, 1.225, 1.2187, 1.2177, 1.2018, 1.1997, 1.1884, 1.188, 1.1871, 1.1836, 1.1795, 1.1577, 1.1571, 1.1553, 1.155, 1.1538, 1.1514, 1.1477, 1.141, 1.1299, 1.1265, 1.1118, 1.0954, 1.0298, 1.076, 1.0049, 1.0041, 0.7852, 0.7654, 0.9829, 0.7589, 1.0378, 1.0263, 0.5983, 0.9277, 0.9354, 0.8492, 0.2439, 0.8075, 0.29, 0.7737, 0.4312, 0.1728, 0.5731, 0.8, -0.0865, 0.1793, 0.4659, 0.295, 0.473, 0.3413, -0.2324, 0.1792, 0.5172, 0.4208, -0.195, 0.3672, 0.2183, -0.4449, -0.1894, -0.863, -0.2022, 0.0546, -0.1494, -0.8479, 0.0022, -0.1455, 1.6448, 1.6384, 1.6362, 1.6347, 1.6332, 1.6328, 1.6213, 1.6176, 1.5999, 1.5864, 1.5858, 1.5838, 1.5791, 1.5778, 1.5716, 1.5587, 1.5553, 1.5502, 1.55, 1.5344, 1.5141, 1.5134, 1.5051, 1.501, 1.5005, 1.4771, 1.4542, 1.4393, 1.4349, 1.4316, 1.3928, 1.3243, 1.4203, 1.29, 1.047, 0.8967, 1.0172, 0.8473, 0.8541, 1.0093, 0.466, 0.9298, 0.3795, 1.0651, 1.0508, 0.5191, 0.675, 0.6353, -0.0797, 0.6517, 0.5047, 0.4489, 0.3139, 0.3026, -0.1128, 0.1413, 0.3409, 0.3542, -0.0547, -0.1518, -0.0746, 0.0537, 1.8914, 1.8903, 1.8899, 1.8888, 1.8849, 1.8793, 1.8548, 1.8535, 1.8381, 1.8349, 1.8344, 1.8296, 1.7802, 1.7753, 1.7661, 1.7433, 1.7407, 1.7362, 1.7361, 1.7086, 1.7075, 1.6594, 1.658, 1.6425, 1.6281, 1.6234, 1.5984, 1.5957, 1.5875, 1.582, 1.5783, 1.5674, 1.515, 1.3656, 1.2871, 1.4392, 0.996, 1.158, 1.0743, 1.0517, 1.2107, 1.0843, 1.1325, 1.3106, 1.2418, 0.9232, 1.1093, 0.2611, 1.2726, 0.5633, 0.4825, 0.928, 0.3337, 0.6287, -0.235, 2.0172, 1.8941, 1.8589, 1.8301, 1.8268, 1.808, 1.7936, 1.7891, 1.741, 1.6838, 1.6721, 1.6601, 1.6401, 1.6211, 1.6206, 1.6175, 1.5912, 1.5908, 1.5759, 1.5709, 1.5359, 1.5322, 1.5199, 1.5082, 1.5049, 1.5018, 1.4685, 1.4659, 1.4615, 1.447, 1.4465, 1.4066, 1.3634, 1.4262, 1.3334, 1.3909, 1.2332, 1.301, 1.2091, 1.0917, 0.9883, 1.2146, 1.0182, 1.2953, 0.9871, 1.017, 1.2084, 1.3883, 0.9028, 0.7787, 0.4497, 1.0066, 0.1219, 0.6465, 0.7581, 0.1135, 0.7513, 0.1799, 0.1283, -0.0553, -0.0628, -0.6563]}, \"token.table\": {\"Topic\": [1, 2, 3, 4, 1, 1, 2, 3, 1, 1, 2, 3, 4, 5, 1, 2, 3, 4, 5, 1, 2, 5, 1, 2, 3, 4, 5, 2, 3, 5, 1, 1, 2, 3, 1, 2, 3, 4, 1, 2, 3, 4, 5, 2, 3, 4, 5, 2, 3, 2, 3, 4, 1, 2, 3, 4, 5, 1, 2, 3, 4, 5, 4, 1, 2, 3, 4, 5, 1, 2, 4, 2, 3, 4, 5, 1, 2, 3, 4, 5, 2, 4, 5, 2, 3, 4, 5, 3, 2, 3, 4, 5, 1, 2, 3, 4, 5, 2, 4, 1, 2, 3, 4, 5, 2, 3, 4, 5, 1, 3, 4, 5, 3, 1, 2, 4, 1, 2, 3, 4, 5, 2, 3, 3, 5, 2, 3, 4, 5, 2, 3, 4, 5, 2, 3, 5, 2, 3, 5, 1, 2, 1, 2, 3, 4, 5, 1, 2, 3, 4, 5, 2, 3, 1, 2, 3, 4, 5, 1, 2, 4, 5, 1, 2, 3, 4, 5, 1, 2, 3, 4, 5, 2, 3, 4, 5, 1, 2, 3, 5, 2, 2, 3, 4, 5, 2, 4, 1, 2, 3, 4, 5, 2, 3, 5, 2, 4, 5, 2, 3, 1, 2, 3, 5, 1, 2, 3, 4, 5, 2, 3, 1, 1, 1, 1, 1, 2, 3, 4, 1, 2, 3, 4, 5, 1, 2, 3, 4, 5, 1, 2, 2, 3, 1, 2, 3, 4, 5, 1, 2, 3, 4, 5, 2, 3, 4, 5, 2, 3, 1, 2, 3, 4, 5, 2, 3, 5, 2, 3, 2, 4, 1, 2, 3, 4, 5, 1, 2, 3, 4, 5, 1, 2, 4, 5, 1, 2, 1, 2, 4, 1, 2, 3, 4, 5, 1, 2, 3, 4, 5, 1, 2, 3, 4, 5, 1, 2, 3, 4, 5, 1, 2, 3, 4, 5, 1, 2, 3, 4, 5, 4, 4, 1, 2, 3, 4, 5, 2, 3, 5, 1, 2, 3, 5, 1, 2, 3, 4, 5, 3, 5, 2, 4, 2, 3, 4, 5, 2, 4, 1, 1, 2, 3, 4, 5, 1, 2, 3, 4, 5, 1, 2, 3, 4, 5, 1, 2, 2, 3, 5, 1, 2, 3, 5, 1, 2, 3, 4, 5, 2, 4, 1, 2, 3, 4, 5, 1, 2, 3, 4, 5, 1, 2, 3, 4, 5, 3, 2, 3, 2, 3, 4, 5, 3, 5, 1, 2, 3, 5, 1, 2, 3, 4, 5, 2, 3, 4, 5, 1, 2, 3, 4, 5, 3, 1, 2, 3, 4, 5, 1, 2, 3, 4, 5, 2, 3, 4, 5, 1, 2, 1, 2, 3, 4, 5, 1, 2, 3, 4, 5, 1, 2, 3, 4, 5, 1, 2, 3, 4, 5, 3, 2, 3, 4, 5, 1, 2, 3, 4, 1, 1, 2, 3, 4, 5, 1, 1, 2, 3, 4, 5, 1, 2, 3, 4, 5, 1, 2, 3, 4, 5, 1, 2, 4, 5, 1, 2, 3, 5, 1, 1, 2, 3, 4, 5, 1, 2, 3, 4, 5, 2, 3, 4, 5, 2, 3, 2, 3, 4, 5, 2, 3, 2, 4, 5, 1, 2, 3, 4, 5, 1, 2, 4, 1, 2, 3, 4, 5, 1, 2, 3, 4, 5, 2, 3, 1, 2, 3, 4, 5, 4, 2, 3, 4, 5, 1, 2, 3, 4, 1, 2, 4, 1, 2, 3, 2, 3, 4, 5, 2, 3, 1, 2, 3, 1, 2, 3, 1, 2, 3, 4, 5, 1, 2, 3, 4, 5, 2, 3, 4, 5, 3, 4, 5, 2, 3, 4, 5, 1, 2, 3, 4, 5, 2, 4, 1, 2, 3, 4, 5, 1, 2, 3, 1, 1, 2, 3, 1, 2, 3, 4, 5, 1, 2, 3, 4, 5, 1, 2, 3, 4, 5, 1, 2, 3, 4, 5, 1, 2, 3, 1, 2, 3, 4, 5, 2, 3, 5, 1, 1, 2, 3, 4, 5, 1, 2, 3, 1, 2, 3, 4, 5, 1, 2, 3, 4, 5, 2, 3, 1, 2, 3, 4, 1, 1, 2, 3, 4, 5, 2, 4, 5, 2, 4, 5, 2, 3, 1, 2, 3, 4, 5, 1, 2, 3, 5, 2, 3, 2, 3, 4, 5, 1, 2, 3, 4, 5, 2, 3, 4, 5, 2, 3, 4, 5, 2, 4, 5, 2, 4, 2, 3, 4, 5, 1, 2, 3, 4, 5, 1, 2, 3, 4, 5, 2, 3, 1, 2, 3, 4, 5, 1, 2, 2, 3, 4, 5, 1, 1, 1, 2, 3, 4, 5, 1, 2, 3, 5, 2, 3, 1, 2, 3, 4, 5, 1, 2, 3, 4, 5, 2, 3, 4, 5, 1, 2, 3, 4, 5, 1, 2, 3, 1, 2, 4, 1, 2, 3, 1, 2, 3, 4, 5, 2, 3, 4, 5, 2, 3, 2, 3, 4, 5, 1, 2, 4, 1, 2, 3, 1, 2, 3, 4, 5, 2, 3, 5, 1, 2, 3, 1, 2, 3, 4, 5, 2, 3, 4, 5, 2, 3, 1, 2, 3, 5, 2, 4, 5, 1, 2, 3, 4, 1, 2, 3, 4, 5, 2, 4, 5, 1, 2, 3, 4, 5, 2, 4, 2, 3, 4, 5, 2, 3, 1, 2, 3, 1, 2, 3, 4, 5, 2, 3, 4, 5, 1, 2, 3, 4, 5, 1, 2, 3, 2, 4, 5, 1, 2, 3, 4, 5, 1, 1, 2, 1, 2, 4, 5, 1, 2, 3, 4, 5, 2, 3, 4, 5], \"Freq\": [0.02285869054950822, 0.822912859782296, 0.09143476219803288, 0.06857607164852467, 0.9934751172987478, 0.9464553467270895, 0.05150777397154229, 0.006438471746442786, 0.9814049708759668, 0.18519066317352464, 0.16962842257070745, 0.2707829864890193, 0.23343360904225796, 0.1416163894856365, 0.05314684726950155, 0.6301697604812326, 0.2201797958307921, 0.060739254022287484, 0.030369627011143742, 0.12420380861168406, 0.8694266602817885, 0.024840761722336815, 0.07126038725785436, 0.42006123015156255, 0.16127350800461776, 0.17252514809796318, 0.17252514809796318, 0.866835384682153, 0.10835442308526913, 0.027088605771317283, 0.9985409724985146, 0.16425698345971257, 0.7978196339471753, 0.02346528335138751, 0.08063278855047018, 0.14110737996332282, 0.04031639427523509, 0.7357741955230405, 0.18884503239247055, 0.5400305312275911, 0.0993921223118266, 0.04638299041218575, 0.12589668826164702, 0.14403932338739767, 0.19525330503625019, 0.09922708944465174, 0.5601529242843243, 0.02522627352195897, 0.9712115305954204, 0.7886674621947682, 0.1883384984345715, 0.01177115615216072, 0.9870188830288158, 0.2888513615691308, 0.032094595729903426, 0.09628378718971027, 0.5777027231382617, 0.24058309467368236, 0.39908489822340254, 0.16699297159702658, 0.01981272544371502, 0.1726537502952309, 0.9879011647577144, 0.2599907449589918, 0.1290988526692925, 0.13089189228969933, 0.11475453570603776, 0.3657800825629954, 0.9992984874844162, 0.20965615612756427, 0.7834519518451085, 0.3026706507837219, 0.14077704687614973, 0.007038852343807486, 0.5490304828169839, 0.01919104390464739, 0.10195242074343926, 0.32264942564688426, 0.4282001671224449, 0.12834010611232943, 0.032941232565533975, 0.1482355465449029, 0.8070601978555824, 0.14217121340530733, 0.6970975625034423, 0.11924037253348356, 0.03668934539491802, 0.9965159064451077, 0.07545593320831344, 0.11318389981247015, 0.02515197773610448, 0.7922872986872911, 0.5014614528174668, 0.18404702257662345, 0.1413694521240731, 0.08535514090510073, 0.08535514090510073, 0.917804408539092, 0.07300716886106413, 0.042169785007500446, 0.2453514764072753, 0.21851615867522958, 0.007667233637727353, 0.48303571917682325, 0.07792131057277746, 0.8629063652318689, 0.02020182125960897, 0.04040364251921794, 0.9991623102383217, 0.9095097529071652, 0.016536540961948457, 0.06614616384779383, 0.9761480440093713, 0.020629518849546905, 0.020629518849546905, 0.9541152467915444, 0.00984609152834379, 0.14769137292515686, 0.7729181849749875, 0.03938436611337516, 0.02953827458503137, 0.03877796006505856, 0.9565230149381112, 0.7956940396881295, 0.19892350992203237, 0.14235799077365346, 0.1581755453040594, 0.5008892267961881, 0.19771943163007424, 0.056572232922775925, 0.07542964389703456, 0.541207694961223, 0.32623320985467447, 0.15510845750501395, 0.25851409584168994, 0.5687310108517178, 0.285462727432168, 0.11418509097286719, 0.5899563033598139, 0.9784354767443936, 0.010993657042071838, 0.35702162855026315, 0.44459297140221443, 0.09430759999440913, 0.060626314282120154, 0.04378567142597566, 0.17165000889040405, 0.1154198335642372, 0.48535519755217693, 0.1686905259785005, 0.056230175326166844, 0.8061149646341134, 0.17913665880758076, 0.008636814095790197, 0.6650346853758452, 0.08636814095790198, 0.11227858324527257, 0.12955221143685297, 0.0752140785752555, 0.06446921020736186, 0.7270694262274698, 0.1325200432040216, 0.04658244545170121, 0.040759639770238554, 0.01746841704438795, 0.8530410323342784, 0.043671042610969886, 0.2553197968033141, 0.40031622461754185, 0.15130062032788982, 0.17966948663936919, 0.012608385027324153, 0.19796369559703272, 0.1869657125083087, 0.08248487316543031, 0.5279031882587539, 0.9961622564404401, 0.7030210241477923, 0.2789765968840446, 0.011159063875361782, 0.9580442983326007, 0.0624597300474904, 0.8644994454300375, 0.019873550469656037, 0.05252295481266238, 0.012790828838222268, 0.9848938205431147, 0.17760913335509443, 0.4551234042224295, 0.16206833418652367, 0.06438331084122173, 0.13986719251713686, 0.039017201153710324, 0.2048403060569792, 0.7510811222089238, 0.008600916560778828, 0.8858944057602193, 0.10321099872934593, 0.7778133079638315, 0.21605925221217542, 0.09625375115572955, 0.8085315097081283, 0.03850150046229182, 0.03850150046229182, 0.09377944883026766, 0.15239160434918494, 0.45131359749566313, 0.12015491881378045, 0.1816976821086436, 0.0592278594312271, 0.9377744409944291, 0.9954354681992517, 0.9900941040609931, 0.9973778887823522, 0.9943541410648855, 0.0903123685856563, 0.7676551329780786, 0.12041649144754174, 0.015052061430942718, 0.24685055977518688, 0.5496539130994161, 0.08557486072206479, 0.05595279354904236, 0.06582681594004984, 0.03891594208555428, 0.12842260888232912, 0.08561507258821942, 0.2101460872619931, 0.5409315949892045, 0.9931603810308045, 0.004493938375704998, 0.15265303019586013, 0.8395916660772307, 0.04333301770013194, 0.8016608274524409, 0.04333301770013194, 0.04333301770013194, 0.08666603540026388, 0.5708298195637337, 0.2050163436461297, 0.13868752658414657, 0.05426903214162257, 0.030149462300901427, 0.12037278069969816, 0.07523298793731135, 0.4376052131686944, 0.3661338746282486, 0.16055616005359985, 0.8206203736072881, 0.01992492200405603, 0.8766965681784654, 0.01992492200405603, 0.01992492200405603, 0.07969968801622412, 0.16859501124254808, 0.12261455363094406, 0.7050336833779284, 0.05809477935759021, 0.9384541280841494, 0.13717647346046918, 0.8596392336856069, 0.9009472194008914, 0.05561402588894391, 0.011122805177788783, 0.022245610355577566, 0.005561402588894392, 0.020371047004086543, 0.3259367520653847, 0.06111314101225963, 0.020371047004086543, 0.6111314101225963, 0.43744124805146484, 0.09533975919070388, 0.45426591143805967, 0.011216442257729869, 0.9644086454672726, 0.02630205396728925, 0.01314226713331019, 0.2672260983773072, 0.7184439366209571, 0.07916167500205509, 0.08604529891527728, 0.003441811956611091, 0.010325435869833272, 0.8225930576300508, 0.2298529057959144, 0.3348146373443377, 0.1860081318579654, 0.0996472134953386, 0.1488065054863723, 0.011162216659409674, 0.026045172205289235, 0.026045172205289235, 0.8743736383204244, 0.06697329995645804, 0.19902820161862705, 0.3618694574884128, 0.17188799230699608, 0.1417322041829617, 0.1266543101209445, 0.3955085686254362, 0.10760159587603779, 0.1715809231536819, 0.11850716302563621, 0.20720577584237007, 0.14473199135856227, 0.35261976076449714, 0.1368375191026407, 0.29998994572501997, 0.06578726879934649, 0.9927884324643104, 0.9956119465332868, 0.24466802653886233, 0.10537682331129218, 0.3058350331735779, 0.1944020705915218, 0.1489810260607924, 0.26533264897938885, 0.06030287476804292, 0.6633316224484721, 0.011896786591988562, 0.26172930502374836, 0.023793573183977124, 0.6900136223353366, 0.17799592009956738, 0.18061350715985514, 0.1492024624364021, 0.047116567085179605, 0.4449898002489185, 0.9431715913122696, 0.0563087517201355, 0.04536644209619702, 0.9375731366547385, 0.08065803877872517, 0.20164509694681293, 0.12098705816808776, 0.5847707811457575, 0.03775702752609097, 0.9628042019153197, 0.9941820619420033, 0.029618271462010376, 0.22378249549074505, 0.22049157643941056, 0.08556389533469665, 0.4409831528788211, 0.1921998576633245, 0.5579995867644905, 0.07439994490193207, 0.018599986225483017, 0.15499988521235847, 0.22562160924767105, 0.21536608155459508, 0.1811809892443419, 0.17776248001331657, 0.19998279001498115, 0.9903616177440304, 0.007502739528363866, 0.11760865097653082, 0.8755310683808405, 0.013067627886281201, 0.1601806364388372, 0.6941160912349612, 0.02135741819184496, 0.11746580005514728, 0.22689292026536995, 0.236249329348478, 0.36957815878276756, 0.12397242035118153, 0.044442943144763186, 0.05807665137086523, 0.9292264219338436, 0.1869326088797652, 0.14882013522466744, 0.37749497715525404, 0.19782188706693601, 0.0889291051952281, 0.12289685015159792, 0.17131076081737892, 0.014896587897163385, 0.6815188962952248, 0.011172440922872538, 0.16179300293645535, 0.15673697159469113, 0.03539221939234961, 0.00505603134176423, 0.6370599490622929, 0.9936066947136023, 0.1286061464341188, 0.8634984117719405, 0.07669160704701794, 0.2377439818457556, 0.19939817832224663, 0.4857135112977803, 0.992033785163176, 0.990857542768513, 0.08518967172681295, 0.6985553081598662, 0.1788983106263072, 0.03407586869072518, 0.013937920226599834, 0.298669719141425, 0.5316321000717364, 0.03982262921885667, 0.11548562473468434, 0.11007332138932871, 0.12230369043258746, 0.12230369043258746, 0.6482095592927135, 0.3498363748651076, 0.19812162045932113, 0.1651013503827676, 0.1383281584288053, 0.14814499547859147, 0.9823212698553012, 0.1409751696893411, 0.11677793907102137, 0.1777970423693929, 0.209358647523723, 0.3545420312336414, 0.13555353576073317, 0.18188195937516094, 0.14928047609093398, 0.2796864092278418, 0.2522325285674402, 0.19333701183649826, 0.02900055177547474, 0.10633535651007404, 0.667012690835919, 0.1131776186768724, 0.8601499019442301, 0.4266687359415443, 0.14742618924809459, 0.1682392983184138, 0.14222291198051476, 0.11447209988675579, 0.3039921109855624, 0.04503586829415739, 0.17746276673054875, 0.40478667335820034, 0.06862608501966841, 0.012198162199660863, 0.7318897319796518, 0.18297243299491295, 0.012198162199660863, 0.07318897319796518, 0.28299688002934414, 0.3356928507934289, 0.16784642539671446, 0.08782661794014128, 0.12686067035798185, 0.9823455949365223, 0.04551669238490296, 0.06693631233073966, 0.3694884440656829, 0.5167483311933101, 0.08459675434814092, 0.8459675434814091, 0.06344756576110568, 0.010574594293517614, 0.998701426743273, 0.30866924744419655, 0.38636150700498073, 0.11338870314276607, 0.09659037675124518, 0.09449058595230507, 0.9941396529480043, 0.12477181118737277, 0.533746081190428, 0.2010212513574339, 0.03119295279684319, 0.10744239296690433, 0.7004873801003959, 0.07557125262493897, 0.14242274533161575, 0.07847783926435971, 0.0029065866394207295, 0.04241591701215442, 0.11851506223984325, 0.20209936929320638, 0.24202023236346934, 0.394218522818847, 0.06657179731985047, 0.11650064530973832, 0.782218618508243, 0.016642949329962617, 0.25295488239500863, 0.6803614078210577, 0.017445164303104044, 0.05233549290931213, 0.9895933760583082, 0.08067316549798823, 0.18751060088721586, 0.23983914066969472, 0.4644157905694998, 0.026164269891239423, 0.28866058797245087, 0.22987331418171675, 0.2803700750019627, 0.10626930262171168, 0.09496405766195512, 0.13325229155798157, 0.1099331405353348, 0.5163526297871787, 0.23652281751541732, 0.8655900398548032, 0.1217235993545817, 0.16525189585769368, 0.1888593095516499, 0.5351013770630081, 0.11016793057179577, 0.18994819734990337, 0.8036269887880527, 0.06111770556955101, 0.29336498673384487, 0.6356241379233305, 0.25556755294234607, 0.15440539656933408, 0.1677162066184146, 0.061229726225770414, 0.36205403333499026, 0.05725498809509653, 0.20039245833283784, 0.7443148452362548, 0.03245295509992541, 0.7950973999481724, 0.03245295509992541, 0.016226477549962703, 0.12981182039970163, 0.05835938749949563, 0.09601060524110572, 0.19578633225637243, 0.44240180846391847, 0.20708169757885547, 0.01680808624560629, 0.9748690022451648, 0.005358165114558921, 0.18485669645228278, 0.05626073370286867, 0.5867190800442018, 0.16610311855132656, 0.9855947537978778, 0.12237867024822356, 0.3096929614444841, 0.0674331448306538, 0.5020023004059783, 0.027811569660156278, 0.22249255728125023, 0.02085867724511721, 0.7265772573715827, 0.02267494573959213, 0.23808693026571734, 0.7369357365367442, 0.9967278329835736, 0.817691271092791, 0.16725503272352543, 0.28132949839671123, 0.05967595420536299, 0.008525136315051855, 0.647910359943941, 0.09180345128931625, 0.8950836500708335, 0.1301103493049005, 0.6877261320401884, 0.1858719275784293, 0.9865936619281742, 0.8556332818020858, 0.11801838369683941, 0.005459258002156246, 0.21655056741886444, 0.3621307808096977, 0.20745180408193736, 0.20745180408193736, 0.03004868475698273, 0.1539995093795365, 0.3173892327456301, 0.0544632411220312, 0.44321810016549523, 0.20436319922992882, 0.5464494240278531, 0.0947771358747496, 0.15253195304842515, 0.9048638482627468, 0.06738347806211945, 0.028878633455194046, 0.8625909883067402, 0.05391193676917126, 0.02695596838458563, 0.05391193676917126, 0.23677332813204174, 0.205062614542929, 0.1881502339620689, 0.08878999804951565, 0.28116832715679957, 0.01434058253197708, 0.9751596121744415, 0.0013719734519242672, 0.12210563722125978, 0.2593029824136865, 0.2634189027694593, 0.35396915059646095, 0.9709337722382902, 0.026798596685982532, 0.0020614305143063488, 0.9899841328155053, 0.9576247903305749, 0.027919090097101307, 0.011167636038840523, 0.3904320138628249, 0.20776560737700325, 0.14780640524806943, 0.1143408040598273, 0.1394400049510089, 0.05898039088059555, 0.1039178315515255, 0.008425770125799365, 0.008425770125799365, 0.8201082922444715, 0.41836609170697564, 0.06753153448813387, 0.2734203591470786, 0.16471105972715577, 0.07576708747449165, 0.9958063618249111, 0.14627273443568095, 0.7213905311941538, 0.03324380328083658, 0.09640702951442608, 0.08906051014116483, 0.7837324892422505, 0.12468471419763076, 0.34896896244730197, 0.38098446358925625, 0.18248835650913955, 0.04802325171293147, 0.03841860137034517, 0.13904635810859522, 0.010695873700661171, 0.8449740223522325, 0.9940068570378018, 0.05175358044246607, 0.7633653115263745, 0.1423223462167817, 0.03881518533184956, 0.012938395110616518, 0.1697489693499945, 0.7442839425345913, 0.07834567816153593, 0.9938922773246653, 0.20490458898223718, 0.08964575767972877, 0.14087190492528806, 0.5634876197011522, 0.557906851733185, 0.28776248142027433, 0.10570866664418242, 0.014681759256136446, 0.03523622221472747, 0.08877489283932381, 0.9055039069611028, 0.14978503452349998, 0.7917208967670714, 0.021397862074785712, 0.042795724149571425, 0.9968952013898088, 0.05586357796857415, 0.3108929556511953, 0.15301762660957266, 0.3789007896998942, 0.09958289985702348, 0.03446842930903299, 0.36191850774484635, 0.594580405580819, 0.05762531175645917, 0.9355638849872194, 0.0033897242209681867, 0.07485627596401624, 0.9132465667609981, 0.09595597274976739, 0.5877303330923253, 0.08396147615604646, 0.023988993187441847, 0.20990369039011614, 0.05962018210597805, 0.2186073343885862, 0.05962018210597805, 0.6756953972010846, 0.11190153151608548, 0.8728319458254666, 0.08918979490989982, 0.14673159807757713, 0.4761584212125297, 0.28770901583838654, 0.013830294183455117, 0.09681205928418582, 0.2627755894856472, 0.17287867729318895, 0.45363364921732785, 0.137600329057908, 0.17062440803180592, 0.1596163817071733, 0.5283852635823668, 0.15389628323028576, 0.8105204250128384, 0.010259752215352384, 0.030779256646057154, 0.08168072122370797, 0.21236987518164072, 0.7187903467686302, 0.17058288376375363, 0.8285454354239463, 0.051011518178607704, 0.10627399620543272, 0.6291420575361617, 0.21254799241086544, 0.02274669458725777, 0.03639471133961243, 0.004549338917451554, 0.9326144780775687, 0.004549338917451554, 0.03446215882197562, 0.3360060485142623, 0.547086771298863, 0.025846619116481714, 0.05600100808571038, 0.18992633118552277, 0.8028704000115281, 0.18478763333929293, 0.2116116446304806, 0.017882674194125123, 0.011921782796083415, 0.5752260199110247, 0.16309027094396542, 0.815451354719827, 0.17001398037102894, 0.08500699018551447, 0.14876223282465031, 0.61630067884498, 0.9919369746337708, 0.9989296007403082, 0.9851378093067412, 0.2317077512324805, 0.047939534737754586, 0.11185891438809403, 0.6152240291345171, 0.991006452592387, 0.8541448962430936, 0.02135362240607734, 0.1067681120303867, 0.8639136573030641, 0.12704612607398003, 0.06977341030560424, 0.23632929297059505, 0.23858004814174355, 0.17330814817843637, 0.279093641222417, 0.28019446146771165, 0.5442238578507476, 0.03771848519757657, 0.043106840225801794, 0.09699039050805403, 0.1188991539591991, 0.010809013996290827, 0.1999667589313803, 0.6701588677700313, 0.33895127720297064, 0.2990746563555623, 0.19653477417651238, 0.12105402757248951, 0.04414911593820205, 0.021914138928750673, 0.8546514182212762, 0.13148483357250404, 0.03643971230914077, 0.07287942461828154, 0.8927729515739488, 0.9475615861736284, 0.04594237993569107, 0.005742797491961384, 0.1913793601763538, 0.637931200587846, 0.11961210011022112, 0.01594828001469615, 0.03987070003674038, 0.2602759038501176, 0.5558434556799121, 0.05293747196951545, 0.127932223926329, 0.0666628847257757, 0.9332803861608597, 0.10427838661584252, 0.0989307770457993, 0.7620343637311568, 0.032085657420259234, 0.1325675927605236, 0.029459465057894135, 0.8248650216210358, 0.049106512923005594, 0.014030432263715885, 0.9330237455371063, 0.2840465170788602, 0.2506292797754649, 0.2694264757586248, 0.110694598567497, 0.0835430932584883, 0.8286643960238459, 0.15828421047646496, 0.009310835910380292, 0.07695184872330346, 0.8208197197152369, 0.07695184872330346, 0.010359644629829115, 0.31926541177382456, 0.4708929377195053, 0.07440108415968183, 0.12525752143338842, 0.27387228666682584, 0.5279805938834684, 0.05082166144332851, 0.14681813305850458, 0.053836783726255014, 0.9331709179217537, 0.06652053888115839, 0.8115505743501323, 0.06652053888115839, 0.03991232332869503, 0.014065561674171287, 0.18285230176422673, 0.787671453753592, 0.8619794080828304, 0.0324400852504291, 0.046342978929184424, 0.06024587260793975, 0.4215188131466804, 0.2634492582166752, 0.1053797032866701, 0.1264556439440041, 0.08219616856360266, 0.09642655732765248, 0.7743344755099366, 0.12856874310353664, 0.3984292043978853, 0.1608859020133979, 0.18170643050924937, 0.13533343522303468, 0.1239767833162066, 0.9084475500451775, 0.08258614091319795, 0.0467264630030789, 0.031150975335385935, 0.5529298122031003, 0.36602396019078476, 0.9212722597120531, 0.06281401770763999, 0.13704697869928567, 0.8051509998583032, 0.06852348934964284, 0.18253334403804328, 0.5590083661165075, 0.14830834203091017, 0.03992916900832197, 0.07415417101545509, 0.07607984963859903, 0.015215969927719805, 0.852094315952309, 0.06086387971087922, 0.05115609638015142, 0.2978421611466594, 0.44790004386177024, 0.04547208567124571, 0.15801549770757883, 0.9103501959442871, 0.05394667827817998, 0.03371667392386249, 0.17256547590354326, 0.7621641852406494, 0.057521825301181086, 0.2785518767395971, 0.20617225522458366, 0.22152550827322287, 0.14475924303002682, 0.1502425476902551, 0.985643637931391, 0.9833542164085519, 0.011706597814387522, 0.9961241598162198, 0.01968749185953194, 0.8465621499598734, 0.11812495115719164, 0.10272607918760125, 0.19346744913664904, 0.30132983228363036, 0.37666229035453797, 0.025681519796900313, 0.0919213834944125, 0.015320230582402084, 0.015320230582402084, 0.8732531431969188], \"Term\": [\"100\", \"100\", \"100\", \"100\", \"actin\", \"action\", \"action\", \"action\", \"actor\", \"also\", \"also\", \"also\", \"also\", \"also\", \"amazon\", \"amazon\", \"amazon\", \"amazon\", \"amazon\", \"anyway\", \"anyway\", \"anyway\", \"around\", \"around\", \"around\", \"around\", \"around\", \"attache\", \"attache\", \"attache\", \"author\", \"available\", \"available\", \"available\", \"baby\", \"baby\", \"baby\", \"baby\", \"back\", \"back\", \"back\", \"back\", \"back\", \"bag\", \"bag\", \"bag\", \"bag\", \"bathroom\", \"bathroom\", \"batterie\", \"batterie\", \"batterie\", \"believable\", \"belt\", \"belt\", \"belt\", \"belt\", \"better\", \"better\", \"better\", \"better\", \"better\", \"birthday\", \"bit\", \"bit\", \"bit\", \"bit\", \"bit\", \"book\", \"boot\", \"boot\", \"bottom\", \"bottom\", \"bottom\", \"bottom\", \"bought\", \"bought\", \"bought\", \"bought\", \"bought\", \"bra\", \"bra\", \"bra\", \"bright\", \"bright\", \"bright\", \"bright\", \"bulb\", \"bulky\", \"bulky\", \"bulky\", \"bulky\", \"cant\", \"cant\", \"cant\", \"cant\", \"cant\", \"card\", \"card\", \"case\", \"case\", \"case\", \"case\", \"case\", \"cat\", \"cat\", \"cat\", \"cat\", \"character\", \"chew\", \"chew\", \"chew\", \"chewer\", \"christma\", \"christma\", \"christma\", \"clean\", \"clean\", \"clean\", \"clean\", \"clean\", \"coffee\", \"coffee\", \"collar\", \"collar\", \"color\", \"color\", \"color\", \"color\", \"comfortable\", \"comfortable\", \"comfortable\", \"comfortable\", \"compact\", \"compact\", \"compact\", \"construction\", \"construction\", \"construction\", \"copy\", \"copy\", \"could\", \"could\", \"could\", \"could\", \"could\", \"couple\", \"couple\", \"couple\", \"couple\", \"couple\", \"customer\", \"customer\", \"cut\", \"cut\", \"cut\", \"cut\", \"cut\", \"cute\", \"cute\", \"cute\", \"cute\", \"daughter\", \"daughter\", \"daughter\", \"daughter\", \"daughter\", \"day\", \"day\", \"day\", \"day\", \"day\", \"design\", \"design\", \"design\", \"design\", \"develope\", \"device\", \"device\", \"device\", \"disc\", \"dog\", \"dog\", \"dog\", \"dog\", \"doll\", \"doll\", \"dont\", \"dont\", \"dont\", \"dont\", \"dont\", \"downside\", \"downside\", \"downside\", \"dres\", \"dres\", \"dres\", \"drive\", \"drive\", \"due\", \"due\", \"due\", \"due\", \"easy\", \"easy\", \"easy\", \"easy\", \"easy\", \"eat\", \"eat\", \"endin\", \"enjoyable\", \"enjoye\", \"entertainin\", \"etc\", \"etc\", \"etc\", \"etc\", \"even\", \"even\", \"even\", \"even\", \"even\", \"expecte\", \"expecte\", \"expecte\", \"expecte\", \"expecte\", \"film\", \"film\", \"filter\", \"filter\", \"finger\", \"finger\", \"finger\", \"finger\", \"finger\", \"first\", \"first\", \"first\", \"first\", \"first\", \"fit\", \"fit\", \"fit\", \"fit\", \"flashlight\", \"flashlight\", \"flat\", \"flat\", \"flat\", \"flat\", \"flat\", \"flimsy\", \"flimsy\", \"flimsy\", \"food\", \"food\", \"foot\", \"foot\", \"forward\", \"forward\", \"forward\", \"forward\", \"forward\", \"frame\", \"frame\", \"frame\", \"frame\", \"frame\", \"fun\", \"fun\", \"fun\", \"fun\", \"funny\", \"funny\", \"game\", \"game\", \"game\", \"gave\", \"gave\", \"gave\", \"gave\", \"gave\", \"get\", \"get\", \"get\", \"get\", \"get\", \"gift\", \"gift\", \"gift\", \"gift\", \"gift\", \"go\", \"go\", \"go\", \"go\", \"go\", \"good\", \"good\", \"good\", \"good\", \"good\", \"got\", \"got\", \"got\", \"got\", \"got\", \"granddaughter\", \"grandson\", \"great\", \"great\", \"great\", \"great\", \"great\", \"grip\", \"grip\", \"grip\", \"gun\", \"gun\", \"gun\", \"gun\", \"hard\", \"hard\", \"hard\", \"hard\", \"hard\", \"harnes\", \"harnes\", \"hat\", \"hat\", \"heavier\", \"heavier\", \"heavier\", \"heavier\", \"heel\", \"heel\", \"history\", \"hold\", \"hold\", \"hold\", \"hold\", \"hold\", \"however\", \"however\", \"however\", \"however\", \"however\", \"im\", \"im\", \"im\", \"im\", \"im\", \"interestin\", \"interestin\", \"ipad\", \"ipad\", \"ipad\", \"isnt\", \"isnt\", \"isnt\", \"isnt\", \"ive\", \"ive\", \"ive\", \"ive\", \"ive\", \"jean\", \"jean\", \"keep\", \"keep\", \"keep\", \"keep\", \"keep\", \"kid\", \"kid\", \"kid\", \"kid\", \"kid\", \"kind\", \"kind\", \"kind\", \"kind\", \"kind\", \"lab\", \"lamp\", \"lamp\", \"large\", \"large\", \"large\", \"large\", \"leash\", \"len\", \"les\", \"les\", \"les\", \"les\", \"light\", \"light\", \"light\", \"light\", \"light\", \"lightweight\", \"lightweight\", \"lightweight\", \"lightweight\", \"like\", \"like\", \"like\", \"like\", \"like\", \"litter\", \"little\", \"little\", \"little\", \"little\", \"little\", \"look\", \"look\", \"look\", \"look\", \"look\", \"loose\", \"loose\", \"loose\", \"loose\", \"lose\", \"lose\", \"lot\", \"lot\", \"lot\", \"lot\", \"lot\", \"love\", \"love\", \"love\", \"love\", \"love\", \"low\", \"low\", \"low\", \"low\", \"low\", \"make\", \"make\", \"make\", \"make\", \"make\", \"mat\", \"material\", \"material\", \"material\", \"material\", \"minute\", \"minute\", \"minute\", \"minute\", \"movie\", \"much\", \"much\", \"much\", \"much\", \"much\", \"mystery\", \"nee\", \"nee\", \"nee\", \"nee\", \"nee\", \"next\", \"next\", \"next\", \"next\", \"next\", \"nice\", \"nice\", \"nice\", \"nice\", \"nice\", \"normally\", \"normally\", \"normally\", \"normally\", \"nothin\", \"nothin\", \"nothin\", \"nothin\", \"novel\", \"old\", \"old\", \"old\", \"old\", \"old\", \"one\", \"one\", \"one\", \"one\", \"one\", \"ordere\", \"ordere\", \"ordere\", \"ordere\", \"pad\", \"pad\", \"pair\", \"pair\", \"pair\", \"pair\", \"pan\", \"pan\", \"pant\", \"pant\", \"pant\", \"part\", \"part\", \"part\", \"part\", \"part\", \"party\", \"party\", \"party\", \"pay\", \"pay\", \"pay\", \"pay\", \"pay\", \"perfect\", \"perfect\", \"perfect\", \"perfect\", \"perfect\", \"picky\", \"picky\", \"piece\", \"piece\", \"piece\", \"piece\", \"piece\", \"pillow\", \"plastic\", \"plastic\", \"plastic\", \"plastic\", \"play\", \"play\", \"play\", \"play\", \"playin\", \"playin\", \"playin\", \"plot\", \"plug\", \"plug\", \"pocket\", \"pocket\", \"pocket\", \"pocket\", \"portable\", \"portable\", \"power\", \"power\", \"power\", \"predictable\", \"pres\", \"pres\", \"price\", \"price\", \"price\", \"price\", \"price\", \"problem\", \"problem\", \"problem\", \"problem\", \"problem\", \"product\", \"product\", \"product\", \"product\", \"puppy\", \"puppy\", \"puppy\", \"push\", \"push\", \"push\", \"push\", \"put\", \"put\", \"put\", \"put\", \"put\", \"puzzle\", \"puzzle\", \"quality\", \"quality\", \"quality\", \"quality\", \"quality\", \"read\", \"read\", \"read\", \"reader\", \"readin\", \"readin\", \"readin\", \"really\", \"really\", \"really\", \"really\", \"really\", \"reason\", \"reason\", \"reason\", \"reason\", \"reason\", \"recommend\", \"recommend\", \"recommend\", \"recommend\", \"recommend\", \"relationship\", \"replace\", \"replace\", \"replace\", \"replace\", \"require\", \"require\", \"require\", \"review\", \"review\", \"review\", \"review\", \"review\", \"rin\", \"rin\", \"rin\", \"romance\", \"runnin\", \"runnin\", \"runnin\", \"runnin\", \"runnin\", \"save\", \"save\", \"save\", \"scene\", \"screw\", \"screw\", \"screw\", \"screw\", \"see\", \"see\", \"see\", \"see\", \"see\", \"sensitive\", \"sensitive\", \"sent\", \"sent\", \"sent\", \"sent\", \"serie\", \"set\", \"set\", \"set\", \"set\", \"set\", \"shirt\", \"shirt\", \"shirt\", \"shoe\", \"shoe\", \"shoe\", \"shower\", \"shower\", \"side\", \"side\", \"side\", \"side\", \"side\", \"sight\", \"sight\", \"sight\", \"sight\", \"sink\", \"sink\", \"size\", \"size\", \"size\", \"size\", \"small\", \"small\", \"small\", \"small\", \"small\", \"smaller\", \"smaller\", \"smaller\", \"smaller\", \"smell\", \"smell\", \"smell\", \"smell\", \"snug\", \"snug\", \"snug\", \"sock\", \"sock\", \"soft\", \"soft\", \"soft\", \"soft\", \"son\", \"son\", \"son\", \"son\", \"son\", \"sound\", \"sound\", \"sound\", \"sound\", \"sound\", \"speaker\", \"speaker\", \"star\", \"star\", \"star\", \"star\", \"star\", \"step\", \"step\", \"stiff\", \"stiff\", \"stiff\", \"stiff\", \"storie\", \"story\", \"storyline\", \"strap\", \"strap\", \"strap\", \"strap\", \"suspense\", \"tape\", \"tape\", \"tape\", \"test\", \"test\", \"thin\", \"thin\", \"thin\", \"thin\", \"thin\", \"though\", \"though\", \"though\", \"though\", \"though\", \"tight\", \"tight\", \"tight\", \"tight\", \"time\", \"time\", \"time\", \"time\", \"time\", \"tip\", \"tip\", \"tip\", \"toe\", \"toe\", \"toe\", \"told\", \"told\", \"told\", \"took\", \"took\", \"took\", \"took\", \"took\", \"tool\", \"tool\", \"tool\", \"tool\", \"towel\", \"towel\", \"toy\", \"toy\", \"toy\", \"toy\", \"train\", \"train\", \"train\", \"treat\", \"treat\", \"treat\", \"two\", \"two\", \"two\", \"two\", \"two\", \"unit\", \"unit\", \"unit\", \"unles\", \"unles\", \"unles\", \"use\", \"use\", \"use\", \"use\", \"use\", \"usin\", \"usin\", \"usin\", \"usin\", \"vacuum\", \"vacuum\", \"video\", \"video\", \"video\", \"video\", \"waist\", \"waist\", \"waist\", \"wait\", \"wait\", \"wait\", \"wait\", \"way\", \"way\", \"way\", \"way\", \"way\", \"wear\", \"wear\", \"wear\", \"well\", \"well\", \"well\", \"well\", \"well\", \"wheel\", \"wheel\", \"wide\", \"wide\", \"wide\", \"wide\", \"window\", \"window\", \"within\", \"within\", \"within\", \"without\", \"without\", \"without\", \"without\", \"without\", \"wooden\", \"wooden\", \"wooden\", \"wooden\", \"work\", \"work\", \"work\", \"work\", \"work\", \"world\", \"world\", \"world\", \"worn\", \"worn\", \"worn\", \"would\", \"would\", \"would\", \"would\", \"would\", \"writer\", \"writin\", \"writin\", \"written\", \"xl\", \"xl\", \"xl\", \"year\", \"year\", \"year\", \"year\", \"year\", \"zipper\", \"zipper\", \"zipper\", \"zipper\"]}, \"R\": 30, \"lambda.step\": 0.01, \"plot.opts\": {\"xlab\": \"PC1\", \"ylab\": \"PC2\"}, \"topic.order\": [2, 1, 4, 3, 5]};\n",
              "\n",
              "function LDAvis_load_lib(url, callback){\n",
              "  var s = document.createElement('script');\n",
              "  s.src = url;\n",
              "  s.async = true;\n",
              "  s.onreadystatechange = s.onload = callback;\n",
              "  s.onerror = function(){console.warn(\"failed to load library \" + url);};\n",
              "  document.getElementsByTagName(\"head\")[0].appendChild(s);\n",
              "}\n",
              "\n",
              "if(typeof(LDAvis) !== \"undefined\"){\n",
              "   // already loaded: just create the visualization\n",
              "   !function(LDAvis){\n",
              "       new LDAvis(\"#\" + \"ldavis_el9831321444693575363467581905\", ldavis_el9831321444693575363467581905_data);\n",
              "   }(LDAvis);\n",
              "}else if(typeof define === \"function\" && define.amd){\n",
              "   // require.js is available: use it to load d3/LDAvis\n",
              "   require.config({paths: {d3: \"https://d3js.org/d3.v5\"}});\n",
              "   require([\"d3\"], function(d3){\n",
              "      window.d3 = d3;\n",
              "      LDAvis_load_lib(\"https://cdn.jsdelivr.net/gh/bmabey/pyLDAvis@3.4.0/pyLDAvis/js/ldavis.v3.0.0.js\", function(){\n",
              "        new LDAvis(\"#\" + \"ldavis_el9831321444693575363467581905\", ldavis_el9831321444693575363467581905_data);\n",
              "      });\n",
              "    });\n",
              "}else{\n",
              "    // require.js not available: dynamically load d3 & LDAvis\n",
              "    LDAvis_load_lib(\"https://d3js.org/d3.v5.js\", function(){\n",
              "         LDAvis_load_lib(\"https://cdn.jsdelivr.net/gh/bmabey/pyLDAvis@3.4.0/pyLDAvis/js/ldavis.v3.0.0.js\", function(){\n",
              "                 new LDAvis(\"#\" + \"ldavis_el9831321444693575363467581905\", ldavis_el9831321444693575363467581905_data);\n",
              "            })\n",
              "         });\n",
              "}\n",
              "</script>"
            ]
          },
          "metadata": {},
          "execution_count": 7
        }
      ]
    },
    {
      "cell_type": "code",
      "source": [
        "#This visualization helps identify the most common words in each topic and the relative importance of each topic within the dataset.\n"
      ],
      "metadata": {
        "colab": {
          "base_uri": "https://localhost:8080/"
        },
        "id": "5BFMqusm2ikY",
        "outputId": "f3dbf726-e3ff-481b-f3b3-7805ffe507f4"
      },
      "execution_count": null,
      "outputs": [
        {
          "output_type": "stream",
          "name": "stderr",
          "text": [
            "/usr/local/lib/python3.10/dist-packages/ipykernel/ipkernel.py:283: DeprecationWarning: `should_run_async` will not call `transform_cell` automatically in the future. Please pass the result to `transformed_cell` argument and any exception that happen during thetransform in `preprocessing_exc_tuple` in IPython 7.17 and above.\n",
            "  and should_run_async(code)\n"
          ]
        }
      ]
    },
    {
      "cell_type": "code",
      "source": [
        "#NMF Model:\n",
        "from sklearn.decomposition import NMF\n",
        "nmf_model = NMF(n_components=5, random_state=42)\n",
        "nmf_topics = nmf_model.fit_transform(tfidf_matrix)\n",
        "#Non-Negative Matrix Factorization (NMF) is a linear algebra technique used for dimensionality reduction.\n",
        "#In the context of text data, it is commonly used for topic modeling.\n",
        "# NMF identifies latent features (topics) in a non-negative matrix, such as the TF-IDF representation of text data\n",
        "#Mathematical Basis:\n",
        "#LDA uses a probabilistic approach, while NMF relies on matrix factorization.\n",
        "#Non-Negativity:\n",
        "#NMF ensures all values in the decomposed matrices are non-negative, making the results more interpretable.\n",
        "#Speed:\n",
        "#NMF is often faster than LDA for smaller datasets.\n"
      ],
      "metadata": {
        "colab": {
          "base_uri": "https://localhost:8080/"
        },
        "id": "VoQ3Gl5Z2iin",
        "outputId": "58134959-9c94-4b75-83e8-b91dc31b6111"
      },
      "execution_count": null,
      "outputs": [
        {
          "output_type": "stream",
          "name": "stderr",
          "text": [
            "/usr/local/lib/python3.10/dist-packages/ipykernel/ipkernel.py:283: DeprecationWarning: `should_run_async` will not call `transform_cell` automatically in the future. Please pass the result to `transformed_cell` argument and any exception that happen during thetransform in `preprocessing_exc_tuple` in IPython 7.17 and above.\n",
            "  and should_run_async(code)\n"
          ]
        }
      ]
    },
    {
      "cell_type": "code",
      "source": [
        "#Display Topics:\n",
        "def display_topics(model, feature_names, n_top_words=10):\n",
        "    for idx, topic in enumerate(model.components_):\n",
        "        top_words = [feature_names[i] for i in topic.argsort()[:-n_top_words - 1:-1]]\n",
        "        print(f\"Topic {idx + 1}: {', '.join(top_words)}\")\n",
        "\n",
        "tfidf_feature_names = tfidf.get_feature_names_out()\n",
        "display_topics(lda_model, tfidf_feature_names)\n",
        "display_topics(nmf_model, tfidf_feature_names)"
      ],
      "metadata": {
        "colab": {
          "base_uri": "https://localhost:8080/"
        },
        "id": "kNk2sLLD2ifs",
        "outputId": "541a24a1-2418-421d-da28-44b54f471cde"
      },
      "execution_count": null,
      "outputs": [
        {
          "output_type": "stream",
          "name": "stdout",
          "text": [
            "Topic 1: use, one, work, get, like, time, dont, would, much, great\n",
            "Topic 2: book, story, read, movie, character, love, good, serie, well, great\n",
            "Topic 3: love, son, bought, fit, size, great, daughter, comfortable, toy, shoe\n",
            "Topic 4: dog, great, use, work, one, product, love, easy, cat, bought\n",
            "Topic 5: little, small, nice, reason, fit, good, quality, great, gave, problem\n",
            "Topic 1: use, great, one, work, product, easy, like, light, would, get\n",
            "Topic 2: book, read, story, character, serie, well, enjoye, author, readin, good\n",
            "Topic 3: movie, good, actin, story, watch, film, like, great, action, one\n",
            "Topic 4: love, dog, son, toy, bought, daughter, play, old, christma, gift\n",
            "Topic 5: fit, size, comfortable, nice, wear, shoe, perfect, little, ordere, small\n"
          ]
        },
        {
          "output_type": "stream",
          "name": "stderr",
          "text": [
            "/usr/local/lib/python3.10/dist-packages/ipykernel/ipkernel.py:283: DeprecationWarning: `should_run_async` will not call `transform_cell` automatically in the future. Please pass the result to `transformed_cell` argument and any exception that happen during thetransform in `preprocessing_exc_tuple` in IPython 7.17 and above.\n",
            "  and should_run_async(code)\n"
          ]
        }
      ]
    },
    {
      "cell_type": "code",
      "source": [
        "\n",
        "#Clustering and Visualization"
      ],
      "metadata": {
        "colab": {
          "base_uri": "https://localhost:8080/"
        },
        "id": "AfBNguOm2ieG",
        "outputId": "d305a8ca-83d4-4644-f49a-f44eee181dea"
      },
      "execution_count": null,
      "outputs": [
        {
          "output_type": "stream",
          "name": "stderr",
          "text": [
            "/usr/local/lib/python3.10/dist-packages/ipykernel/ipkernel.py:283: DeprecationWarning: `should_run_async` will not call `transform_cell` automatically in the future. Please pass the result to `transformed_cell` argument and any exception that happen during thetransform in `preprocessing_exc_tuple` in IPython 7.17 and above.\n",
            "  and should_run_async(code)\n"
          ]
        }
      ]
    },
    {
      "cell_type": "code",
      "source": [
        "#K-Means Clustering:\n",
        "from sklearn.cluster import KMeans\n",
        "\n",
        "# Define and fit K-Means model\n",
        "kmeans = KMeans(n_clusters=5, random_state=42)\n",
        "kmeans_labels = kmeans.fit_predict(tfidf_matrix)\n",
        "#K-Means is an unsupervised machine learning algorithm used for\n",
        "#clustering data points into a predefined number of groups (clusters) based on their similarities.\n",
        "# It minimizes the within-cluster variance by iteratively refining cluster centroids.\n"
      ],
      "metadata": {
        "colab": {
          "base_uri": "https://localhost:8080/"
        },
        "id": "BhhCoiNj2ibE",
        "outputId": "08f9038c-3dcb-4e41-b0b3-87ec82f8064e"
      },
      "execution_count": null,
      "outputs": [
        {
          "output_type": "stream",
          "name": "stderr",
          "text": [
            "/usr/local/lib/python3.10/dist-packages/ipykernel/ipkernel.py:283: DeprecationWarning: `should_run_async` will not call `transform_cell` automatically in the future. Please pass the result to `transformed_cell` argument and any exception that happen during thetransform in `preprocessing_exc_tuple` in IPython 7.17 and above.\n",
            "  and should_run_async(code)\n"
          ]
        }
      ]
    },
    {
      "cell_type": "code",
      "source": [
        "#DBSCAN (Density-Based Spatial Clustering of Applications with Noise) is an unsupervised machine learning algorithm used for clustering data.\n",
        "#It groups together data points that are closely packed (based on density) and marks data points in low-density regions as outliers.\n",
        "#Geospatial data clustering.--application\n",
        "#pretrained_model\n",
        "#DBSCAN Clustering:\n",
        "from sklearn.cluster import DBSCAN\n",
        "\n",
        "# Define and fit DBSCAN model\n",
        "dbscan = DBSCAN(eps=0.5, min_samples=10)\n",
        "dbscan_labels = dbscan.fit_predict(tfidf_matrix)"
      ],
      "metadata": {
        "colab": {
          "base_uri": "https://localhost:8080/"
        },
        "id": "pMVHUw8x2iZd",
        "outputId": "45eeb5eb-d6f1-43c2-8cd5-3a3095d52372"
      },
      "execution_count": null,
      "outputs": [
        {
          "output_type": "stream",
          "name": "stderr",
          "text": [
            "/usr/local/lib/python3.10/dist-packages/ipykernel/ipkernel.py:283: DeprecationWarning: `should_run_async` will not call `transform_cell` automatically in the future. Please pass the result to `transformed_cell` argument and any exception that happen during thetransform in `preprocessing_exc_tuple` in IPython 7.17 and above.\n",
            "  and should_run_async(code)\n"
          ]
        }
      ]
    },
    {
      "cell_type": "code",
      "source": [
        "#Dimensionality Reduction for Visualization:\n",
        "from sklearn.decomposition import PCA\n",
        "import matplotlib.pyplot as plt\n",
        "#Dimensionality reduction, like PCA (Principal Component Analysis),\n",
        "# is a technique to reduce the number of features in a dataset while retaining as much information as possible.\n",
        "# This is especially helpful when visualizing high-dimensional data, such as TF-IDF vectors.\n",
        "\n",
        "####Reduce dimensions with PCA\n",
        "pca = PCA(n_components=2)\n",
        "reduced_data = pca.fit_transform(tfidf_matrix.toarray())\n",
        "\n",
        "# Plot K-Means clusters\n",
        "plt.figure(figsize=(10, 7))\n",
        "plt.scatter(reduced_data[:, 0], reduced_data[:, 1], c=kmeans_labels, cmap='viridis')\n",
        "plt.title(\"K-Means Clustering Visualization\")\n",
        "plt.show()\n",
        "\n",
        "# Plot DBSCAN clusters\n",
        "plt.figure(figsize=(10, 7))\n",
        "plt.scatter(reduced_data[:, 0], reduced_data[:, 1], c=dbscan_labels, cmap='viridis')\n",
        "plt.title(\"DBSCAN Clustering Visualization\")\n",
        "plt.show()\n"
      ],
      "metadata": {
        "colab": {
          "base_uri": "https://localhost:8080/",
          "height": 1000
        },
        "id": "zrHJUy6a2iWH",
        "outputId": "eb6f6e9e-1099-4aaa-ce60-ac7b0b076375"
      },
      "execution_count": null,
      "outputs": [
        {
          "output_type": "stream",
          "name": "stderr",
          "text": [
            "/usr/local/lib/python3.10/dist-packages/ipykernel/ipkernel.py:283: DeprecationWarning: `should_run_async` will not call `transform_cell` automatically in the future. Please pass the result to `transformed_cell` argument and any exception that happen during thetransform in `preprocessing_exc_tuple` in IPython 7.17 and above.\n",
            "  and should_run_async(code)\n"
          ]
        },
        {
          "output_type": "display_data",
          "data": {
            "text/plain": [
              "<Figure size 1000x700 with 1 Axes>"
            ],
            "image/png": "[encoded data removed]"
          },
          "metadata": {}
        },
        {
          "output_type": "display_data",
          "data": {
            "text/plain": [
              "<Figure size 1000x700 with 1 Axes>"
            ],
            "image/png": "[encoded data removed]"
          },
          "metadata": {}
        }
      ]
    },
    {
      "cell_type": "code",
      "source": [
        "#Traditional Machine Learning Model Setup\n",
        "#Data Splitting: Split the data into training and test sets.\n",
        "#Training and Evaluation: Train Logistic Regression, Random Forest, and SVM models.\n",
        "#Evaluation Metrics: Use accuracy, precision, recall, and F1-score.\n"
      ],
      "metadata": {
        "colab": {
          "base_uri": "https://localhost:8080/"
        },
        "id": "1uNnFShK2iUd",
        "outputId": "5220a9fd-ea5c-4150-b7c6-d22a159c978c"
      },
      "execution_count": null,
      "outputs": [
        {
          "output_type": "stream",
          "name": "stderr",
          "text": [
            "/usr/local/lib/python3.10/dist-packages/ipykernel/ipkernel.py:283: DeprecationWarning: `should_run_async` will not call `transform_cell` automatically in the future. Please pass the result to `transformed_cell` argument and any exception that happen during thetransform in `preprocessing_exc_tuple` in IPython 7.17 and above.\n",
            "  and should_run_async(code)\n"
          ]
        }
      ]
    },
    {
      "cell_type": "code",
      "source": [
        "#Importing Libraries and Splitting the Data\n",
        "from sklearn.model_selection import train_test_split\n",
        "from sklearn.linear_model import LogisticRegression\n",
        "from sklearn.ensemble import RandomForestClassifier\n",
        "from sklearn.svm import SVC\n",
        "from sklearn.metrics import accuracy_score, precision_score, recall_score, f1_score\n",
        "\n",
        "# Define features and target\n",
        "X = tfidf_matrix\n",
        "y = reviews_data['label'].apply(lambda x: 1 if x == 'CG' else 0)  # 1 for fake, 0 for original\n",
        "\n",
        "# Split data\n",
        "X_train, X_test, y_train, y_test = train_test_split(X, y, test_size=0.2, random_state=42)\n",
        "#1- for 'CG' (indicating fake reviews).\n",
        "#0 -for all other labels (e.g., original reviews)."
      ],
      "metadata": {
        "colab": {
          "base_uri": "https://localhost:8080/"
        },
        "id": "Dr1vwncz2iLK",
        "outputId": "9bcb1650-427a-41e2-fa28-7b315ce8129f"
      },
      "execution_count": null,
      "outputs": [
        {
          "output_type": "stream",
          "name": "stderr",
          "text": [
            "/usr/local/lib/python3.10/dist-packages/ipykernel/ipkernel.py:283: DeprecationWarning: `should_run_async` will not call `transform_cell` automatically in the future. Please pass the result to `transformed_cell` argument and any exception that happen during thetransform in `preprocessing_exc_tuple` in IPython 7.17 and above.\n",
            "  and should_run_async(code)\n"
          ]
        }
      ]
    },
    {
      "cell_type": "code",
      "source": [
        "#Training Models and Evaluating Performance\n",
        "# Logistic Regression\n",
        "logreg = LogisticRegression(random_state=42)\n",
        "logreg.fit(X_train, y_train)\n",
        "y_pred_logreg = logreg.predict(X_test)\n",
        "\n",
        "# Random Forest\n",
        "rf = RandomForestClassifier(random_state=42)\n",
        "rf.fit(X_train, y_train)\n",
        "y_pred_rf = rf.predict(X_test)\n",
        "\n",
        "# Support Vector Machine (SVM)\n",
        "svm = SVC(random_state=42)\n",
        "svm.fit(X_train, y_train)\n",
        "y_pred_svm = svm.predict(X_test)\n"
      ],
      "metadata": {
        "colab": {
          "base_uri": "https://localhost:8080/"
        },
        "id": "56DJSXJK2iJe",
        "outputId": "1b324108-4202-4c6c-8aef-e13963038014"
      },
      "execution_count": null,
      "outputs": [
        {
          "output_type": "stream",
          "name": "stderr",
          "text": [
            "/usr/local/lib/python3.10/dist-packages/ipykernel/ipkernel.py:283: DeprecationWarning: `should_run_async` will not call `transform_cell` automatically in the future. Please pass the result to `transformed_cell` argument and any exception that happen during thetransform in `preprocessing_exc_tuple` in IPython 7.17 and above.\n",
            "  and should_run_async(code)\n"
          ]
        }
      ]
    },
    {
      "cell_type": "code",
      "source": [
        "#Evaluate the Models\n",
        "# Function to evaluate and print results\n",
        "def evaluate_model(name, y_test, y_pred):\n",
        "    accuracy = accuracy_score(y_test, y_pred)\n",
        "    precision = precision_score(y_test, y_pred)\n",
        "    recall = recall_score(y_test, y_pred)\n",
        "    f1 = f1_score(y_test, y_pred)\n",
        "    print(f\"{name} - Accuracy: {accuracy:.2f}, Precision: {precision:.2f}, Recall: {recall:.2f}, F1 Score: {f1:.2f}\")\n",
        "\n",
        "# Evaluate each model\n",
        "evaluate_model(\"Logistic Regression\", y_test, y_pred_logreg)\n",
        "evaluate_model(\"Random Forest\", y_test, y_pred_rf)\n",
        "evaluate_model(\"SVM\", y_test, y_pred_svm)\n"
      ],
      "metadata": {
        "colab": {
          "base_uri": "https://localhost:8080/"
        },
        "id": "CZ3NECwD2iGe",
        "outputId": "fe285aa6-c2b4-4024-bef6-fd308c12197f"
      },
      "execution_count": null,
      "outputs": [
        {
          "output_type": "stream",
          "name": "stdout",
          "text": [
            "Logistic Regression - Accuracy: 0.84, Precision: 0.85, Recall: 0.84, F1 Score: 0.84\n",
            "Random Forest - Accuracy: 0.83, Precision: 0.82, Recall: 0.84, F1 Score: 0.83\n",
            "SVM - Accuracy: 0.86, Precision: 0.87, Recall: 0.85, F1 Score: 0.86\n"
          ]
        },
        {
          "output_type": "stream",
          "name": "stderr",
          "text": [
            "/usr/local/lib/python3.10/dist-packages/ipykernel/ipkernel.py:283: DeprecationWarning: `should_run_async` will not call `transform_cell` automatically in the future. Please pass the result to `transformed_cell` argument and any exception that happen during thetransform in `preprocessing_exc_tuple` in IPython 7.17 and above.\n",
            "  and should_run_async(code)\n"
          ]
        }
      ]
    },
    {
      "cell_type": "code",
      "source": [
        "# SVM is currently the best-performing model"
      ],
      "metadata": {
        "colab": {
          "base_uri": "https://localhost:8080/"
        },
        "id": "D-OIgDQe2iEq",
        "outputId": "e54c8ec5-ffc2-43eb-9e63-8fdaff1c29be"
      },
      "execution_count": null,
      "outputs": [
        {
          "output_type": "stream",
          "name": "stderr",
          "text": [
            "/usr/local/lib/python3.10/dist-packages/ipykernel/ipkernel.py:283: DeprecationWarning: `should_run_async` will not call `transform_cell` automatically in the future. Please pass the result to `transformed_cell` argument and any exception that happen during thetransform in `preprocessing_exc_tuple` in IPython 7.17 and above.\n",
            "  and should_run_async(code)\n"
          ]
        }
      ]
    },
    {
      "cell_type": "code",
      "source": [
        "!pip install tensorflow"
      ],
      "metadata": {
        "colab": {
          "base_uri": "https://localhost:8080/"
        },
        "id": "srg3NUqi2iBQ",
        "outputId": "13e7aa99-12d1-4779-a906-a555341d2db2"
      },
      "execution_count": null,
      "outputs": [
        {
          "output_type": "stream",
          "name": "stderr",
          "text": [
            "/usr/local/lib/python3.10/dist-packages/ipykernel/ipkernel.py:283: DeprecationWarning: `should_run_async` will not call `transform_cell` automatically in the future. Please pass the result to `transformed_cell` argument and any exception that happen during thetransform in `preprocessing_exc_tuple` in IPython 7.17 and above.\n",
            "  and should_run_async(code)\n"
          ]
        },
        {
          "output_type": "stream",
          "name": "stdout",
          "text": [
            "Requirement already satisfied: tensorflow in /usr/local/lib/python3.10/dist-packages (2.17.1)\n",
            "Requirement already satisfied: absl-py>=1.0.0 in /usr/local/lib/python3.10/dist-packages (from tensorflow) (1.4.0)\n",
            "Requirement already satisfied: astunparse>=1.6.0 in /usr/local/lib/python3.10/dist-packages (from tensorflow) (1.6.3)\n",
            "Requirement already satisfied: flatbuffers>=24.3.25 in /usr/local/lib/python3.10/dist-packages (from tensorflow) (24.3.25)\n",
            "Requirement already satisfied: gast!=0.5.0,!=0.5.1,!=0.5.2,>=0.2.1 in /usr/local/lib/python3.10/dist-packages (from tensorflow) (0.6.0)\n",
            "Requirement already satisfied: google-pasta>=0.1.1 in /usr/local/lib/python3.10/dist-packages (from tensorflow) (0.2.0)\n",
            "Requirement already satisfied: h5py>=3.10.0 in /usr/local/lib/python3.10/dist-packages (from tensorflow) (3.12.1)\n",
            "Requirement already satisfied: libclang>=13.0.0 in /usr/local/lib/python3.10/dist-packages (from tensorflow) (18.1.1)\n",
            "Requirement already satisfied: ml-dtypes<0.5.0,>=0.3.1 in /usr/local/lib/python3.10/dist-packages (from tensorflow) (0.4.1)\n",
            "Requirement already satisfied: opt-einsum>=2.3.2 in /usr/local/lib/python3.10/dist-packages (from tensorflow) (3.4.0)\n",
            "Requirement already satisfied: packaging in /usr/local/lib/python3.10/dist-packages (from tensorflow) (24.2)\n",
            "Requirement already satisfied: protobuf!=4.21.0,!=4.21.1,!=4.21.2,!=4.21.3,!=4.21.4,!=4.21.5,<5.0.0dev,>=3.20.3 in /usr/local/lib/python3.10/dist-packages (from tensorflow) (4.25.5)\n",
            "Requirement already satisfied: requests<3,>=2.21.0 in /usr/local/lib/python3.10/dist-packages (from tensorflow) (2.32.3)\n",
            "Requirement already satisfied: setuptools in /usr/local/lib/python3.10/dist-packages (from tensorflow) (75.1.0)\n",
            "Requirement already satisfied: six>=1.12.0 in /usr/local/lib/python3.10/dist-packages (from tensorflow) (1.16.0)\n",
            "Requirement already satisfied: termcolor>=1.1.0 in /usr/local/lib/python3.10/dist-packages (from tensorflow) (2.5.0)\n",
            "Requirement already satisfied: typing-extensions>=3.6.6 in /usr/local/lib/python3.10/dist-packages (from tensorflow) (4.12.2)\n",
            "Requirement already satisfied: wrapt>=1.11.0 in /usr/local/lib/python3.10/dist-packages (from tensorflow) (1.16.0)\n",
            "Requirement already satisfied: grpcio<2.0,>=1.24.3 in /usr/local/lib/python3.10/dist-packages (from tensorflow) (1.68.0)\n",
            "Requirement already satisfied: tensorboard<2.18,>=2.17 in /usr/local/lib/python3.10/dist-packages (from tensorflow) (2.17.1)\n",
            "Requirement already satisfied: keras>=3.2.0 in /usr/local/lib/python3.10/dist-packages (from tensorflow) (3.5.0)\n",
            "Requirement already satisfied: tensorflow-io-gcs-filesystem>=0.23.1 in /usr/local/lib/python3.10/dist-packages (from tensorflow) (0.37.1)\n",
            "Requirement already satisfied: numpy<2.0.0,>=1.23.5 in /usr/local/lib/python3.10/dist-packages (from tensorflow) (1.26.4)\n",
            "Requirement already satisfied: wheel<1.0,>=0.23.0 in /usr/local/lib/python3.10/dist-packages (from astunparse>=1.6.0->tensorflow) (0.45.0)\n",
            "Requirement already satisfied: rich in /usr/local/lib/python3.10/dist-packages (from keras>=3.2.0->tensorflow) (13.9.4)\n",
            "Requirement already satisfied: namex in /usr/local/lib/python3.10/dist-packages (from keras>=3.2.0->tensorflow) (0.0.8)\n",
            "Requirement already satisfied: optree in /usr/local/lib/python3.10/dist-packages (from keras>=3.2.0->tensorflow) (0.13.1)\n",
            "Requirement already satisfied: charset-normalizer<4,>=2 in /usr/local/lib/python3.10/dist-packages (from requests<3,>=2.21.0->tensorflow) (3.4.0)\n",
            "Requirement already satisfied: idna<4,>=2.5 in /usr/local/lib/python3.10/dist-packages (from requests<3,>=2.21.0->tensorflow) (3.10)\n",
            "Requirement already satisfied: urllib3<3,>=1.21.1 in /usr/local/lib/python3.10/dist-packages (from requests<3,>=2.21.0->tensorflow) (2.2.3)\n",
            "Requirement already satisfied: certifi>=2017.4.17 in /usr/local/lib/python3.10/dist-packages (from requests<3,>=2.21.0->tensorflow) (2024.8.30)\n",
            "Requirement already satisfied: markdown>=2.6.8 in /usr/local/lib/python3.10/dist-packages (from tensorboard<2.18,>=2.17->tensorflow) (3.7)\n",
            "Requirement already satisfied: tensorboard-data-server<0.8.0,>=0.7.0 in /usr/local/lib/python3.10/dist-packages (from tensorboard<2.18,>=2.17->tensorflow) (0.7.2)\n",
            "Requirement already satisfied: werkzeug>=1.0.1 in /usr/local/lib/python3.10/dist-packages (from tensorboard<2.18,>=2.17->tensorflow) (3.1.3)\n",
            "Requirement already satisfied: MarkupSafe>=2.1.1 in /usr/local/lib/python3.10/dist-packages (from werkzeug>=1.0.1->tensorboard<2.18,>=2.17->tensorflow) (3.0.2)\n",
            "Requirement already satisfied: markdown-it-py>=2.2.0 in /usr/local/lib/python3.10/dist-packages (from rich->keras>=3.2.0->tensorflow) (3.0.0)\n",
            "Requirement already satisfied: pygments<3.0.0,>=2.13.0 in /usr/local/lib/python3.10/dist-packages (from rich->keras>=3.2.0->tensorflow) (2.18.0)\n",
            "Requirement already satisfied: mdurl~=0.1 in /usr/local/lib/python3.10/dist-packages (from markdown-it-py>=2.2.0->rich->keras>=3.2.0->tensorflow) (0.1.2)\n"
          ]
        }
      ]
    },
    {
      "cell_type": "code",
      "source": [
        "\n",
        "#Step 4: Deep Learning Model Setup\n",
        "#LSTM Model Setup\n",
        "#Since LSTM requires sequential data, we’ll use the following steps:\n",
        "\n",
        "#Tokenization: Convert the text into sequences of integers.\n",
        "#Padding: Ensure all sequences have the same length.\n",
        "#LSTM Model Architecture: Set up the LSTM model with an embedding layer, LSTM layer, and dense output layer.\n",
        "#Training and Evaluation: Train the model and evaluate it on the test set.\n"
      ],
      "metadata": {
        "colab": {
          "base_uri": "https://localhost:8080/"
        },
        "id": "hldVGp4q2h_q",
        "outputId": "c20999d9-a846-4045-9bf7-c31017ec02c8"
      },
      "execution_count": null,
      "outputs": [
        {
          "output_type": "stream",
          "name": "stderr",
          "text": [
            "/usr/local/lib/python3.10/dist-packages/ipykernel/ipkernel.py:283: DeprecationWarning: `should_run_async` will not call `transform_cell` automatically in the future. Please pass the result to `transformed_cell` argument and any exception that happen during thetransform in `preprocessing_exc_tuple` in IPython 7.17 and above.\n",
            "  and should_run_async(code)\n"
          ]
        }
      ]
    },
    {
      "cell_type": "code",
      "source": [
        "#Tokenization and Padding\n",
        "from tensorflow.keras.preprocessing.text import Tokenizer\n",
        "from tensorflow.keras.preprocessing.sequence import pad_sequences\n",
        "from tensorflow.keras.utils import to_categorical\n",
        "#Tokenization: The process of converting text into sequences of numerical tokens (e.g., integers representing words).\n",
        "#Padding: Ensures that all sequences have the same length by adding zeros (or another padding value) to shorter sequences,\n",
        "### making the data suitable for input into deep learning models like RNNs, LSTMs, or Transformers.\n",
        "# Initialize tokenizer and fit on the cleaned text\n",
        "tokenizer = Tokenizer(num_words=5000)  # Limiting to top 5000 words\n",
        "#Limits the vocabulary size to the top 5000 most frequent words in the dataset. This reduces memory usage and prevents overfitting to rare words.\n",
        "tokenizer.fit_on_texts(reviews_data['cleaned_text'])\n",
        "#Analyzes the input text (the cleaned text column) and builds a word index (dictionary mapping each word to a unique integer).\n",
        "\n",
        "# Convert text to sequences and pad them\n",
        "X_sequences = tokenizer.texts_to_sequences(reviews_data['cleaned_text'])\n",
        "X_padded = pad_sequences(X_sequences, maxlen=100)  # Pad to max length of 100 words\n",
        "#This step ensures that all sequences have the same length, which is required for input to neural networks.\n",
        "# Convert labels to categorical format\n",
        "y_lstm = reviews_data['label'].apply(lambda x: 1 if x == 'CG' else 0)"
      ],
      "metadata": {
        "colab": {
          "base_uri": "https://localhost:8080/"
        },
        "id": "7qxUQsPS2hx5",
        "outputId": "0b32e7bc-d444-4cf4-a454-0a8266435bf1"
      },
      "execution_count": null,
      "outputs": [
        {
          "output_type": "stream",
          "name": "stderr",
          "text": [
            "/usr/local/lib/python3.10/dist-packages/ipykernel/ipkernel.py:283: DeprecationWarning: `should_run_async` will not call `transform_cell` automatically in the future. Please pass the result to `transformed_cell` argument and any exception that happen during thetransform in `preprocessing_exc_tuple` in IPython 7.17 and above.\n",
            "  and should_run_async(code)\n",
            "/usr/local/lib/python3.10/dist-packages/tensorflow/lite/python/util.py:55: DeprecationWarning: jax.xla_computation is deprecated. Please use the AOT APIs; see https://jax.readthedocs.io/en/latest/aot.html. For example, replace xla_computation(f)(*xs) with jit(f).lower(*xs).compiler_ir('hlo'). See CHANGELOG.md for 0.4.30 for more examples.\n",
            "  from jax import xla_computation as _xla_computation\n",
            "/usr/local/lib/python3.10/dist-packages/tensorflow/lite/python/util.py:55: DeprecationWarning: jax.xla_computation is deprecated. Please use the AOT APIs; see https://jax.readthedocs.io/en/latest/aot.html. For example, replace xla_computation(f)(*xs) with jit(f).lower(*xs).compiler_ir('hlo'). See CHANGELOG.md for 0.4.30 for more examples.\n",
            "  from jax import xla_computation as _xla_computation\n"
          ]
        }
      ]
    },
    {
      "cell_type": "code",
      "source": [
        "#Building the LSTM Model\n",
        "from tensorflow.keras.models import Sequential\n",
        "from tensorflow.keras.layers import Embedding, LSTM, Dense, Dropout\n",
        "\n",
        "# Define the LSTM model architecture\n",
        "##A type of Recurrent Neural Network (RNN) layer that is effective for sequence data like text--lstm.\n",
        "lstm_model = Sequential()\n",
        "lstm_model.add(Embedding(input_dim=5000, output_dim=64, input_length=100))\n",
        "lstm_model.add(LSTM(64, return_sequences=False))\n",
        "lstm_model.add(Dropout(0.5))\n",
        "lstm_model.add(Dense(1, activation='sigmoid'))  # Binary classification\n",
        "\n",
        "# Compile the model\n",
        "lstm_model.compile(optimizer='adam', loss='binary_crossentropy', metrics=['accuracy'])\n"
      ],
      "metadata": {
        "colab": {
          "base_uri": "https://localhost:8080/"
        },
        "id": "LBuYLsHN6nLZ",
        "outputId": "1077c64d-ef12-47ee-fde9-a594371223e3"
      },
      "execution_count": null,
      "outputs": [
        {
          "output_type": "stream",
          "name": "stderr",
          "text": [
            "/usr/local/lib/python3.10/dist-packages/ipykernel/ipkernel.py:283: DeprecationWarning: `should_run_async` will not call `transform_cell` automatically in the future. Please pass the result to `transformed_cell` argument and any exception that happen during thetransform in `preprocessing_exc_tuple` in IPython 7.17 and above.\n",
            "  and should_run_async(code)\n",
            "/usr/local/lib/python3.10/dist-packages/keras/src/layers/core/embedding.py:90: UserWarning: Argument `input_length` is deprecated. Just remove it.\n",
            "  warnings.warn(\n"
          ]
        }
      ]
    },
    {
      "cell_type": "code",
      "source": [
        "#train the model\n",
        "# Split data into train and test sets\n",
        "X_train_padded, X_test_padded, y_train_lstm, y_test_lstm = train_test_split(X_padded, y_lstm, test_size=0.2, random_state=42)\n",
        "\n",
        "# Train the model\n",
        "history = lstm_model.fit(X_train_padded, y_train_lstm, epochs=5, batch_size=32, validation_split=0.2)\n"
      ],
      "metadata": {
        "colab": {
          "base_uri": "https://localhost:8080/"
        },
        "id": "cYmm0AXC6nZD",
        "outputId": "c42c705b-ad3e-466e-ed19-4af245773ffe"
      },
      "execution_count": null,
      "outputs": [
        {
          "output_type": "stream",
          "name": "stdout",
          "text": [
            "Epoch 1/5\n"
          ]
        },
        {
          "output_type": "stream",
          "name": "stderr",
          "text": [
            "/usr/local/lib/python3.10/dist-packages/ipykernel/ipkernel.py:283: DeprecationWarning: `should_run_async` will not call `transform_cell` automatically in the future. Please pass the result to `transformed_cell` argument and any exception that happen during thetransform in `preprocessing_exc_tuple` in IPython 7.17 and above.\n",
            "  and should_run_async(code)\n"
          ]
        },
        {
          "output_type": "stream",
          "name": "stdout",
          "text": [
            "\u001b[1m809/809\u001b[0m \u001b[32m━━━━━━━━━━━━━━━━━━━━\u001b[0m\u001b[37m\u001b[0m \u001b[1m82s\u001b[0m 91ms/step - accuracy: 0.7610 - loss: 0.4793 - val_accuracy: 0.8850 - val_loss: 0.2608\n",
            "Epoch 2/5\n",
            "\u001b[1m809/809\u001b[0m \u001b[32m━━━━━━━━━━━━━━━━━━━━\u001b[0m\u001b[37m\u001b[0m \u001b[1m58s\u001b[0m 72ms/step - accuracy: 0.9108 - loss: 0.2176 - val_accuracy: 0.8841 - val_loss: 0.2600\n",
            "Epoch 3/5\n",
            "\u001b[1m809/809\u001b[0m \u001b[32m━━━━━━━━━━━━━━━━━━━━\u001b[0m\u001b[37m\u001b[0m \u001b[1m83s\u001b[0m 73ms/step - accuracy: 0.9292 - loss: 0.1722 - val_accuracy: 0.8967 - val_loss: 0.2570\n",
            "Epoch 4/5\n",
            "\u001b[1m809/809\u001b[0m \u001b[32m━━━━━━━━━━━━━━━━━━━━\u001b[0m\u001b[37m\u001b[0m \u001b[1m79s\u001b[0m 70ms/step - accuracy: 0.9471 - loss: 0.1316 - val_accuracy: 0.9012 - val_loss: 0.2486\n",
            "Epoch 5/5\n",
            "\u001b[1m809/809\u001b[0m \u001b[32m━━━━━━━━━━━━━━━━━━━━\u001b[0m\u001b[37m\u001b[0m \u001b[1m85s\u001b[0m 73ms/step - accuracy: 0.9550 - loss: 0.1173 - val_accuracy: 0.9020 - val_loss: 0.2780\n"
          ]
        }
      ]
    },
    {
      "cell_type": "code",
      "source": [
        "#evaluate the lstm model\n",
        "# Evaluate the model on the test set\n",
        "loss, accuracy = lstm_model.evaluate(X_test_padded, y_test_lstm)\n",
        "print(f\"LSTM Model - Accuracy: {accuracy:.2f}\")\n",
        "#summary of the model\n",
        "#Input Layer: Processes text data using an embedding layer to map words into dense vectors.\n",
        "#LSTM Layer: Captures sequential patterns and relationships in the text.\n",
        "#Dropout Layer: Reduces overfitting by randomly ignoring 50% of neurons during training.\n",
        "#Output Layer: Outputs the probability of a label (fake or real review)."
      ],
      "metadata": {
        "colab": {
          "base_uri": "https://localhost:8080/"
        },
        "id": "zg0mfG7T6naw",
        "outputId": "32d5507e-7378-45bd-8b11-54b8d8b9ad84"
      },
      "execution_count": null,
      "outputs": [
        {
          "output_type": "stream",
          "name": "stdout",
          "text": [
            "\r\u001b[1m  1/253\u001b[0m \u001b[37m━━━━━━━━━━━━━━━━━━━━\u001b[0m \u001b[1m20s\u001b[0m 83ms/step - accuracy: 0.8125 - loss: 0.6529"
          ]
        },
        {
          "output_type": "stream",
          "name": "stderr",
          "text": [
            "/usr/local/lib/python3.10/dist-packages/ipykernel/ipkernel.py:283: DeprecationWarning: `should_run_async` will not call `transform_cell` automatically in the future. Please pass the result to `transformed_cell` argument and any exception that happen during thetransform in `preprocessing_exc_tuple` in IPython 7.17 and above.\n",
            "  and should_run_async(code)\n"
          ]
        },
        {
          "output_type": "stream",
          "name": "stdout",
          "text": [
            "\u001b[1m253/253\u001b[0m \u001b[32m━━━━━━━━━━━━━━━━━━━━\u001b[0m\u001b[37m\u001b[0m \u001b[1m10s\u001b[0m 40ms/step - accuracy: 0.8977 - loss: 0.2948\n",
            "LSTM Model - Accuracy: 0.90\n"
          ]
        }
      ]
    },
    {
      "cell_type": "code",
      "source": [
        "pip install transformers"
      ],
      "metadata": {
        "colab": {
          "base_uri": "https://localhost:8080/"
        },
        "id": "z5QJr9W96ndk",
        "outputId": "29095d59-1f1f-4518-cf95-c778af8e6c90"
      },
      "execution_count": null,
      "outputs": [
        {
          "output_type": "stream",
          "name": "stderr",
          "text": [
            "/usr/local/lib/python3.10/dist-packages/ipykernel/ipkernel.py:283: DeprecationWarning: `should_run_async` will not call `transform_cell` automatically in the future. Please pass the result to `transformed_cell` argument and any exception that happen during thetransform in `preprocessing_exc_tuple` in IPython 7.17 and above.\n",
            "  and should_run_async(code)\n"
          ]
        },
        {
          "output_type": "stream",
          "name": "stdout",
          "text": [
            "Requirement already satisfied: transformers in /usr/local/lib/python3.10/dist-packages (4.46.2)\n",
            "Requirement already satisfied: filelock in /usr/local/lib/python3.10/dist-packages (from transformers) (3.16.1)\n",
            "Requirement already satisfied: huggingface-hub<1.0,>=0.23.2 in /usr/local/lib/python3.10/dist-packages (from transformers) (0.26.2)\n",
            "Requirement already satisfied: numpy>=1.17 in /usr/local/lib/python3.10/dist-packages (from transformers) (1.26.4)\n",
            "Requirement already satisfied: packaging>=20.0 in /usr/local/lib/python3.10/dist-packages (from transformers) (24.2)\n",
            "Requirement already satisfied: pyyaml>=5.1 in /usr/local/lib/python3.10/dist-packages (from transformers) (6.0.2)\n",
            "Requirement already satisfied: regex!=2019.12.17 in /usr/local/lib/python3.10/dist-packages (from transformers) (2024.9.11)\n",
            "Requirement already satisfied: requests in /usr/local/lib/python3.10/dist-packages (from transformers) (2.32.3)\n",
            "Requirement already satisfied: safetensors>=0.4.1 in /usr/local/lib/python3.10/dist-packages (from transformers) (0.4.5)\n",
            "Requirement already satisfied: tokenizers<0.21,>=0.20 in /usr/local/lib/python3.10/dist-packages (from transformers) (0.20.3)\n",
            "Requirement already satisfied: tqdm>=4.27 in /usr/local/lib/python3.10/dist-packages (from transformers) (4.66.6)\n",
            "Requirement already satisfied: fsspec>=2023.5.0 in /usr/local/lib/python3.10/dist-packages (from huggingface-hub<1.0,>=0.23.2->transformers) (2024.10.0)\n",
            "Requirement already satisfied: typing-extensions>=3.7.4.3 in /usr/local/lib/python3.10/dist-packages (from huggingface-hub<1.0,>=0.23.2->transformers) (4.12.2)\n",
            "Requirement already satisfied: charset-normalizer<4,>=2 in /usr/local/lib/python3.10/dist-packages (from requests->transformers) (3.4.0)\n",
            "Requirement already satisfied: idna<4,>=2.5 in /usr/local/lib/python3.10/dist-packages (from requests->transformers) (3.10)\n",
            "Requirement already satisfied: urllib3<3,>=1.21.1 in /usr/local/lib/python3.10/dist-packages (from requests->transformers) (2.2.3)\n",
            "Requirement already satisfied: certifi>=2017.4.17 in /usr/local/lib/python3.10/dist-packages (from requests->transformers) (2024.8.30)\n"
          ]
        }
      ]
    },
    {
      "cell_type": "code",
      "source": [
        "\n",
        "#bert model(specifically for NLP tasks)\n",
        "#use Hugging Face’s transformers library to work with BERT.\n",
        "#For binary classification, outputs a single logit for each class (e.g., 0 for real, 1 for fake).\n"
      ],
      "metadata": {
        "colab": {
          "base_uri": "https://localhost:8080/"
        },
        "id": "mX702Nx16nfZ",
        "outputId": "c189daab-fb0a-4982-cdeb-52f7c6a3734e"
      },
      "execution_count": null,
      "outputs": [
        {
          "output_type": "stream",
          "name": "stderr",
          "text": [
            "/usr/local/lib/python3.10/dist-packages/ipykernel/ipkernel.py:283: DeprecationWarning: `should_run_async` will not call `transform_cell` automatically in the future. Please pass the result to `transformed_cell` argument and any exception that happen during thetransform in `preprocessing_exc_tuple` in IPython 7.17 and above.\n",
            "  and should_run_async(code)\n"
          ]
        }
      ]
    },
    {
      "cell_type": "code",
      "source": [
        "\n",
        "#transformers\n",
        "#The self-attention mechanism allows the model to focus on relevant words in a sequence while processing each word.\n",
        "#For example, in \"The cat sat on the mat,\" when processing \"cat,\" the model learns to pay attention to \"sat\" and \"mat\" as relevant words.\n"
      ],
      "metadata": {
        "colab": {
          "base_uri": "https://localhost:8080/"
        },
        "id": "eoxa_gKQ6niP",
        "outputId": "3b4bc86e-7620-48a9-fe44-e47ffe16287b"
      },
      "execution_count": null,
      "outputs": [
        {
          "output_type": "stream",
          "name": "stderr",
          "text": [
            "/usr/local/lib/python3.10/dist-packages/ipykernel/ipkernel.py:283: DeprecationWarning: `should_run_async` will not call `transform_cell` automatically in the future. Please pass the result to `transformed_cell` argument and any exception that happen during thetransform in `preprocessing_exc_tuple` in IPython 7.17 and above.\n",
            "  and should_run_async(code)\n"
          ]
        }
      ]
    },
    {
      "cell_type": "code",
      "source": [
        "from transformers import BertTokenizer, TFBertForSequenceClassification\n",
        "from tensorflow.keras.optimizers import Adam\n",
        "from sklearn.model_selection import train_test_split\n",
        "from tensorflow.keras.callbacks import EarlyStopping\n"
      ],
      "metadata": {
        "colab": {
          "base_uri": "https://localhost:8080/"
        },
        "id": "nH_a3XV06nj6",
        "outputId": "e8b29f03-8f8a-4441-a087-24d5d29bdf79"
      },
      "execution_count": null,
      "outputs": [
        {
          "output_type": "stream",
          "name": "stderr",
          "text": [
            "/usr/local/lib/python3.10/dist-packages/ipykernel/ipkernel.py:283: DeprecationWarning: `should_run_async` will not call `transform_cell` automatically in the future. Please pass the result to `transformed_cell` argument and any exception that happen during thetransform in `preprocessing_exc_tuple` in IPython 7.17 and above.\n",
            "  and should_run_async(code)\n"
          ]
        }
      ]
    },
    {
      "cell_type": "code",
      "source": [
        "import torch\n",
        "from transformers import BertTokenizer, BertForSequenceClassification, Trainer, TrainingArguments\n",
        "from torch.utils.data import Dataset\n",
        "import pandas as pd\n",
        "from sklearn.model_selection import train_test_split\n",
        "from sklearn.preprocessing import LabelEncoder\n"
      ],
      "metadata": {
        "colab": {
          "base_uri": "https://localhost:8080/"
        },
        "id": "RuzpTZm66nmd",
        "outputId": "2e7f3f05-b58f-4cf3-8afb-4792c9f0d646"
      },
      "execution_count": null,
      "outputs": [
        {
          "output_type": "stream",
          "name": "stderr",
          "text": [
            "/usr/local/lib/python3.10/dist-packages/ipykernel/ipkernel.py:283: DeprecationWarning: `should_run_async` will not call `transform_cell` automatically in the future. Please pass the result to `transformed_cell` argument and any exception that happen during thetransform in `preprocessing_exc_tuple` in IPython 7.17 and above.\n",
            "  and should_run_async(code)\n"
          ]
        }
      ]
    },
    {
      "cell_type": "code",
      "source": [
        "# Load dataset and preprocess\n",
        "data = pd.read_csv('/content/fake reviews dataset.csv')  # Replace with your file path\n",
        "data['label_encoded'] = LabelEncoder().fit_transform(data['label'])\n"
      ],
      "metadata": {
        "colab": {
          "base_uri": "https://localhost:8080/"
        },
        "id": "5c9CrUsi6noQ",
        "outputId": "48805291-d3b7-476a-c968-e58b90b07397"
      },
      "execution_count": null,
      "outputs": [
        {
          "output_type": "stream",
          "name": "stderr",
          "text": [
            "/usr/local/lib/python3.10/dist-packages/ipykernel/ipkernel.py:283: DeprecationWarning: `should_run_async` will not call `transform_cell` automatically in the future. Please pass the result to `transformed_cell` argument and any exception that happen during thetransform in `preprocessing_exc_tuple` in IPython 7.17 and above.\n",
            "  and should_run_async(code)\n"
          ]
        }
      ]
    },
    {
      "cell_type": "code",
      "source": [
        "# Load BERT tokenizer and model(BERT (Bidirectional Encoder Representations from Transformers))\n",
        "tokenizer = BertTokenizer.from_pretrained('bert-base-uncased')\n",
        "bert_model = TFBertForSequenceClassification.from_pretrained('bert-base-uncased', num_labels=2)\n",
        "#BERT reads the text in both directions (left-to-right and right-to-left) to understand the full context of a word in a sentence.\n",
        "#Example: In \"I went to the bank to deposit money,\" BERT understands that \"bank\" refers to a financial institution, not a riverbank.\n"
      ],
      "metadata": {
        "colab": {
          "base_uri": "https://localhost:8080/",
          "height": 418,
          "referenced_widgets": [
            "699df4ed5c81431e8da8c0d2add8d0e3",
            "fca3ebcc5b62462b8d830c3d0469a0cf",
            "106b6f00bb8b45a6bfb37899c76b48da",
            "086af3387eb9453da1fe5a980ad0dd3e",
            "9cbc049a1ebd4f4aacd5b94015ff736d",
            "f019c3e4f6134cf79df935d3d84cc2ee",
            "ea38ce0122fe4b3f9f3b38b3e5a4f2ac",
            "d3395aa1493c4907b7e4a8f1546af4ff",
            "e02b7c391d91456ab71ac8a964e83774",
            "9a43f51911bd4e2380fc184e46b4515e",
            "7a0a4ee7963f4e84b92436ce91a8ff24",
            "5f5c5be6e1ac42cba214fef0270aeb0b",
            "2da309c6606e4d7499d420aa971415f6",
            "28def1be870f42f2a2a63fff8410df62",
            "e6e4049ccb4b4a329fc6a2703f4f5fc5",
            "4dc2840aee6e4522860f464002d4f99e",
            "9d953ff465ee41ec9656dea0ef8359ac",
            "8fbb8b7a84324c2caea104e0c3c0d7ca",
            "88c389db78e043c5b964c59bf59c3bb9",
            "739e4f035a7b4a008f997340f7d9167c",
            "9e4b42d97672476bb3c1e9a74a65926e",
            "c6836483886b4c8d99aa3d324db8d8e6",
            "a12165b59a8f4405baf3455e08fcb869",
            "521ad610b07a4563b7b5d67484ebc2d8",
            "c145f611018744719160cfb5df65a675",
            "b9eb454728cd4cd5b819b6d3b279b0aa",
            "3947b87c9e0241a29a609b36e3f6c6c4",
            "89cc4ea8bdf6449bbc197eafcf7e85c2",
            "96432a91b3f840e8b33289369d78932c",
            "45276ba906f646ffac8c05d99d3f64c4",
            "8650ab5a94f741679b86f9fbcb31498b",
            "58b75534663d4411b2cc314aba8a05db",
            "d218788fdae0418db9b1b66db1525bfc",
            "16a2bb55772344e8b23b76c8bb577ccd",
            "c704da3c70564ec0931ea95bc7556796",
            "ed2cde2a12be4d68807d917936d82be7",
            "31b506d3e70f47b090bd0d94318d5159",
            "3ddb2697729b4fff8a050d5e9702a7ea",
            "bf8ce60c92514aeaa88345fe9b8fb526",
            "a1a1bb38d5c340909e5587bce111cc4a",
            "4473ae13aab34fceadb7a8f752a4f27e",
            "454bc1bc75864a00a8683a17f65f1c84",
            "a71594b50f974b2e9b55cc667910bc22",
            "60e07443f34a4deb99e0951cb0b1e15f",
            "71932f75976a41c7acab8c0c6eab27c2",
            "d84ad47fa7174236abdb4d0e5d5ef313",
            "0f2246fc3af64085974db504797d8b71",
            "df1a71304d164fa49daa1c70806a330c",
            "bade75d371064f42bb7b11e734f6ba5b",
            "e9b07e8b68ee41a8a77c786ba42b87c0",
            "a468849d9e0e40a9acf9a51bc78f6e2f",
            "719310442a404f4186a44e290ad23cb4",
            "50ba13dfb1654aa8903f09bfdfff755d",
            "f10cfb68f91d4521a8c256030d35c6f0",
            "5f3b2b3d03ac4172810baf73d482dfc1"
          ]
        },
        "id": "rxS49-Vx6nqz",
        "outputId": "3d5e7e89-05c2-47a0-e456-bc2179c35923"
      },
      "execution_count": null,
      "outputs": [
        {
          "output_type": "stream",
          "name": "stderr",
          "text": [
            "/usr/local/lib/python3.10/dist-packages/ipykernel/ipkernel.py:283: DeprecationWarning: `should_run_async` will not call `transform_cell` automatically in the future. Please pass the result to `transformed_cell` argument and any exception that happen during thetransform in `preprocessing_exc_tuple` in IPython 7.17 and above.\n",
            "  and should_run_async(code)\n",
            "/usr/local/lib/python3.10/dist-packages/huggingface_hub/utils/_auth.py:94: UserWarning: \n",
            "The secret `HF_TOKEN` does not exist in your Colab secrets.\n",
            "To authenticate with the Hugging Face Hub, create a token in your settings tab (https://huggingface.co/settings/tokens), set it as secret in your Google Colab and restart your session.\n",
            "You will be able to reuse this secret in all of your notebooks.\n",
            "Please note that authentication is recommended but still optional to access public models or datasets.\n",
            "  warnings.warn(\n"
          ]
        },
        {
          "output_type": "display_data",
          "data": {
            "text/plain": [
              "tokenizer_config.json:   0%|          | 0.00/48.0 [00:00<?, ?B/s]"
            ],
            "application/vnd.jupyter.widget-view+json": {
              "version_major": 2,
              "version_minor": 0,
              "model_id": "699df4ed5c81431e8da8c0d2add8d0e3"
            }
          },
          "metadata": {}
        },
        {
          "output_type": "display_data",
          "data": {
            "text/plain": [
              "vocab.txt:   0%|          | 0.00/232k [00:00<?, ?B/s]"
            ],
            "application/vnd.jupyter.widget-view+json": {
              "version_major": 2,
              "version_minor": 0,
              "model_id": "5f5c5be6e1ac42cba214fef0270aeb0b"
            }
          },
          "metadata": {}
        },
        {
          "output_type": "display_data",
          "data": {
            "text/plain": [
              "tokenizer.json:   0%|          | 0.00/466k [00:00<?, ?B/s]"
            ],
            "application/vnd.jupyter.widget-view+json": {
              "version_major": 2,
              "version_minor": 0,
              "model_id": "a12165b59a8f4405baf3455e08fcb869"
            }
          },
          "metadata": {}
        },
        {
          "output_type": "display_data",
          "data": {
            "text/plain": [
              "config.json:   0%|          | 0.00/570 [00:00<?, ?B/s]"
            ],
            "application/vnd.jupyter.widget-view+json": {
              "version_major": 2,
              "version_minor": 0,
              "model_id": "16a2bb55772344e8b23b76c8bb577ccd"
            }
          },
          "metadata": {}
        },
        {
          "output_type": "display_data",
          "data": {
            "text/plain": [
              "model.safetensors:   0%|          | 0.00/440M [00:00<?, ?B/s]"
            ],
            "application/vnd.jupyter.widget-view+json": {
              "version_major": 2,
              "version_minor": 0,
              "model_id": "71932f75976a41c7acab8c0c6eab27c2"
            }
          },
          "metadata": {}
        },
        {
          "output_type": "stream",
          "name": "stderr",
          "text": [
            "All PyTorch model weights were used when initializing TFBertForSequenceClassification.\n",
            "\n",
            "Some weights or buffers of the TF 2.0 model TFBertForSequenceClassification were not initialized from the PyTorch model and are newly initialized: ['classifier.weight', 'classifier.bias']\n",
            "You should probably TRAIN this model on a down-stream task to be able to use it for predictions and inference.\n"
          ]
        }
      ]
    },
    {
      "cell_type": "code",
      "source": [
        "# Tokenize and encode sequences for BERT\n",
        "def encode_reviews(texts):\n",
        "    return tokenizer(\n",
        "        texts.tolist(),\n",
        "        padding=True,\n",
        "        truncation=True,\n",
        "        max_length=128,\n",
        "        return_tensors='tf'\n",
        "    )\n",
        "\n",
        "# Encode the text data\n",
        "X_encoded = encode_reviews(reviews_data['cleaned_text'])\n",
        "y_bert = reviews_data['label'].apply(lambda x: 1 if x == 'CG' else 0)\n"
      ],
      "metadata": {
        "colab": {
          "base_uri": "https://localhost:8080/"
        },
        "id": "GW-mZsp66nsS",
        "outputId": "3b863cca-6908-4a4c-e508-29b92af71264"
      },
      "execution_count": null,
      "outputs": [
        {
          "output_type": "stream",
          "name": "stderr",
          "text": [
            "/usr/local/lib/python3.10/dist-packages/ipykernel/ipkernel.py:283: DeprecationWarning: `should_run_async` will not call `transform_cell` automatically in the future. Please pass the result to `transformed_cell` argument and any exception that happen during thetransform in `preprocessing_exc_tuple` in IPython 7.17 and above.\n",
            "  and should_run_async(code)\n"
          ]
        }
      ]
    },
    {
      "cell_type": "code",
      "source": [
        "# Split labels\n",
        "y_train_enc, y_test_enc = train_test_split(y_bert, test_size=0.2, random_state=42)\n",
        "\n",
        "# Split tokenized inputs manually\n",
        "X_train_enc = {\n",
        "    'input_ids': X_encoded['input_ids'][:len(y_train_enc)],\n",
        "    'attention_mask': X_encoded['attention_mask'][:len(y_train_enc)]\n",
        "}\n",
        "X_test_enc = {\n",
        "    'input_ids': X_encoded['input_ids'][len(y_train_enc):],\n",
        "    'attention_mask': X_encoded['attention_mask'][len(y_train_enc):]\n",
        "}\n",
        "\n"
      ],
      "metadata": {
        "colab": {
          "base_uri": "https://localhost:8080/"
        },
        "id": "t7rg3mWt6nvD",
        "outputId": "9a4499e7-cd11-41e3-b333-97dcf4618ff0"
      },
      "execution_count": null,
      "outputs": [
        {
          "output_type": "stream",
          "name": "stderr",
          "text": [
            "/usr/local/lib/python3.10/dist-packages/ipykernel/ipkernel.py:283: DeprecationWarning: `should_run_async` will not call `transform_cell` automatically in the future. Please pass the result to `transformed_cell` argument and any exception that happen during thetransform in `preprocessing_exc_tuple` in IPython 7.17 and above.\n",
            "  and should_run_async(code)\n"
          ]
        }
      ]
    },
    {
      "cell_type": "code",
      "source": [
        "bert_model.compile(optimizer='adam', loss='sparse_categorical_crossentropy', metrics=['accuracy'])\n",
        "\n"
      ],
      "metadata": {
        "colab": {
          "base_uri": "https://localhost:8080/"
        },
        "id": "ts9n0h7o6nxC",
        "outputId": "c6fabc8b-6fd8-4dc3-b55d-f2c72b40a198"
      },
      "execution_count": null,
      "outputs": [
        {
          "output_type": "stream",
          "name": "stderr",
          "text": [
            "/usr/local/lib/python3.10/dist-packages/ipykernel/ipkernel.py:283: DeprecationWarning: `should_run_async` will not call `transform_cell` automatically in the future. Please pass the result to `transformed_cell` argument and any exception that happen during thetransform in `preprocessing_exc_tuple` in IPython 7.17 and above.\n",
            "  and should_run_async(code)\n"
          ]
        }
      ]
    },
    {
      "cell_type": "code",
      "source": [
        "\n",
        "# Evaluate on test data\n",
        "test_loss, test_accuracy = bert_model.evaluate(\n",
        "    {'input_ids': X_test_enc['input_ids'], 'attention_mask': X_test_enc['attention_mask']},\n",
        "    y_test_enc\n",
        ")\n",
        "print(f\"BERT Model - Accuracy: {test_accuracy:.2f}\")"
      ],
      "metadata": {
        "colab": {
          "base_uri": "https://localhost:8080/"
        },
        "id": "sTkPaip29g89",
        "outputId": "9d293f19-5e2c-4738-f044-ef5e47af49ba"
      },
      "execution_count": null,
      "outputs": [
        {
          "output_type": "stream",
          "name": "stderr",
          "text": [
            "/usr/local/lib/python3.10/dist-packages/ipykernel/ipkernel.py:283: DeprecationWarning: `should_run_async` will not call `transform_cell` automatically in the future. Please pass the result to `transformed_cell` argument and any exception that happen during thetransform in `preprocessing_exc_tuple` in IPython 7.17 and above.\n",
            "  and should_run_async(code)\n"
          ]
        },
        {
          "output_type": "stream",
          "name": "stdout",
          "text": [
            "253/253 [==============================] - 4061s 16s/step - loss: 0.6931 - accuracy: 0.5034\n",
            "BERT Model - Accuracy: 0.50\n"
          ]
        }
      ]
    },
    {
      "cell_type": "code",
      "source": [
        "# Evaluate the model\n",
        "test_loss, test_accuracy = bert_model.evaluate(X_test_enc, y_test_enc)\n",
        "print(f\"BERT Model - Accuracy: {test_accuracy:.2f}\")"
      ],
      "metadata": {
        "colab": {
          "base_uri": "https://localhost:8080/"
        },
        "id": "ukKLUMyC9hBp",
        "outputId": "e5995f01-9558-404d-bae8-d4a9fcd8d43a"
      },
      "execution_count": null,
      "outputs": [
        {
          "output_type": "stream",
          "name": "stderr",
          "text": [
            "/usr/local/lib/python3.10/dist-packages/ipykernel/ipkernel.py:283: DeprecationWarning: `should_run_async` will not call `transform_cell` automatically in the future. Please pass the result to `transformed_cell` argument and any exception that happen during thetransform in `preprocessing_exc_tuple` in IPython 7.17 and above.\n",
            "  and should_run_async(code)\n"
          ]
        },
        {
          "output_type": "stream",
          "name": "stdout",
          "text": [
            "253/253 [==============================] - 3997s 16s/step - loss: 0.6931 - accuracy: 0.5034\n",
            "BERT Model - Accuracy: 0.50\n"
          ]
        }
      ]
    },
    {
      "cell_type": "code",
      "source": [],
      "metadata": {
        "id": "LRkxsDM69hEZ"
      },
      "execution_count": null,
      "outputs": []
    },
    {
      "cell_type": "code",
      "source": [],
      "metadata": {
        "id": "jyuyvoAN9hGB"
      },
      "execution_count": null,
      "outputs": []
    },
    {
      "cell_type": "code",
      "source": [],
      "metadata": {
        "id": "DZgSz8Ew9hIn"
      },
      "execution_count": null,
      "outputs": []
    },
    {
      "cell_type": "code",
      "source": [],
      "metadata": {
        "id": "8CDLYfmJ9hKT"
      },
      "execution_count": null,
      "outputs": []
    },
    {
      "cell_type": "code",
      "source": [],
      "metadata": {
        "id": "w3lX-RbJ9hM6"
      },
      "execution_count": null,
      "outputs": []
    }
  ]
}